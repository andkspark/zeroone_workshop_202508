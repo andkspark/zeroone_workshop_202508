{
  "cells": [
    {
      "cell_type": "code",
      "execution_count": 78,
      "metadata": {
        "id": "tgWF2j10oSEh",
        "colab": {
          "base_uri": "https://localhost:8080/"
        },
        "outputId": "767a30ac-0e68-4b22-93a9-4dbb684c37cd"
      },
      "outputs": [
        {
          "output_type": "stream",
          "name": "stdout",
          "text": [
            "Requirement already satisfied: langchain in /usr/local/lib/python3.12/dist-packages (0.3.27)\n",
            "Requirement already satisfied: langgraph in /usr/local/lib/python3.12/dist-packages (0.6.6)\n",
            "Requirement already satisfied: langchain-google-genai in /usr/local/lib/python3.12/dist-packages (2.1.9)\n",
            "Requirement already satisfied: langchain-core in /usr/local/lib/python3.12/dist-packages (0.3.74)\n",
            "Requirement already satisfied: langchain-community in /usr/local/lib/python3.12/dist-packages (0.3.27)\n",
            "Requirement already satisfied: langchain-experimental in /usr/local/lib/python3.12/dist-packages (0.3.4)\n",
            "Requirement already satisfied: fpdf in /usr/local/lib/python3.12/dist-packages (1.7.2)\n",
            "Requirement already satisfied: pdfplumber in /usr/local/lib/python3.12/dist-packages (0.11.7)\n",
            "Requirement already satisfied: langchain-text-splitters<1.0.0,>=0.3.9 in /usr/local/lib/python3.12/dist-packages (from langchain) (0.3.9)\n",
            "Requirement already satisfied: langsmith>=0.1.17 in /usr/local/lib/python3.12/dist-packages (from langchain) (0.4.14)\n",
            "Requirement already satisfied: pydantic<3.0.0,>=2.7.4 in /usr/local/lib/python3.12/dist-packages (from langchain) (2.11.7)\n",
            "Requirement already satisfied: SQLAlchemy<3,>=1.4 in /usr/local/lib/python3.12/dist-packages (from langchain) (2.0.43)\n",
            "Requirement already satisfied: requests<3,>=2 in /usr/local/lib/python3.12/dist-packages (from langchain) (2.32.4)\n",
            "Requirement already satisfied: PyYAML>=5.3 in /usr/local/lib/python3.12/dist-packages (from langchain) (6.0.2)\n",
            "Requirement already satisfied: langgraph-checkpoint<3.0.0,>=2.1.0 in /usr/local/lib/python3.12/dist-packages (from langgraph) (2.1.1)\n",
            "Requirement already satisfied: langgraph-prebuilt<0.7.0,>=0.6.0 in /usr/local/lib/python3.12/dist-packages (from langgraph) (0.6.4)\n",
            "Requirement already satisfied: langgraph-sdk<0.3.0,>=0.2.2 in /usr/local/lib/python3.12/dist-packages (from langgraph) (0.2.3)\n",
            "Requirement already satisfied: xxhash>=3.5.0 in /usr/local/lib/python3.12/dist-packages (from langgraph) (3.5.0)\n",
            "Requirement already satisfied: filetype<2.0.0,>=1.2.0 in /usr/local/lib/python3.12/dist-packages (from langchain-google-genai) (1.2.0)\n",
            "Requirement already satisfied: google-ai-generativelanguage<0.7.0,>=0.6.18 in /usr/local/lib/python3.12/dist-packages (from langchain-google-genai) (0.6.18)\n",
            "Requirement already satisfied: tenacity!=8.4.0,<10.0.0,>=8.1.0 in /usr/local/lib/python3.12/dist-packages (from langchain-core) (8.5.0)\n",
            "Requirement already satisfied: jsonpatch<2.0,>=1.33 in /usr/local/lib/python3.12/dist-packages (from langchain-core) (1.33)\n",
            "Requirement already satisfied: typing-extensions>=4.7 in /usr/local/lib/python3.12/dist-packages (from langchain-core) (4.14.1)\n",
            "Requirement already satisfied: packaging>=23.2 in /usr/local/lib/python3.12/dist-packages (from langchain-core) (25.0)\n",
            "Requirement already satisfied: aiohttp<4.0.0,>=3.8.3 in /usr/local/lib/python3.12/dist-packages (from langchain-community) (3.12.15)\n",
            "Requirement already satisfied: dataclasses-json<0.7,>=0.5.7 in /usr/local/lib/python3.12/dist-packages (from langchain-community) (0.6.7)\n",
            "Requirement already satisfied: pydantic-settings<3.0.0,>=2.4.0 in /usr/local/lib/python3.12/dist-packages (from langchain-community) (2.10.1)\n",
            "Requirement already satisfied: httpx-sse<1.0.0,>=0.4.0 in /usr/local/lib/python3.12/dist-packages (from langchain-community) (0.4.1)\n",
            "Requirement already satisfied: numpy>=1.26.2 in /usr/local/lib/python3.12/dist-packages (from langchain-community) (2.0.2)\n",
            "Requirement already satisfied: pdfminer.six==20250506 in /usr/local/lib/python3.12/dist-packages (from pdfplumber) (20250506)\n",
            "Requirement already satisfied: Pillow>=9.1 in /usr/local/lib/python3.12/dist-packages (from pdfplumber) (11.3.0)\n",
            "Requirement already satisfied: pypdfium2>=4.18.0 in /usr/local/lib/python3.12/dist-packages (from pdfplumber) (4.30.0)\n",
            "Requirement already satisfied: charset-normalizer>=2.0.0 in /usr/local/lib/python3.12/dist-packages (from pdfminer.six==20250506->pdfplumber) (3.4.3)\n",
            "Requirement already satisfied: cryptography>=36.0.0 in /usr/local/lib/python3.12/dist-packages (from pdfminer.six==20250506->pdfplumber) (43.0.3)\n",
            "Requirement already satisfied: aiohappyeyeballs>=2.5.0 in /usr/local/lib/python3.12/dist-packages (from aiohttp<4.0.0,>=3.8.3->langchain-community) (2.6.1)\n",
            "Requirement already satisfied: aiosignal>=1.4.0 in /usr/local/lib/python3.12/dist-packages (from aiohttp<4.0.0,>=3.8.3->langchain-community) (1.4.0)\n",
            "Requirement already satisfied: attrs>=17.3.0 in /usr/local/lib/python3.12/dist-packages (from aiohttp<4.0.0,>=3.8.3->langchain-community) (25.3.0)\n",
            "Requirement already satisfied: frozenlist>=1.1.1 in /usr/local/lib/python3.12/dist-packages (from aiohttp<4.0.0,>=3.8.3->langchain-community) (1.7.0)\n",
            "Requirement already satisfied: multidict<7.0,>=4.5 in /usr/local/lib/python3.12/dist-packages (from aiohttp<4.0.0,>=3.8.3->langchain-community) (6.6.4)\n",
            "Requirement already satisfied: propcache>=0.2.0 in /usr/local/lib/python3.12/dist-packages (from aiohttp<4.0.0,>=3.8.3->langchain-community) (0.3.2)\n",
            "Requirement already satisfied: yarl<2.0,>=1.17.0 in /usr/local/lib/python3.12/dist-packages (from aiohttp<4.0.0,>=3.8.3->langchain-community) (1.20.1)\n",
            "Requirement already satisfied: marshmallow<4.0.0,>=3.18.0 in /usr/local/lib/python3.12/dist-packages (from dataclasses-json<0.7,>=0.5.7->langchain-community) (3.26.1)\n",
            "Requirement already satisfied: typing-inspect<1,>=0.4.0 in /usr/local/lib/python3.12/dist-packages (from dataclasses-json<0.7,>=0.5.7->langchain-community) (0.9.0)\n",
            "Requirement already satisfied: google-api-core!=2.0.*,!=2.1.*,!=2.10.*,!=2.2.*,!=2.3.*,!=2.4.*,!=2.5.*,!=2.6.*,!=2.7.*,!=2.8.*,!=2.9.*,<3.0.0,>=1.34.1 in /usr/local/lib/python3.12/dist-packages (from google-api-core[grpc]!=2.0.*,!=2.1.*,!=2.10.*,!=2.2.*,!=2.3.*,!=2.4.*,!=2.5.*,!=2.6.*,!=2.7.*,!=2.8.*,!=2.9.*,<3.0.0,>=1.34.1->google-ai-generativelanguage<0.7.0,>=0.6.18->langchain-google-genai) (2.25.1)\n",
            "Requirement already satisfied: google-auth!=2.24.0,!=2.25.0,<3.0.0,>=2.14.1 in /usr/local/lib/python3.12/dist-packages (from google-ai-generativelanguage<0.7.0,>=0.6.18->langchain-google-genai) (2.38.0)\n",
            "Requirement already satisfied: proto-plus<2.0.0,>=1.22.3 in /usr/local/lib/python3.12/dist-packages (from google-ai-generativelanguage<0.7.0,>=0.6.18->langchain-google-genai) (1.26.1)\n",
            "Requirement already satisfied: protobuf!=4.21.0,!=4.21.1,!=4.21.2,!=4.21.3,!=4.21.4,!=4.21.5,<7.0.0,>=3.20.2 in /usr/local/lib/python3.12/dist-packages (from google-ai-generativelanguage<0.7.0,>=0.6.18->langchain-google-genai) (5.29.5)\n",
            "Requirement already satisfied: jsonpointer>=1.9 in /usr/local/lib/python3.12/dist-packages (from jsonpatch<2.0,>=1.33->langchain-core) (3.0.0)\n",
            "Requirement already satisfied: ormsgpack>=1.10.0 in /usr/local/lib/python3.12/dist-packages (from langgraph-checkpoint<3.0.0,>=2.1.0->langgraph) (1.10.0)\n",
            "Requirement already satisfied: httpx>=0.25.2 in /usr/local/lib/python3.12/dist-packages (from langgraph-sdk<0.3.0,>=0.2.2->langgraph) (0.28.1)\n",
            "Requirement already satisfied: orjson>=3.10.1 in /usr/local/lib/python3.12/dist-packages (from langgraph-sdk<0.3.0,>=0.2.2->langgraph) (3.11.2)\n",
            "Requirement already satisfied: requests-toolbelt>=1.0.0 in /usr/local/lib/python3.12/dist-packages (from langsmith>=0.1.17->langchain) (1.0.0)\n",
            "Requirement already satisfied: zstandard>=0.23.0 in /usr/local/lib/python3.12/dist-packages (from langsmith>=0.1.17->langchain) (0.24.0)\n",
            "Requirement already satisfied: annotated-types>=0.6.0 in /usr/local/lib/python3.12/dist-packages (from pydantic<3.0.0,>=2.7.4->langchain) (0.7.0)\n",
            "Requirement already satisfied: pydantic-core==2.33.2 in /usr/local/lib/python3.12/dist-packages (from pydantic<3.0.0,>=2.7.4->langchain) (2.33.2)\n",
            "Requirement already satisfied: typing-inspection>=0.4.0 in /usr/local/lib/python3.12/dist-packages (from pydantic<3.0.0,>=2.7.4->langchain) (0.4.1)\n",
            "Requirement already satisfied: python-dotenv>=0.21.0 in /usr/local/lib/python3.12/dist-packages (from pydantic-settings<3.0.0,>=2.4.0->langchain-community) (1.1.1)\n",
            "Requirement already satisfied: idna<4,>=2.5 in /usr/local/lib/python3.12/dist-packages (from requests<3,>=2->langchain) (3.10)\n",
            "Requirement already satisfied: urllib3<3,>=1.21.1 in /usr/local/lib/python3.12/dist-packages (from requests<3,>=2->langchain) (2.5.0)\n",
            "Requirement already satisfied: certifi>=2017.4.17 in /usr/local/lib/python3.12/dist-packages (from requests<3,>=2->langchain) (2025.8.3)\n",
            "Requirement already satisfied: greenlet>=1 in /usr/local/lib/python3.12/dist-packages (from SQLAlchemy<3,>=1.4->langchain) (3.2.4)\n",
            "Requirement already satisfied: cffi>=1.12 in /usr/local/lib/python3.12/dist-packages (from cryptography>=36.0.0->pdfminer.six==20250506->pdfplumber) (1.17.1)\n",
            "Requirement already satisfied: googleapis-common-protos<2.0.0,>=1.56.2 in /usr/local/lib/python3.12/dist-packages (from google-api-core!=2.0.*,!=2.1.*,!=2.10.*,!=2.2.*,!=2.3.*,!=2.4.*,!=2.5.*,!=2.6.*,!=2.7.*,!=2.8.*,!=2.9.*,<3.0.0,>=1.34.1->google-api-core[grpc]!=2.0.*,!=2.1.*,!=2.10.*,!=2.2.*,!=2.3.*,!=2.4.*,!=2.5.*,!=2.6.*,!=2.7.*,!=2.8.*,!=2.9.*,<3.0.0,>=1.34.1->google-ai-generativelanguage<0.7.0,>=0.6.18->langchain-google-genai) (1.70.0)\n",
            "Requirement already satisfied: grpcio<2.0.0,>=1.33.2 in /usr/local/lib/python3.12/dist-packages (from google-api-core[grpc]!=2.0.*,!=2.1.*,!=2.10.*,!=2.2.*,!=2.3.*,!=2.4.*,!=2.5.*,!=2.6.*,!=2.7.*,!=2.8.*,!=2.9.*,<3.0.0,>=1.34.1->google-ai-generativelanguage<0.7.0,>=0.6.18->langchain-google-genai) (1.74.0)\n",
            "Requirement already satisfied: grpcio-status<2.0.0,>=1.33.2 in /usr/local/lib/python3.12/dist-packages (from google-api-core[grpc]!=2.0.*,!=2.1.*,!=2.10.*,!=2.2.*,!=2.3.*,!=2.4.*,!=2.5.*,!=2.6.*,!=2.7.*,!=2.8.*,!=2.9.*,<3.0.0,>=1.34.1->google-ai-generativelanguage<0.7.0,>=0.6.18->langchain-google-genai) (1.71.2)\n",
            "Requirement already satisfied: cachetools<6.0,>=2.0.0 in /usr/local/lib/python3.12/dist-packages (from google-auth!=2.24.0,!=2.25.0,<3.0.0,>=2.14.1->google-ai-generativelanguage<0.7.0,>=0.6.18->langchain-google-genai) (5.5.2)\n",
            "Requirement already satisfied: pyasn1-modules>=0.2.1 in /usr/local/lib/python3.12/dist-packages (from google-auth!=2.24.0,!=2.25.0,<3.0.0,>=2.14.1->google-ai-generativelanguage<0.7.0,>=0.6.18->langchain-google-genai) (0.4.2)\n",
            "Requirement already satisfied: rsa<5,>=3.1.4 in /usr/local/lib/python3.12/dist-packages (from google-auth!=2.24.0,!=2.25.0,<3.0.0,>=2.14.1->google-ai-generativelanguage<0.7.0,>=0.6.18->langchain-google-genai) (4.9.1)\n",
            "Requirement already satisfied: anyio in /usr/local/lib/python3.12/dist-packages (from httpx>=0.25.2->langgraph-sdk<0.3.0,>=0.2.2->langgraph) (4.10.0)\n",
            "Requirement already satisfied: httpcore==1.* in /usr/local/lib/python3.12/dist-packages (from httpx>=0.25.2->langgraph-sdk<0.3.0,>=0.2.2->langgraph) (1.0.9)\n",
            "Requirement already satisfied: h11>=0.16 in /usr/local/lib/python3.12/dist-packages (from httpcore==1.*->httpx>=0.25.2->langgraph-sdk<0.3.0,>=0.2.2->langgraph) (0.16.0)\n",
            "Requirement already satisfied: mypy-extensions>=0.3.0 in /usr/local/lib/python3.12/dist-packages (from typing-inspect<1,>=0.4.0->dataclasses-json<0.7,>=0.5.7->langchain-community) (1.1.0)\n",
            "Requirement already satisfied: pycparser in /usr/local/lib/python3.12/dist-packages (from cffi>=1.12->cryptography>=36.0.0->pdfminer.six==20250506->pdfplumber) (2.22)\n",
            "Requirement already satisfied: pyasn1<0.7.0,>=0.6.1 in /usr/local/lib/python3.12/dist-packages (from pyasn1-modules>=0.2.1->google-auth!=2.24.0,!=2.25.0,<3.0.0,>=2.14.1->google-ai-generativelanguage<0.7.0,>=0.6.18->langchain-google-genai) (0.6.1)\n",
            "Requirement already satisfied: sniffio>=1.1 in /usr/local/lib/python3.12/dist-packages (from anyio->httpx>=0.25.2->langgraph-sdk<0.3.0,>=0.2.2->langgraph) (1.3.1)\n"
          ]
        }
      ],
      "source": [
        "!pip install langchain langgraph langchain-google-genai langchain-core langchain-community langchain-experimental fpdf pdfplumber"
      ]
    },
    {
      "cell_type": "code",
      "execution_count": 79,
      "metadata": {
        "id": "4jLETHnXnKBh"
      },
      "outputs": [],
      "source": [
        "from langchain_core.runnables import RunnableConfig\n",
        "from langchain.schema import AIMessage\n",
        "from typing import Annotated, Literal\n",
        "from typing_extensions import TypedDict\n",
        "from langchain_google_genai import ChatGoogleGenerativeAI\n",
        "from langchain_community.tools.tavily_search import TavilySearchResults\n",
        "from langgraph.graph import StateGraph, START, END\n",
        "from langgraph.graph.message import add_messages\n",
        "from langgraph.prebuilt import ToolNode\n",
        "from langgraph.checkpoint.memory import MemorySaver\n",
        "from langchain_core.prompts import PromptTemplate\n",
        "from langchain_core.tools import tool\n",
        "from langchain_community.agent_toolkits import FileManagementToolkit\n",
        "from langchain_experimental.tools.python.tool import PythonAstREPLTool\n",
        "from pydantic import BaseModel, Field\n",
        "from fpdf import FPDF\n",
        "import random\n",
        "import pdfplumber\n",
        "import os\n",
        "import requests\n",
        "import warnings\n",
        "\n",
        "warnings.filterwarnings(\"ignore\")"
      ]
    },
    {
      "cell_type": "code",
      "source": [
        "from google.colab import drive\n",
        "drive.mount('/content/drive')"
      ],
      "metadata": {
        "colab": {
          "base_uri": "https://localhost:8080/"
        },
        "id": "VptBPTdB9xf3",
        "outputId": "acbd764a-10d5-4648-fd6f-3e09734db127"
      },
      "execution_count": 80,
      "outputs": [
        {
          "output_type": "stream",
          "name": "stdout",
          "text": [
            "Drive already mounted at /content/drive; to attempt to forcibly remount, call drive.mount(\"/content/drive\", force_remount=True).\n"
          ]
        }
      ]
    },
    {
      "cell_type": "code",
      "execution_count": 81,
      "metadata": {
        "id": "YtLQpBZQIHsa"
      },
      "outputs": [],
      "source": [
        "google_api_key = \"\" # @param {\"type\":\"string\"}\n",
        "tavily_api_key = \"\" # @param {\"type\":\"string\"}"
      ]
    },
    {
      "cell_type": "code",
      "execution_count": 82,
      "metadata": {
        "id": "y8azdfq-l-ps"
      },
      "outputs": [],
      "source": [
        "os.environ[\"google_api_key\"] = google_api_key\n",
        "os.environ[\"GOOGLE_API_KEY\"] = google_api_key\n",
        "os.environ[\"TAVILY_API_KEY\"] = tavily_api_key"
      ]
    },
    {
      "cell_type": "code",
      "execution_count": 83,
      "metadata": {
        "id": "AuwqB6S6nKBl"
      },
      "outputs": [],
      "source": [
        "# 그래프 상태 정의\n",
        "\n",
        "class State(TypedDict):\n",
        "    query : Annotated[str, \"User Question\"]\n",
        "    answer : Annotated[str, \"LLM response\"]\n",
        "    messages : Annotated[list, add_messages]\n",
        "    tool_call : Annotated[dict, \"Tool Call Result\"]"
      ]
    },
    {
      "cell_type": "code",
      "execution_count": 84,
      "metadata": {
        "id": "G-CNSwr0qnsi"
      },
      "outputs": [],
      "source": [
        "# LLM 정의\n",
        "\n",
        "llm = ChatGoogleGenerativeAI(model=\"gemini-2.0-flash\",\n",
        "                             temperature=0,\n",
        "                             convert_system_message_to_human=True)\n",
        "\n",
        "# llm = ChatGoogleGenerativeAI(model=\"gemini-2.0-flash\",\n",
        "#                              temperature=0,\n",
        "#                              convert_system_message_to_human=True)"
      ]
    },
    {
      "cell_type": "code",
      "execution_count": 85,
      "metadata": {
        "id": "vNMa89_7nKBm"
      },
      "outputs": [],
      "source": [
        "@tool\n",
        "def read_pdf(file_path: str):\n",
        "    \"\"\"\n",
        "    PDF 파일에서 텍스트를 추출하는 도구입니다.\n",
        "    표 형식 또는 일반 텍스트가 포함된 PDF를 읽고 문자열로 반환합니다.\n",
        "\n",
        "    file_path 예시: './report.pdf'\n",
        "    \"\"\"\n",
        "    try:\n",
        "        text = \"\"\n",
        "        with pdfplumber.open(file_path) as pdf:\n",
        "            for page in pdf.pages:\n",
        "                page_text = page.extract_text()\n",
        "                if page_text:\n",
        "                    text += page_text + \"\\n\"\n",
        "        return text.strip() if text.strip() else \"❌ PDF에서 텍스트를 추출할 수 없습니다.\"\n",
        "    except Exception as e:\n",
        "        return f\"❌ PDF 읽기 오류: {str(e)}\""
      ]
    },
    {
      "cell_type": "code",
      "execution_count": 86,
      "metadata": {
        "id": "xqkLXOw6nKBn"
      },
      "outputs": [],
      "source": [
        "@tool\n",
        "def write_pdf(content: str, filename: str = \"output.pdf\", summary: bool =True):\n",
        "    \"\"\"\n",
        "    텍스트를 PDF 파일로 저장하는 도구입니다.\n",
        "    PDF형태의 문서로 만들어야할 때 이 도구를 사용하세요.\n",
        "    \"\"\"\n",
        "\n",
        "    if summary:\n",
        "        prompt = PromptTemplate.from_template(\"\"\"\n",
        "                당신은 보고서를 작성하는 어시스턴트입니다. 당신에겐 문서 모음이 제공되고 이를 잘 분석하여 보고서를 작성하여야 합니다.\n",
        "                아래의 content는 문서 모음입니다. 문서의 제목, 본문을 잘 판단하고 정리하여 요약합니다.\n",
        "                항상 구조화된 출력을 제공하세요.\n",
        "                항상 마지막엔 인사이트도 첨부합니다.\n",
        "\n",
        "                content : {content}\n",
        "                \"\"\")\n",
        "\n",
        "        chain = prompt | llm\n",
        "\n",
        "        content = chain.invoke({\"content\":content}).content\n",
        "\n",
        "    else:\n",
        "        pass\n",
        "\n",
        "    font_url = \"https://github.com/google/fonts/raw/main/ofl/notosanskr/NotoSansKR%5Bwght%5D.ttf\"\n",
        "    font_path = \"./fonts/NotoSansKR.ttf\"\n",
        "\n",
        "    try:\n",
        "        os.mkdir(\"./fonts/\")\n",
        "        response = requests.get(font_url)\n",
        "        with open(font_path, \"wb\") as f:\n",
        "            f.write(response.content)\n",
        "    except:\n",
        "        pass\n",
        "\n",
        "    pdf = FPDF()\n",
        "    pdf.add_page()\n",
        "    pdf.set_auto_page_break(auto=True, margin=15)\n",
        "\n",
        "    font_path = \"./fonts/NotoSansKR.ttf\"  # <-- 여기에 실제 폰트 파일이 있어야 함\n",
        "\n",
        "    try:\n",
        "        pdf.add_font(\"NotoSans\", \"\", font_path, uni=True)\n",
        "        pdf.set_font(\"NotoSans\", size=12)\n",
        "    except:\n",
        "        raise ValueError(\"한글 폰트를 등록할 수 없습니다.\")\n",
        "\n",
        "    for line in content.split(\"\\n\"):\n",
        "        pdf.multi_cell(0, 10, line)\n",
        "    pdf.output(f\"./{filename}\")\n",
        "\n",
        "    return f\"{filename} 저장 완료\""
      ]
    },
    {
      "cell_type": "code",
      "execution_count": 87,
      "metadata": {
        "id": "sKMUZEXPIHsc"
      },
      "outputs": [],
      "source": [
        "# 툴 정의\n",
        "# TavilySearchResults : 웹 검색 도구\n",
        "# PythonAstREPLTool : 파이썬 코드 실행 도구\n",
        "# write_pdf : pdf 생성 도구\n",
        "# read_pdf : pdf 읽기 도구\n",
        "# file_delete : 파일 삭제 도구\n",
        "# list_directory : 파일 목록 읽기 도구\n",
        "\n",
        "tools = [TavilySearchResults(max_results=10), PythonAstREPLTool(), write_pdf, read_pdf, *FileManagementToolkit(\n",
        "                                                                            selected_tools=[\"file_delete\",\"list_directory\"]).get_tools()]\n",
        "search_tool, code_tool, write_tool, read_tool, delete_tool, listdir_tool= tools"
      ]
    },
    {
      "cell_type": "code",
      "execution_count": 88,
      "metadata": {
        "id": "TmTiddGxyB6K",
        "colab": {
          "base_uri": "https://localhost:8080/",
          "height": 35
        },
        "outputId": "f709e3fe-6b98-4c3c-b742-f349389a0964"
      },
      "outputs": [
        {
          "output_type": "execute_result",
          "data": {
            "text/plain": [
              "'ZeroOne_report.pdf 저장 완료'"
            ],
            "application/vnd.google.colaboratory.intrinsic+json": {
              "type": "string"
            }
          },
          "metadata": {},
          "execution_count": 88
        }
      ],
      "source": [
        "# PDF 쓰기 도구 예시\n",
        "\n",
        "write_tool.invoke({\"content\":\"안녕하세요! \\nZeroOne Report Agent 예제코드입니다.\", \"filename\":\"ZeroOne_report.pdf\", \"summary\":False})"
      ]
    },
    {
      "cell_type": "code",
      "execution_count": 89,
      "metadata": {
        "id": "Rany0FPunZaL",
        "colab": {
          "base_uri": "https://localhost:8080/"
        },
        "outputId": "20af3247-c69a-4d4e-a831-86f5d2f4f492"
      },
      "outputs": [
        {
          "output_type": "stream",
          "name": "stdout",
          "text": [
            "\n",
            "\n",
            " 안녕하세요!\n",
            "ZeroOne Report Agent 예제코드입니다.\n"
          ]
        }
      ],
      "source": [
        "# PDF 읽기 도구 예시\n",
        "\n",
        "print(\"\\n\\n\", read_tool.invoke(\"ZeroOne_report.pdf\"))"
      ]
    },
    {
      "cell_type": "code",
      "source": [
        "# 파일 목록 도구 예시\n",
        "\n",
        "print(listdir_tool.invoke(input=\"\"))"
      ],
      "metadata": {
        "id": "bBAYyu8xYpM_",
        "colab": {
          "base_uri": "https://localhost:8080/"
        },
        "outputId": "4a090385-65d6-4cae-b071-c3819a3d5983"
      },
      "execution_count": 90,
      "outputs": [
        {
          "output_type": "stream",
          "name": "stdout",
          "text": [
            ".config\n",
            "fonts\n",
            "drive\n",
            ".ipynb_checkpoints\n",
            "ZeroOne_report.pdf\n",
            "sample_data\n"
          ]
        }
      ]
    },
    {
      "cell_type": "code",
      "execution_count": 91,
      "metadata": {
        "id": "VDLWFnegnikc",
        "colab": {
          "base_uri": "https://localhost:8080/",
          "height": 35
        },
        "outputId": "22215768-c186-4102-eae3-7c8c4497b2b8"
      },
      "outputs": [
        {
          "output_type": "execute_result",
          "data": {
            "text/plain": [
              "'File deleted successfully: ZeroOne_report.pdf.'"
            ],
            "application/vnd.google.colaboratory.intrinsic+json": {
              "type": "string"
            }
          },
          "metadata": {},
          "execution_count": 91
        }
      ],
      "source": [
        "# 삭제 도구 예시\n",
        "\n",
        "delete_tool.invoke(\"ZeroOne_report.pdf\")"
      ]
    },
    {
      "cell_type": "code",
      "execution_count": 92,
      "metadata": {
        "id": "0uOvOZf3nKBn"
      },
      "outputs": [],
      "source": [
        "# LLM에게 도구 할당\n",
        "\n",
        "llm_with_tools = llm.bind_tools(tools)"
      ]
    },
    {
      "cell_type": "code",
      "execution_count": 93,
      "metadata": {
        "id": "UrMAISv-nKBo"
      },
      "outputs": [],
      "source": [
        "# 전체 메시지 중 마지막 메시지를 제외하고 최대 8개까지 단기 기억(history)으로 추출\n",
        "\n",
        "def shorterm_memory(state:State):\n",
        "\n",
        "    if len(state[\"messages\"]) > 8:\n",
        "        history = state[\"messages\"][-8:-1]\n",
        "    elif len(state[\"messages\"]) == 1:\n",
        "        history = \"\"\n",
        "    else:\n",
        "        history = state[\"messages\"][:-1]\n",
        "\n",
        "    return history"
      ]
    },
    {
      "cell_type": "code",
      "execution_count": 94,
      "metadata": {
        "id": "gsqpQmxknKBo"
      },
      "outputs": [],
      "source": [
        "class HistoryChecker(BaseModel):\n",
        "    \"\"\"\n",
        "    이전의 대화 기록을 참고하여 질문에 대해 답변할 수 있는지 판단합니다.\n",
        "    답변할 수 있다면 \"yes\", 답변할 수 없다면 \"no\"를 반환합니다.\n",
        "    \"\"\"\n",
        "\n",
        "    yes_no : Literal[\"yes\", \"no\"] = Field(..., description=\"\"\"Use your previous conversation history to determine if you can answer your questions.\n",
        "    Return \"yes\" if you can answer, \"no\" if you can't answer.\"\"\")"
      ]
    },
    {
      "cell_type": "code",
      "execution_count": 95,
      "metadata": {
        "id": "7SsCloETnKBp"
      },
      "outputs": [],
      "source": [
        "# 히스토리 기반 답변 분기를 위한 함수 설정\n",
        "\n",
        "def history_check(state:State):\n",
        "\n",
        "    prompt = PromptTemplate.from_template(\"\"\"\n",
        "\n",
        "                이전의 대화 기록을 참고하여 질문에 대해 답변할 수 있는지 판단합니다.\n",
        "                답변할 수 있다면 \"yes\", 답변할 수 없다면 \"no\"를 반환합니다.\n",
        "\n",
        "                대화 기록 : {history}\n",
        "\n",
        "                질문 : {query}\n",
        "\n",
        "                \"\"\")\n",
        "\n",
        "    chain = prompt | history_checker\n",
        "\n",
        "    history = shorterm_memory(state)\n",
        "\n",
        "    result = chain.invoke({\"history\":history,\n",
        "                            \"query\":state[\"query\"]})\n",
        "\n",
        "    return result.yes_no"
      ]
    },
    {
      "cell_type": "code",
      "execution_count": 96,
      "metadata": {
        "id": "CDAlnV3dnKBp"
      },
      "outputs": [],
      "source": [
        "# LLM의 응답을 HistoryChecker 클래스 구조에 맞춰 파싱하도록 설정\n",
        "\n",
        "history_checker = llm.with_structured_output(HistoryChecker)"
      ]
    },
    {
      "cell_type": "code",
      "execution_count": 97,
      "metadata": {
        "id": "fx8dfRdlnKBp"
      },
      "outputs": [],
      "source": [
        "# 기억 기반 답변 노드\n",
        "\n",
        "def memory_chat(state:State):\n",
        "\n",
        "    prompt = PromptTemplate.from_template(\"\"\"\n",
        "\n",
        "                이전의 대화 기록을 참고하여 질문에 대해 답변하세요.\n",
        "                아래 대화 기록을 첨부합니다.\n",
        "                대화 기록을 통해 답변이 어렵다면 내부 지식을 참조하세요.\n",
        "\n",
        "                대화 기록 : {history}\n",
        "\n",
        "                질문 : {query}\n",
        "\n",
        "                \"\"\")\n",
        "\n",
        "\n",
        "    chain = prompt | llm\n",
        "\n",
        "    history = shorterm_memory(state)\n",
        "\n",
        "    result = chain.invoke({\"history\":history,\n",
        "                           \"query\":state[\"query\"]})\n",
        "\n",
        "    if len(state[\"tool_call\"]) == 0:\n",
        "        return {\"answer\":result.content,\n",
        "                \"messages\":result,\n",
        "                \"tool_call\":\"사용된 기록 없음.\"}\n",
        "    else:\n",
        "        return {\"answer\":result.content,\n",
        "                \"messages\":result}"
      ]
    },
    {
      "cell_type": "code",
      "execution_count": 98,
      "metadata": {
        "id": "ZLm8qqC7nKBq"
      },
      "outputs": [],
      "source": [
        "# 기억 기반 답변 분기 노드\n",
        "\n",
        "def history_node(state:State):\n",
        "    if len(state[\"messages\"]) == 1:\n",
        "        return {\"answer\":\"답변 없음\",\n",
        "                \"tool_call\":\"사용된 도구 없음\"}\n",
        "    else:\n",
        "        return state"
      ]
    },
    {
      "cell_type": "code",
      "execution_count": 99,
      "metadata": {
        "id": "IVxNiGN0nKBq"
      },
      "outputs": [],
      "source": [
        "# 도구 선택 노드\n",
        "\n",
        "def select(\n",
        "    state: State,\n",
        "):\n",
        "\n",
        "    prompt = PromptTemplate.from_template(\"\"\"\n",
        "\n",
        "                이전의 대화 기록을 참고하여 질문에 대해 답변하세요.\n",
        "                아래 대화 기록을 첨부합니다.\n",
        "                이전의 대화가 다음에 어떤 도구를 사용해야하는지 힌트가 될 수 있습니다. 꼭 참조하세요.\n",
        "                도구의 변화가 큰 결과를 가져올 수 있습니다.\n",
        "                들어온 메시지, 정답, 이전 기록을 모두 분석하여 가장 적절한 도구를 선택하세요.\n",
        "\n",
        "                대화 기록 : {history}\n",
        "\n",
        "                최근 사용한 도구 : {tool_name}\n",
        "\n",
        "                정답 : {answer}\n",
        "\n",
        "                질문 : {query}\n",
        "\n",
        "                \"\"\")\n",
        "\n",
        "    chain = prompt | llm_with_tools\n",
        "\n",
        "    history = shorterm_memory(state)\n",
        "\n",
        "    result = chain.invoke({\"history\" : history,\n",
        "                           \"tool_name\" : state[\"tool_call\"],\n",
        "                            \"answer\": state[\"answer\"],\n",
        "                            \"query\": state[\"query\"]})\n",
        "\n",
        "    if hasattr(result, \"tool_calls\") and len(result.tool_calls) > 0:\n",
        "        tool_calls = result.tool_calls\n",
        "\n",
        "        return {\"messages\": result,\n",
        "                \"tool_call\":tool_calls}\n",
        "    else:\n",
        "        return {\"messages\":AIMessage(content=f\"\"\"도구를 선택하지 못했습니다. 적절한 도구를 재선택하세요.\n",
        "                                        \"\"\"),\n",
        "                                    \"tool_call\":\"선택된 도구 없음\"}\n",
        "\n"
      ]
    },
    {
      "cell_type": "code",
      "execution_count": 100,
      "metadata": {
        "id": "y6s0RyEfnKBq"
      },
      "outputs": [],
      "source": [
        "# 도구 실행 노드\n",
        "\n",
        "tool_node = ToolNode(tools)"
      ]
    },
    {
      "cell_type": "code",
      "execution_count": 101,
      "metadata": {
        "id": "gD-vMnQenKBq"
      },
      "outputs": [],
      "source": [
        "class AnswerChecker(BaseModel):\n",
        "    \"\"\"\n",
        "    정답 분류기입니다.\n",
        "\n",
        "    정답이 질문을 해결했는지 여부를 판단합니다.\n",
        "    질문을 해결하지 못했을 시 해결될 때까지 도구를 이용합니다.\n",
        "\n",
        "    질문을 해결했다면 \"end\", 해결하지 못했다면 \"tool\"을 반환합니다.\n",
        "    \"\"\"\n",
        "\n",
        "\n",
        "    end : Literal[\"end\", \"tool\"] = Field(..., description=\"\"\"You are the answer sorter.\n",
        "\n",
        "                                                                Determine if the correct answer has solved the question.\n",
        "                                                                If the question is not resolved, use the tool until it is resolved.\n",
        "\n",
        "                                                                Return \"end\" if you solved the question, or \"tool\" if you didn't.\"\"\")"
      ]
    },
    {
      "cell_type": "code",
      "execution_count": 102,
      "metadata": {
        "id": "51lPyxhdnKBr"
      },
      "outputs": [],
      "source": [
        "# LLM의 응답을 AnswerChecker 클래스 구조에 맞춰 파싱하도록 설정\n",
        "\n",
        "answer_checker = llm.with_structured_output(AnswerChecker)"
      ]
    },
    {
      "cell_type": "code",
      "execution_count": 103,
      "metadata": {
        "id": "zyZTkR8fnKBr"
      },
      "outputs": [],
      "source": [
        "# 답변 확인 노드\n",
        "\n",
        "def response(state:State):\n",
        "\n",
        "    return {\"answer\":state[\"messages\"][-1]}"
      ]
    },
    {
      "cell_type": "code",
      "execution_count": 104,
      "metadata": {
        "id": "mBV4ASvjnKBr"
      },
      "outputs": [],
      "source": [
        "# 답변 완성 판단 분기 함수\n",
        "\n",
        "def answer_check(state:State):\n",
        "\n",
        "    prompt = PromptTemplate.from_template(\"\"\"\n",
        "    당신은 정답 분류기 어시스턴트입니다.\n",
        "\n",
        "    정답이 질문을 해결하였는지 여부를 판단합니다.\n",
        "    질문을 해결하지 못했다면 도구를 이용합니다.\n",
        "\n",
        "    질문을 해결하였다면 \"end\", 아니라면 \"tool\"을 반환합니다.\n",
        "\n",
        "    기존 History도 참고하여 답변하세요.\n",
        "\n",
        "    History : {history}\n",
        "\n",
        "    정답 : {answer}\n",
        "\n",
        "    질문 : {query}\n",
        "    \"\"\")\n",
        "\n",
        "    chain = prompt | answer_checker\n",
        "\n",
        "    history = shorterm_memory(state)\n",
        "\n",
        "    result = chain.invoke({\"history\" : history,\n",
        "                            \"answer\": state[\"answer\"],\n",
        "                            \"query\": state[\"query\"]})\n",
        "\n",
        "    return result.end"
      ]
    },
    {
      "cell_type": "code",
      "execution_count": 105,
      "metadata": {
        "id": "50EDu4mOnKBr"
      },
      "outputs": [],
      "source": [
        "# 그래프 정의\n",
        "\n",
        "graph_builder = StateGraph(State)"
      ]
    },
    {
      "cell_type": "code",
      "execution_count": 106,
      "metadata": {
        "id": "qDdqjxeNnKBr"
      },
      "outputs": [],
      "source": [
        "# 노드 및 엣지 정의\n",
        "\n",
        "graph_builder.add_node(\"history_node\", history_node)\n",
        "graph_builder.add_node(\"memory_chat\", memory_chat)\n",
        "graph_builder.add_node(\"select\", select)\n",
        "graph_builder.add_node(\"tools\", tool_node)\n",
        "graph_builder.add_node(\"response\", response)\n",
        "\n",
        "\n",
        "graph_builder.add_edge(START, \"history_node\")\n",
        "graph_builder.add_conditional_edges(\"history_node\",\n",
        "                            history_check,\n",
        "                            {\"yes\":\"memory_chat\",\n",
        "                             \"no\":\"select\"})\n",
        "graph_builder.add_edge(\"select\", \"tools\")\n",
        "graph_builder.add_edge(\"tools\", \"response\")\n",
        "graph_builder.add_edge(\"memory_chat\", \"response\")\n",
        "graph_builder.add_conditional_edges(\"response\",\n",
        "                                    answer_check,\n",
        "                                    {\"end\":END,\n",
        "                                    \"tool\":\"select\"});"
      ]
    },
    {
      "cell_type": "code",
      "execution_count": 107,
      "metadata": {
        "id": "X8Z71CK8nKBr"
      },
      "outputs": [],
      "source": [
        "# 메모리 설정 및 그래프 컴파일\n",
        "\n",
        "memory = MemorySaver()\n",
        "\n",
        "graph = graph_builder.compile(checkpointer=memory)"
      ]
    },
    {
      "cell_type": "code",
      "execution_count": 108,
      "metadata": {
        "id": "YQ2jWtlinKBs",
        "colab": {
          "base_uri": "https://localhost:8080/",
          "height": 635
        },
        "outputId": "cfa505d2-ab14-4dc4-c968-02f1ae0a30e6"
      },
      "outputs": [
        {
          "output_type": "execute_result",
          "data": {
            "text/plain": [
              "<langgraph.graph.state.CompiledStateGraph object at 0x7e66c62d5ca0>"
            ],
            "image/png": "[encoded data removed]"
          },
          "metadata": {},
          "execution_count": 108
        }
      ],
      "source": [
        "# 그래프 시각화\n",
        "# 가끔 \"ReadTimeout: HTTPSConnectionPool(host='mermaid.ink', port=443): Read timed out. (read timeout=10)\"라는 에러가 발생\n",
        "# 시간 초과로 그래프 생성에 실패했다는 메시지일뿐 기능과는 관계없으니 진행해도 괜찮습니다.\n",
        "\n",
        "graph"
      ]
    },
    {
      "cell_type": "code",
      "execution_count": 109,
      "metadata": {
        "id": "XWcfKPoOnKBr"
      },
      "outputs": [],
      "source": [
        "# config 재생성 노드, config의 재사용은 고려되지 않음. 재사용한다면 변수에 할당하여 사용할 것\n",
        "\n",
        "def reset_config(limit=20):\n",
        "\n",
        "    thread_id=random.randint(1,999999)\n",
        "\n",
        "    config = RunnableConfig(recursion_limit=limit, configurable={\"thread_id\": thread_id})\n",
        "\n",
        "    return config"
      ]
    },
    {
      "cell_type": "code",
      "execution_count": 110,
      "metadata": {
        "id": "07_bBQgHnKBs"
      },
      "outputs": [],
      "source": [
        "# 출력 함수 정의\n",
        "# mode = \"values\" : 상태의 키, 값의 형태로 반환\n",
        "# mode = \"updates\" : 업데이트되는 값만 반환\n",
        "\n",
        "def streaming(query, config, mode=\"values\"):\n",
        "\n",
        "    result = graph.stream({\"messages\":(\"user\", query),\n",
        "                         \"query\":query}, config=config, stream_mode=mode)\n",
        "\n",
        "    if mode == \"values\":\n",
        "        for step in result:\n",
        "            for k, v in step.items():\n",
        "                if k == \"messages\":\n",
        "                    v[-1].pretty_print()\n",
        "    elif mode == \"updates\":\n",
        "        for step in result:\n",
        "            for k,v in step.items():\n",
        "                print(f\"\\n\\n=== {k} ===\\n\\n\")\n",
        "                print(v)\n",
        "\n",
        "    return"
      ]
    },
    {
      "cell_type": "code",
      "execution_count": 111,
      "metadata": {
        "id": "rI6E1DvhnKBs",
        "colab": {
          "base_uri": "https://localhost:8080/"
        },
        "outputId": "d43f4b89-44f2-4e9a-a823-456c9483c976"
      },
      "outputs": [
        {
          "output_type": "stream",
          "name": "stdout",
          "text": [
            "================================\u001b[1m Human Message \u001b[0m=================================\n",
            "\n",
            "1+1은 뭔가요?\n",
            "================================\u001b[1m Human Message \u001b[0m=================================\n",
            "\n",
            "1+1은 뭔가요?\n",
            "==================================\u001b[1m Ai Message \u001b[0m==================================\n",
            "\n",
            "2\n",
            "==================================\u001b[1m Ai Message \u001b[0m==================================\n",
            "\n",
            "2\n"
          ]
        }
      ],
      "source": [
        "config = reset_config()\n",
        "\n",
        "query = \"1+1은 뭔가요?\"\n",
        "\n",
        "streaming(query, config)"
      ]
    },
    {
      "cell_type": "code",
      "execution_count": 112,
      "metadata": {
        "id": "3KUL2l9hIHsf",
        "colab": {
          "base_uri": "https://localhost:8080/"
        },
        "outputId": "06a22e4e-9768-4c2b-f3c4-2950c0eb332a"
      },
      "outputs": [
        {
          "output_type": "stream",
          "name": "stdout",
          "text": [
            "================================\u001b[1m Human Message \u001b[0m=================================\n",
            "\n",
            "현대자동차라는 회사에 대해 조사해주세요. 잘 정리된 보고서를 제공해주십시오. pdf 포멧의 파일로 받기를 희망합니다.\n",
            "================================\u001b[1m Human Message \u001b[0m=================================\n",
            "\n",
            "현대자동차라는 회사에 대해 조사해주세요. 잘 정리된 보고서를 제공해주십시오. pdf 포멧의 파일로 받기를 희망합니다.\n",
            "==================================\u001b[1m Ai Message \u001b[0m==================================\n",
            "\n",
            "현대자동차에 대한 보고서를 PDF 형식으로 제공해 드리겠습니다. 먼저, 현대자동차에 대한 정보를 검색하고, 이를 바탕으로 보고서를 작성한 다음, PDF 파일로 저장하겠습니다.\n",
            "Tool Calls:\n",
            "  tavily_search_results_json (beb797c4-54d7-477c-b479-aec74aff7048)\n",
            " Call ID: beb797c4-54d7-477c-b479-aec74aff7048\n",
            "  Args:\n",
            "    query: 현대자동차\n",
            "=================================\u001b[1m Tool Message \u001b[0m=================================\n",
            "Name: tavily_search_results_json\n",
            "\n",
            "[{\"title\": \"Hyundai Motor Company\", \"url\": \"https://en.wikipedia.org/wiki/Hyundai_Motor_Company\", \"content\": \"Hyundai Motor Company, often referred to as Hyundai Motors (Korean:현대자동차listenⓘ) and commonly known as Hyundai (현대; ( \\\"Help:IPA/Korean\\\")( 'modernity'), is a South Korean multinationalautomotive manufacturer headquartered in Seoul, South Korea, which was founded in 1967. Currently, the company owns 33.88 percent of Kia Corporation,( and owns a luxury cars subsidiary, Genesis.( The three brands altogether make up the Hyundai Motor Group. [...] Chung Ju-yung (1915–2001) founded the Hyundai Engineering and Construction Company in 1947. Hyundai Motor Company was later established in 1967, and the company's first model, the Cortina, was released in cooperation with Ford Motor Company in 1968.( When Hyundai wanted to develop their own car, they hired George Turnbull \\\"George Turnbull (businessman)\\\") in February 1974, the former managing director of Austin Morris at British Leyland. He in turn hired five other top British car engineers. [...] Hyundai cars are also manufactured in Egypt, the local manufacturer is the Ghabbour Group, which is located in Cairo. They have a big model range and offers sports models of some car models which are only offered on the Egypt market. Formerly, the company had assembled vehicles such as the Verna.\\n\\nProduct line\\n------------\\n\\nFurther information: List of Hyundai vehicles\\n\\nHyundai produces sedans, hatchbacks, crossover SUVs, vans, pickups, heavy trucks and buses in numerous plants worldwide.\", \"score\": 0.90692574}, {\"title\": \"HYUNDAI Models, Photos, Specs & Engines (1989-Present)\", \"url\": \"https://www.autoevolution.com/hyundai/\", \"content\": \"Hyundai is a self-grown South Korean brand of automobiles established in the 1960's. Presently part of the Hyundai Kia Automotive Group, the motor company has registered a steady growth over the past few decades, having successfully entered European and American markets. The assembly lines operated by the company were built to match its size, the manufacturing facility in Ulsan being able to produce 1.6 million units per year. [...] Founded by Chung Ju Yung, born into a poor family of farmers, the Hyundai Motor Company became the first Korean car producer. The grounds for founding a car company could not have been more welcoming since post-war years in Korea brought forth a series of odd politics one of which stated that automobile imports were better than having a Korean car brand. [...] Hyundai is currently operating in 193 countries, selling vehicles through approximately 5,000 showrooms and dealerships. Sales have also aided image growth, the brand having entered the first 100 most valuable brands of the world. Its recent history is strongly connected to investments in technology and ample advertising campaigns. Indeed, communication is one of Hyundai's inherent elements, best described by their logo: the stylized H is in fact a representation of two men (brand-buyer)\", \"score\": 0.82254606}, {\"title\": \"Hyundai History: A Legacy of Innovation\", \"url\": \"https://www.earnhardthyundai.com/hyundai-history\", \"content\": \"Chung Ju-Yung founded the Hyundai Motor Company in 1947 as Hyundai Engineering and Construction Co. Hyundai Motor Co. (HMC), established in 1967, is the auto sales leader in the Korean domestic market and exports vehicles to 190 countries worldwide. [...] Hyundai Motor Co. operates the world's largest integrated automobile manufacturing facility in Ulsan, located on Korea's southeast coast. In 1996, Hyundai opened the Namyang Technology Research Center, which includes a complete testing facility with a 2.8-mile oval test track and a new $40 million aeroacoustic wind tunnel. That same year, HMC began production at its state-of-the-art Asan Plant, located southeast of Seoul. [...] Hyundai's cars and sport utility vehicles continue to provide customers a high level of content and performance at an affordable price. Every vehicle in the lineup demonstrates Hyundai's emergence as an auto manufacturer whose products compete successfully in technology, quality, styling and refinement with automobiles from around the world.\", \"score\": 0.79637206}, {\"title\": \"About Hyundai\", \"url\": \"https://www.hyundai.com/pacific/en/company/about-hyundai\", \"content\": \"Hyundai Motor Company has served as the trailblazer of Koreaâs automobile industry since rolling out its Pony, developed with its own exclusive technology. Hyundai Motor Company has risen as a globally recognized automobile manufacturer that exports its branded vehicles to over 200 countries. It is equipped with production bases all around the world. It is expanding the automobile market through its success in mass-producing hydrogen-powered vehicles for the first time in the world and [...] We strive to reinvent ourselves as not just an automobile brand  \\nbut a global mobility brand and life partner for our customers that  \\nprovides a new driving and mobility experience.\\n\\n### From pioneering automaker in Korea to global auto industry leader\\n\\nFrom pioneering automaker in Korea to global auto industry leader [...] From pioneering automaker in Korea to global auto industry leader\", \"score\": 0.75181264}, {\"title\": \"Hyundai Motor Company | LinkedIn\", \"url\": \"https://www.linkedin.com/company/hyundai-motor-company\", \"content\": \"Our mission is clear: to become a lifelong mobility partner for our customers and communities by creating meaningful progress through clean energy, connected technology, and human-centered innovation. Hyundai Motor Company is a global mobility leader committed to shaping a better future. With more than 120,000 employees across 200+ countries, we are redefining the way the world moves, not just through innovation in automotive design, but through bold investments in smart mobility, [...] partnered with the Korea Employment Agency for Persons with Disabilities to champion the cause of expanding employment opportunities for individuals with disabilities. A heartfelt business agreement ceremony took place at our Yangjae Headquarters in Seoul, where we celebrated the signing of a memorandum of understanding (MOU). This initiative is a significant step towards promoting meaningful employment for people with disabilities and manifesting the values of diversity and inclusion within [...] sustainability, and technology. Each year, we bring over 4.6 million vehicles to drivers around the globe – from award-winning sedans to cutting-edge electric and hydrogen-powered solutions.\", \"score\": 0.75027883}, {\"title\": \"[Hyundai Motors Technology Acquisition Biography Part 1] ...\", \"url\": \"https://www.hyundaimotorgroup.com/story/CONT0000000000116111\", \"content\": \"Hyundai Motor Company was officially launched as an automobile manufacturer in Korea in 1967. The following year, in 1968, Hyundai Motor Company established an automobile assembly plant in Ulsan and produced Ford’s compact sedan Cortina, and in 1969, Ford’s midsize sedan 20M using the CKD (Complete Knock Down) method. This method involves importing parts from overseas and assembling them domestically, allowing Hyundai to quickly supply cars to the country. [...] Hyundai Motor Company worked hard to secure its own technology in Korea, which was previously a barren area for the automobile industry, and as a result, succeeded in becoming a global automobile manufacturer with world-class powertrain and electrification competitiveness. Hyundai Motor Company’s challenge to secure technology began from the very beginning of its founding.\\n\\nIn 1973, Hyundai Motor Company began developing its first model [...] considerable. With Stellar, Hyundai Motors has completely escaped the influence of Ford technology, and as a comprehensive automobile manufacturer, has taken the opportunity to elevate its platform development technology capabilities to the next level.\", \"score\": 0.73505294}, {\"title\": \"The Fascinating History of Hyundai Motors\", \"url\": \"https://www.jeffwylerhyundaiofbeavercreek.com/blog/2025/may/30/the-fascinating-history-of-hyundai-motors.htm\", \"content\": \"In 1967, Chung made the bold decision to expand into automobile manufacturing, establishing the Hyundai Motor Company in Dayton. The first Hyundai vehicle, the Cortina, was produced in cooperation with Ford Motor Company in 1968. Just seven years later in 1975, Hyundai launched their first in-house designed and manufactured car, the Pony. This subcompact rear-wheel drive automobile was Hyundai's first mass-produced vehicle and helped put the young automaker on the map. [...] Always looking towards the future, Hyundai has also been a leader in developing eco-friendly vehicles. They launched their first hybrid, the Elantra LPI Hybrid, in 2009 and have since introduced a range of electric and fuel cell models. Today, Hyundai is truly a global automotive powerhouse, with state-of-the-art factories, research centers and dealerships in countries around the world. [...] Here at Jeff Wyler Hyundai of Beavercreek, our showroom at 2170 Heller Drive proudly displays the latest Hyundai models, amazing vehicles that carry forth the legacy of innovation and quality that Chung Ju-yung began so many decades ago. From those humble beginnings in Beaver Creek to their status as a top automaker today, Hyundai has never lost sight of its mission to develop cars that offer outstanding value, performance and style. It's a rich history that we're excited to be a part of as a\", \"score\": 0.70067}, {\"title\": \"List of Hyundai vehicles\", \"url\": \"https://en.wikipedia.org/wiki/List_of_Hyundai_vehicles\", \"content\": \"Download as PDF\\n   Printable version\\n\\n In other projects \\n\\n   Wikidata item\\n\\nAppearance\\n\\nmove to sidebar hide\\n\\nFrom Wikipedia, the free encyclopedia\\n\\nThe South Korean automobile manufacturer Hyundai Motor Company has produced various cars, SUVs, trucks, and buses since its inception in 1967.(\\n\\nPassenger vehicles\\n------------------\\n\\n[edit]\\n\\n### Current models\\n\\n[edit] [...] | Genesis | 2007 | 2016 | Genesis G80 |\\n| Genesis Coupe | 2008 | 2016 |  |\\n| Granada#Mark_II_(1977%E2%80%931985) \\\"Ford Granada (Europe)\\\") | 1978 | 1985 | Grandeur |\\n| Galloper | 1991 | 2004 | Terracan |\\n| Grace/H100/Satellite | 1987 | 1996 | Starex |\\n| Getz/Click | 2002 | 2011 | i20 Accent WIT |\\n| Ioniq | 2016 | 2022 | Elantra Hybrid |\\n| i20 Active | 2015 | 2020 | Bayon |\\n| i40 | 2011 | 2019 | Sonata |\\n| ix20 | 2010 | 2019 |  |\\n| ix25 | 2014 | 2021 |  | [...] Full-sizeEquus (LZ/YJ)Equus (VI) Sports/coupéScoupe (SLC)Tiburon (RD)Tiburon/Tuscani (GK)Veloster (FS)Veloster (JS) Genesis Coupe (BK) Subcompact crossover SUVCasper/Inster (AX1) Exter (AI3) Venue (QX) Bayon (BC3) Creta/ix25 (GC/GS)Creta/ix25 (SU2) Kona (OS)Kona (SX2) Compact crossover SUVAlcazar/Creta Grand (SU2 LWB) Tucson (JM)Tucson/ix35 (LM)Tucson (TL)Tucson (NX4) ix35 (NU) \\\"Hyundai ix35 (China)\\\")Mufasa (NU2) Nexo (FE) Ioniq 5 (NE) Mid-size crossover SUVSanta Fe (SM)Santa Fe (CM)Santa Fe\", \"score\": 0.6773251}, {\"title\": \"Hyundai Company - History and story of its development\", \"url\": \"https://cafeerent.com/tourism/blog/hyundai-company-development\", \"content\": \"As we said before, Hyundai Motor Co is one of the largest automakers in the world, with its headquarters in Seoul, South Korea.\\n\\nIn this blog, we previewed the whole story and history behind this successful company.\\n\\nIn the end, we also took a look at some of the best models that Hyundai has manufactured.\\n\\nThis blog is dedicated to you from Cafeerent.\\n\\nCafeerent is a valid and official car rental company with different branches in Dubai, Qatar, Iran, and Turkey. [...] According to the \\\"Global 500\\\" ranking published by Fortune magazine in June 2019, Hyundai Motor Co ranked as the third most valuable global automaker after Volkswagen AG and Toyota Motor Corp among the 100 top companies globally.\\n\\nHyundai Motors Manufactures\\n---------------------------\\n\\nHere are some of the best models that Hyundai produced over time.\\n\\n### Hyundai Sonata\\n\\nImage 7: Hyundai Sonata\\n\\nThe Hyundai Sonata is a mid-size sedan that has been on the market since 1985. [...] The fourth-generation model was released in 2013 and featured many improvements over previous generations including better fuel efficiency as well as more room inside for passengers.\\n\\nIn 1998, Hyundai merged with Kia Motors and Genesis Motors (formerly known as Daewoo Motors), creating Hyundai Kia Automotive Group; it was later renamed to simply \\\"Hyundai Motor\\\".\", \"score\": 0.67243975}, {\"title\": \"Hyundai USA: Cars, SUVs, & Electric Vehicles | Official Site\", \"url\": \"https://www.hyundaiusa.com/us/en\", \"content\": \"Hyundai’s cars, SUVs and EVs have been recognized throughout the industry for their safety, design, technology and more.\\n\\nLearn more\\n\\n1 of 4\", \"score\": 0.58664185}]\n",
            "=================================\u001b[1m Tool Message \u001b[0m=================================\n",
            "Name: tavily_search_results_json\n",
            "\n",
            "[{\"title\": \"Hyundai Motor Company\", \"url\": \"https://en.wikipedia.org/wiki/Hyundai_Motor_Company\", \"content\": \"Hyundai Motor Company, often referred to as Hyundai Motors (Korean:현대자동차listenⓘ) and commonly known as Hyundai (현대; ( \\\"Help:IPA/Korean\\\")( 'modernity'), is a South Korean multinationalautomotive manufacturer headquartered in Seoul, South Korea, which was founded in 1967. Currently, the company owns 33.88 percent of Kia Corporation,( and owns a luxury cars subsidiary, Genesis.( The three brands altogether make up the Hyundai Motor Group. [...] Chung Ju-yung (1915–2001) founded the Hyundai Engineering and Construction Company in 1947. Hyundai Motor Company was later established in 1967, and the company's first model, the Cortina, was released in cooperation with Ford Motor Company in 1968.( When Hyundai wanted to develop their own car, they hired George Turnbull \\\"George Turnbull (businessman)\\\") in February 1974, the former managing director of Austin Morris at British Leyland. He in turn hired five other top British car engineers. [...] Hyundai cars are also manufactured in Egypt, the local manufacturer is the Ghabbour Group, which is located in Cairo. They have a big model range and offers sports models of some car models which are only offered on the Egypt market. Formerly, the company had assembled vehicles such as the Verna.\\n\\nProduct line\\n------------\\n\\nFurther information: List of Hyundai vehicles\\n\\nHyundai produces sedans, hatchbacks, crossover SUVs, vans, pickups, heavy trucks and buses in numerous plants worldwide.\", \"score\": 0.90692574}, {\"title\": \"HYUNDAI Models, Photos, Specs & Engines (1989-Present)\", \"url\": \"https://www.autoevolution.com/hyundai/\", \"content\": \"Hyundai is a self-grown South Korean brand of automobiles established in the 1960's. Presently part of the Hyundai Kia Automotive Group, the motor company has registered a steady growth over the past few decades, having successfully entered European and American markets. The assembly lines operated by the company were built to match its size, the manufacturing facility in Ulsan being able to produce 1.6 million units per year. [...] Founded by Chung Ju Yung, born into a poor family of farmers, the Hyundai Motor Company became the first Korean car producer. The grounds for founding a car company could not have been more welcoming since post-war years in Korea brought forth a series of odd politics one of which stated that automobile imports were better than having a Korean car brand. [...] Hyundai is currently operating in 193 countries, selling vehicles through approximately 5,000 showrooms and dealerships. Sales have also aided image growth, the brand having entered the first 100 most valuable brands of the world. Its recent history is strongly connected to investments in technology and ample advertising campaigns. Indeed, communication is one of Hyundai's inherent elements, best described by their logo: the stylized H is in fact a representation of two men (brand-buyer)\", \"score\": 0.82254606}, {\"title\": \"Hyundai History: A Legacy of Innovation\", \"url\": \"https://www.earnhardthyundai.com/hyundai-history\", \"content\": \"Chung Ju-Yung founded the Hyundai Motor Company in 1947 as Hyundai Engineering and Construction Co. Hyundai Motor Co. (HMC), established in 1967, is the auto sales leader in the Korean domestic market and exports vehicles to 190 countries worldwide. [...] Hyundai Motor Co. operates the world's largest integrated automobile manufacturing facility in Ulsan, located on Korea's southeast coast. In 1996, Hyundai opened the Namyang Technology Research Center, which includes a complete testing facility with a 2.8-mile oval test track and a new $40 million aeroacoustic wind tunnel. That same year, HMC began production at its state-of-the-art Asan Plant, located southeast of Seoul. [...] Hyundai's cars and sport utility vehicles continue to provide customers a high level of content and performance at an affordable price. Every vehicle in the lineup demonstrates Hyundai's emergence as an auto manufacturer whose products compete successfully in technology, quality, styling and refinement with automobiles from around the world.\", \"score\": 0.79637206}, {\"title\": \"About Hyundai\", \"url\": \"https://www.hyundai.com/pacific/en/company/about-hyundai\", \"content\": \"Hyundai Motor Company has served as the trailblazer of Koreaâs automobile industry since rolling out its Pony, developed with its own exclusive technology. Hyundai Motor Company has risen as a globally recognized automobile manufacturer that exports its branded vehicles to over 200 countries. It is equipped with production bases all around the world. It is expanding the automobile market through its success in mass-producing hydrogen-powered vehicles for the first time in the world and [...] We strive to reinvent ourselves as not just an automobile brand  \\nbut a global mobility brand and life partner for our customers that  \\nprovides a new driving and mobility experience.\\n\\n### From pioneering automaker in Korea to global auto industry leader\\n\\nFrom pioneering automaker in Korea to global auto industry leader [...] From pioneering automaker in Korea to global auto industry leader\", \"score\": 0.75181264}, {\"title\": \"Hyundai Motor Company | LinkedIn\", \"url\": \"https://www.linkedin.com/company/hyundai-motor-company\", \"content\": \"Our mission is clear: to become a lifelong mobility partner for our customers and communities by creating meaningful progress through clean energy, connected technology, and human-centered innovation. Hyundai Motor Company is a global mobility leader committed to shaping a better future. With more than 120,000 employees across 200+ countries, we are redefining the way the world moves, not just through innovation in automotive design, but through bold investments in smart mobility, [...] partnered with the Korea Employment Agency for Persons with Disabilities to champion the cause of expanding employment opportunities for individuals with disabilities. A heartfelt business agreement ceremony took place at our Yangjae Headquarters in Seoul, where we celebrated the signing of a memorandum of understanding (MOU). This initiative is a significant step towards promoting meaningful employment for people with disabilities and manifesting the values of diversity and inclusion within [...] sustainability, and technology. Each year, we bring over 4.6 million vehicles to drivers around the globe – from award-winning sedans to cutting-edge electric and hydrogen-powered solutions.\", \"score\": 0.75027883}, {\"title\": \"[Hyundai Motors Technology Acquisition Biography Part 1] ...\", \"url\": \"https://www.hyundaimotorgroup.com/story/CONT0000000000116111\", \"content\": \"Hyundai Motor Company was officially launched as an automobile manufacturer in Korea in 1967. The following year, in 1968, Hyundai Motor Company established an automobile assembly plant in Ulsan and produced Ford’s compact sedan Cortina, and in 1969, Ford’s midsize sedan 20M using the CKD (Complete Knock Down) method. This method involves importing parts from overseas and assembling them domestically, allowing Hyundai to quickly supply cars to the country. [...] Hyundai Motor Company worked hard to secure its own technology in Korea, which was previously a barren area for the automobile industry, and as a result, succeeded in becoming a global automobile manufacturer with world-class powertrain and electrification competitiveness. Hyundai Motor Company’s challenge to secure technology began from the very beginning of its founding.\\n\\nIn 1973, Hyundai Motor Company began developing its first model [...] considerable. With Stellar, Hyundai Motors has completely escaped the influence of Ford technology, and as a comprehensive automobile manufacturer, has taken the opportunity to elevate its platform development technology capabilities to the next level.\", \"score\": 0.73505294}, {\"title\": \"The Fascinating History of Hyundai Motors\", \"url\": \"https://www.jeffwylerhyundaiofbeavercreek.com/blog/2025/may/30/the-fascinating-history-of-hyundai-motors.htm\", \"content\": \"In 1967, Chung made the bold decision to expand into automobile manufacturing, establishing the Hyundai Motor Company in Dayton. The first Hyundai vehicle, the Cortina, was produced in cooperation with Ford Motor Company in 1968. Just seven years later in 1975, Hyundai launched their first in-house designed and manufactured car, the Pony. This subcompact rear-wheel drive automobile was Hyundai's first mass-produced vehicle and helped put the young automaker on the map. [...] Always looking towards the future, Hyundai has also been a leader in developing eco-friendly vehicles. They launched their first hybrid, the Elantra LPI Hybrid, in 2009 and have since introduced a range of electric and fuel cell models. Today, Hyundai is truly a global automotive powerhouse, with state-of-the-art factories, research centers and dealerships in countries around the world. [...] Here at Jeff Wyler Hyundai of Beavercreek, our showroom at 2170 Heller Drive proudly displays the latest Hyundai models, amazing vehicles that carry forth the legacy of innovation and quality that Chung Ju-yung began so many decades ago. From those humble beginnings in Beaver Creek to their status as a top automaker today, Hyundai has never lost sight of its mission to develop cars that offer outstanding value, performance and style. It's a rich history that we're excited to be a part of as a\", \"score\": 0.70067}, {\"title\": \"List of Hyundai vehicles\", \"url\": \"https://en.wikipedia.org/wiki/List_of_Hyundai_vehicles\", \"content\": \"Download as PDF\\n   Printable version\\n\\n In other projects \\n\\n   Wikidata item\\n\\nAppearance\\n\\nmove to sidebar hide\\n\\nFrom Wikipedia, the free encyclopedia\\n\\nThe South Korean automobile manufacturer Hyundai Motor Company has produced various cars, SUVs, trucks, and buses since its inception in 1967.(\\n\\nPassenger vehicles\\n------------------\\n\\n[edit]\\n\\n### Current models\\n\\n[edit] [...] | Genesis | 2007 | 2016 | Genesis G80 |\\n| Genesis Coupe | 2008 | 2016 |  |\\n| Granada#Mark_II_(1977%E2%80%931985) \\\"Ford Granada (Europe)\\\") | 1978 | 1985 | Grandeur |\\n| Galloper | 1991 | 2004 | Terracan |\\n| Grace/H100/Satellite | 1987 | 1996 | Starex |\\n| Getz/Click | 2002 | 2011 | i20 Accent WIT |\\n| Ioniq | 2016 | 2022 | Elantra Hybrid |\\n| i20 Active | 2015 | 2020 | Bayon |\\n| i40 | 2011 | 2019 | Sonata |\\n| ix20 | 2010 | 2019 |  |\\n| ix25 | 2014 | 2021 |  | [...] Full-sizeEquus (LZ/YJ)Equus (VI) Sports/coupéScoupe (SLC)Tiburon (RD)Tiburon/Tuscani (GK)Veloster (FS)Veloster (JS) Genesis Coupe (BK) Subcompact crossover SUVCasper/Inster (AX1) Exter (AI3) Venue (QX) Bayon (BC3) Creta/ix25 (GC/GS)Creta/ix25 (SU2) Kona (OS)Kona (SX2) Compact crossover SUVAlcazar/Creta Grand (SU2 LWB) Tucson (JM)Tucson/ix35 (LM)Tucson (TL)Tucson (NX4) ix35 (NU) \\\"Hyundai ix35 (China)\\\")Mufasa (NU2) Nexo (FE) Ioniq 5 (NE) Mid-size crossover SUVSanta Fe (SM)Santa Fe (CM)Santa Fe\", \"score\": 0.6773251}, {\"title\": \"Hyundai Company - History and story of its development\", \"url\": \"https://cafeerent.com/tourism/blog/hyundai-company-development\", \"content\": \"As we said before, Hyundai Motor Co is one of the largest automakers in the world, with its headquarters in Seoul, South Korea.\\n\\nIn this blog, we previewed the whole story and history behind this successful company.\\n\\nIn the end, we also took a look at some of the best models that Hyundai has manufactured.\\n\\nThis blog is dedicated to you from Cafeerent.\\n\\nCafeerent is a valid and official car rental company with different branches in Dubai, Qatar, Iran, and Turkey. [...] According to the \\\"Global 500\\\" ranking published by Fortune magazine in June 2019, Hyundai Motor Co ranked as the third most valuable global automaker after Volkswagen AG and Toyota Motor Corp among the 100 top companies globally.\\n\\nHyundai Motors Manufactures\\n---------------------------\\n\\nHere are some of the best models that Hyundai produced over time.\\n\\n### Hyundai Sonata\\n\\nImage 7: Hyundai Sonata\\n\\nThe Hyundai Sonata is a mid-size sedan that has been on the market since 1985. [...] The fourth-generation model was released in 2013 and featured many improvements over previous generations including better fuel efficiency as well as more room inside for passengers.\\n\\nIn 1998, Hyundai merged with Kia Motors and Genesis Motors (formerly known as Daewoo Motors), creating Hyundai Kia Automotive Group; it was later renamed to simply \\\"Hyundai Motor\\\".\", \"score\": 0.67243975}, {\"title\": \"Hyundai USA: Cars, SUVs, & Electric Vehicles | Official Site\", \"url\": \"https://www.hyundaiusa.com/us/en\", \"content\": \"Hyundai’s cars, SUVs and EVs have been recognized throughout the industry for their safety, design, technology and more.\\n\\nLearn more\\n\\n1 of 4\", \"score\": 0.58664185}]\n",
            "==================================\u001b[1m Ai Message \u001b[0m==================================\n",
            "\n",
            "현대자동차에 대한 정보를 검색했고, 이제 이 정보를 바탕으로 보고서를 작성하겠습니다. 보고서가 준비되면 PDF 파일로 저장하여 제공해 드리겠습니다.\n",
            "Tool Calls:\n",
            "  write_pdf (687fece2-88bb-4410-b69d-c8c0271bf294)\n",
            " Call ID: 687fece2-88bb-4410-b69d-c8c0271bf294\n",
            "  Args:\n",
            "    content: 현대자동차 보고서\n",
            "=================================\u001b[1m Tool Message \u001b[0m=================================\n",
            "Name: write_pdf\n",
            "\n",
            "output.pdf 저장 완료\n",
            "=================================\u001b[1m Tool Message \u001b[0m=================================\n",
            "Name: write_pdf\n",
            "\n",
            "output.pdf 저장 완료\n"
          ]
        }
      ],
      "source": [
        "config = reset_config()\n",
        "\n",
        "query = \"현대자동차라는 회사에 대해 조사해주세요. 잘 정리된 보고서를 제공해주십시오. pdf 포멧의 파일로 받기를 희망합니다.\"\n",
        "\n",
        "streaming(query, config)"
      ]
    },
    {
      "cell_type": "code",
      "execution_count": 113,
      "metadata": {
        "id": "cJQuCIX4IHsf",
        "colab": {
          "base_uri": "https://localhost:8080/"
        },
        "outputId": "7c94a184-1bbb-4817-933f-e789e4865534"
      },
      "outputs": [
        {
          "output_type": "stream",
          "name": "stdout",
          "text": [
            "================================\u001b[1m Human Message \u001b[0m=================================\n",
            "\n",
            "현대자동차의 경쟁사에 대한 정보도 정리된 보고서를 작성해주세요.\n",
            "================================\u001b[1m Human Message \u001b[0m=================================\n",
            "\n",
            "현대자동차의 경쟁사에 대한 정보도 정리된 보고서를 작성해주세요.\n",
            "==================================\u001b[1m Ai Message \u001b[0m==================================\n",
            "\n",
            "현대자동차의 경쟁사에 대한 정보를 검색하고, 이를 바탕으로 보고서를 작성한 다음, PDF 파일로 저장하겠습니다.\n",
            "Tool Calls:\n",
            "  tavily_search_results_json (5a6c1835-0bba-45c0-bbdf-bd365aa15f05)\n",
            " Call ID: 5a6c1835-0bba-45c0-bbdf-bd365aa15f05\n",
            "  Args:\n",
            "    query: 현대자동차 경쟁사\n",
            "=================================\u001b[1m Tool Message \u001b[0m=================================\n",
            "Name: tavily_search_results_json\n",
            "\n",
            "[{\"title\": \"현대자동차 - 나무위키\", \"url\": \"https://namu.wiki/w/%ED%98%84%EB%8C%80%EC%9E%90%EB%8F%99%EC%B0%A8\", \"content\": \"내수 시장에서는 기아를 제외한 나머지 경쟁사인 KG모빌리티, 르노코리아, GM 한국사업장 대비 비슷하거나 저렴한 가격에 더 우수한 상품성을 자랑하며 넓은 실내공간과 풍부한 옵션이 특징이다. 1.6~ 5.0L 가솔린 엔진, 2.0~3.5L LPi 엔진, 1.6~3.0L 디젤 엔진, 수소, 전기 등 다양한 연료 사용가능성과 염가패키지로 택시, 렌터카, 관공서등 플릿시장에서 또한 높은 시장지배력을 지니고 있다. [...] 현대차의 특징으로는 경쟁사들보다 큰 차체 및 넓은 실내공간을 들 수가 있다. 이는 크고 넓은 차를 선호하는 한국의 소비자 성향을 반영한 것으로 실제로 제네시스 G90L은 메르세데스-마이바흐 S클래스보다 큰 크기를 자랑하며, G80이나 그랜저 등도 경쟁 모델보다 크고 넓은 실내를 주 무기로 내세우는 것을 볼 수 있다. 그러나 일본에서는 차량 차폭 크기에 따라 차종 및 세금 구분을 하기 때문에 큰 차체가 오히려 독이 되어 결국 철수하고 마는 치명적인 단점이 되기도 하였다. 참고로 일본 세단의 기함에 해당하는 렉서스 LS가 승객석 공간이 2,815L로, 3,004L인 쏘나타보다 작다. 중고차유통업체 픽플러스는 유튜브 채널에서 아반떼와 벤츠 E300 실내에 볼풀 공을 넣는 실험을 통해 아반떼가 E300보다 실내공간이 더 넓다는 사실을 밝혀낸 일도 있다.# [...] 변속기 대부분을 자체개발 하고 있다는 점은 선진 자동차 업계 후발주자로서 높이 평가받는 부분이다.( \\\"대형트럭용 다단변속기를 제외한 모든 변속기를 자체 생산한다. 자동/수동 모두.\\\") 전 세계적으로 자체변속기를 개발하는 자동차 회사는 포드, GM, 벤츠, 토요타, 혼다, 닛산 등 외에는 거의 찾아보기 드물며 대부분 ZF나 닛산 산하의 자트코, 토요타 산하의 아이신 등 선진 변속기 전문 제조업체로 부터 변속기를 사와서 장착한다. 그나마도 토요타를 제외한 대부분의 회사는 일부차종에만 적용하고 생산규모가 떨어지는 후륜구동 변속기나 DCT는 서플라이어로부터 공급받는 게 일반적이나 현대는 상용차 몇개 차종을 제외하면 소형 전륜, DCT, 대형 전륜, 대형 후륜 등 전륜 4속~후륜 8속 모두 트랜시스, 모비스, 위아 등 계열사로부터 자체 공급받는다. 크라이슬러에게 전륜 6속 변속기를 공급하는 등 경쟁사의 현대변속기 채용 사례도 점점 늘어나고 있다.\", \"score\": 0.84277284}, {\"title\": \"현대자동차의 경쟁사는 누구일까요? - 링커리어 커뮤니티\", \"url\": \"https://community.linkareer.com/mento_hyndai/2376631\", \"content\": \"사실 현대 내에도 브랜드가 3개가 있는데, 제네시스, 일반 현대. N브랜드 각각의 경쟁사가 모두 다릅니다. 일반 현대의 경우 도요타, 혼다, 포드와 같이\", \"score\": 0.8315952}, {\"title\": \"[기업분석] 현대자동차 (Hyundai Motor Company) - NpsCause blog\", \"url\": \"https://npscause.tistory.com/39\", \"content\": \"도요타 (Toyota):\\n  + 2023년 매출: 약 270조 원\\n  + 도요타는 글로벌 1위 자동차 제조업체로, 현대차와 전 세계 시장에서 경쟁하며 특히 전기차와 자율주행차 부문에서 중요한 경쟁자입니다.\\n 폭스바겐 (Volkswagen):\\n  + 2023년 매출: 약 260조 원\\n  + 폭스바겐은 유럽 시장에서 현대차의 주요 경쟁자이며, 전기차 및 프리미엄 차량 부문에서 경쟁이 치열합니다.\\n 테슬라 (Tesla):\\n  + 2023년 매출: 약 100조 원\\n  + 전기차 시장의 선두주자인 테슬라는 현대차와 전기차 및 자율주행차 부문에서 치열한 경쟁을 벌이고 있습니다.\\n 현대자동차 (Hyundai):\\n  + 2023년 매출: 약 153조 원\\n\\n현대차는 전통적인 자동차 제조업체와 전기차, 자율주행차 시장에서 신흥 경쟁자들과 동시에 경쟁하고 있습니다. 특히 테슬라와의 전기차 부문 경쟁이 중요한 요소로 작용하고 있습니다.\\n\\n---\\n\\n### \\n\\n### 5. SWOT 분석 [...] #### 강점 (Strengths):\\n\\n 글로벌 자동차 제조 역량: 현대차는 전 세계 5대 자동차 제조업체 중 하나로, 폭넓은 글로벌 네트워크와 생산 시설을 보유하고 있습니다.\\n 전기차 및 수소차 기술 선도: 아이오닉과 넥쏘 시리즈는 현대차의 친환경차 기술력을 입증하며, 전기차와 수소차 시장에서 경쟁력을 보유하고 있습니다.\\n 프리미엄 브랜드 성장: 제네시스 브랜드는 프리미엄 시장에서 빠르게 성장하고 있으며, 글로벌 경쟁사들과 대등한 수준으로 평가받고 있습니다.\\n\\n#### 약점 (Weaknesses):\\n\\n 높은 원자재 의존성: 글로벌 원자재 가격 변동에 따라 생산 비용이 크게 영향을 받을 수 있습니다.\\n 미국과 유럽 시장에서의 경쟁: 도요타, 폭스바겐 등과의 치열한 경쟁으로 인해 북미와 유럽 시장에서 점유율 확대에 한계가 있을 수 있습니다.\\n\\n#### 기회 (Opportunities): [...] 주요 브랜드: 아이오닉 (Ioniq)\\n 설명: 아이오닉 시리즈는 현대차의 전기차 라인업으로, 글로벌 전기차 시장에서 중요한 역할을 하고 있습니다. 또한, 현대차는 수소차 기술을 선도하며, \\\\\\\\넥쏘(Nexo)\\\\\\\\와 같은 친환경차 모델을 보유하고 있습니다.\\n\\n#### 자율주행 및 스마트 모빌리티\\n\\n 주요 사업: 자율주행차 개발, 모빌리티 솔루션 제공\\n 설명: 현대자동차는 자율주행 기술과 스마트 모빌리티 솔루션에 대한 대규모 투자를 진행하고 있습니다. 특히 Motional과 같은 자율주행 관련 기업들과의 협업을 통해 미래 모빌리티 솔루션을 개발 중입니다.\\n\\n---\\n\\n### \\n\\n### 4. 경쟁사 비교\", \"score\": 0.82254606}, {\"title\": \"'中에 시장 주도권 뺏길라'…현대차, 경쟁사 GM과 공동 전선\", \"url\": \"https://zdnet.co.kr/view/?no=20240913103607\", \"content\": \"# ‘中에 시장 주도권 뺏길라’…현대차, 경쟁사 GM과 공동 전선\\n\\n리배징·원자재 공동 주문 등 가능성 거론…美 점유율 확대 기대감도\\n\\n카테크입력 :2024/09/16 09:59\\n\\n현대자동차가 경쟁 상대인 제너럴모터스(GM)와 전방위적인 협력 관계를 구축한 배경으로, 최근 전기차를 필두로 약진하는 중국 기업에 맞설 경쟁력을 강화하기 위한 행보라는 분석이 나타났다.\\n\\n양사가 주도권을 가졌던 내연차 시장과 달리, 점차 커지는 전기차 시장에선 중국 기업들이 정부의 전폭적인 지원과 원가 경쟁력을 무기로 점유율을 빠르게 늘려가고 있다. 단일 기업으로서 이에 대항하기보다 연합 전선을 구축하는 것이란 해석이다.\\n\\n■정해진 미래 '전동화' 성적표 부진 따른 결단…中은 무섭게 성장 [...] 현대차와 GM은 지난 12일 포괄적 협력을 위한 업무협약(MOU)을 체결했다고 밝혔다. 잠재 협력 분야를 승용·상용 차량, 내연 기관, 친환경 에너지, 전기 및 수소 기술 등으로 밝혀 거의 모든 사업 영역으로 둔 것이 눈에 띄는 부분이다.\\n\\n협력 방안을 상세히 정하진 않았지만 생산 비용 절감 및 효율성 증대, 배터리나 철강 등 원자재 통합 소싱, 다양한 제품군의 신속한 제공, 기술 공동 개발 등을 검토한다는 방침이다.\\n\\n특히 전기차 시장의 수요 성장세가 둔화된 데 반해 가격 경쟁은 심화되고 있어 기업들의 재무 부담이 커지고 있는데 이를 '규모의 경제'로 해소하는 전략을 쓸 것으로 점쳐진다.\\n\\n전기차 시장 성장세가 예년같지 않음에도 중국 기업 점유율은 지속 상승 중이다. 올해 들어 유럽에서 전기차 보급 촉진 정책이 축소되고, 이전까지 판매 1위였던 테슬라의 신차 출시가 지연되는 등 비(非)중국 기업들에는 악재가 많았던 데 반해 중국 기업들은 성장세가 뚜렷했다. [...] 신윤철 애널리스트는 \\\"GM그룹 글로벌 판매량의 약 75%가 미국과 중국에서 소화되고 있고 3위 시장인 브라질에서는 현대차와 GM 그룹이 서로 시장점유율 3, 4위를 다투고 있어 현대차가 실질적으로 GM그룹으로부터 도움을 필요할 것으로 판단하기 어렵다\\\"며 \\\"중국에선 양사 모두 로컬 업체와 협업 체제라 글로벌 협업 대상 시장에서 제외될 가능성이 높다\\\"고 분석했다.\\n\\n이어 \\\"일부 신흥국에서의 협업 또한 기대할 수 있겠으나 현대차가 GM그룹을 파트너로 택했다는 것은 결국 미국에서의 점유율 추가 확대를 모색하고 있는 것으로 해석된다\\\"고 봤다.\\n\\n## 관련기사\\n\\n원자재 통합 소싱을 통한 비용 절감도 기대된다. 일례로 전기차 배터리는 원가의 40%를 차지하는 핵심 부품인데, 통합 소싱으로 협상력을 늘려 보다 저렴한 가격에 배터리 등을 수급할 수 있게 될 것으로 보인다.\\n\\n현대차 관계자는 \\\"GM과 협력 방안에 대해 현재 정해진 것은 없다\\\"고 말했다.\\n\\n## 지금 뜨는 기사\", \"score\": 0.77751994}, {\"title\": \"현대자동차 - 위키백과, 우리 모두의 백과사전\", \"url\": \"https://ko.wikipedia.org/wiki/%ED%98%84%EB%8C%80%EC%9E%90%EB%8F%99%EC%B0%A8\", \"content\": \"현대자동차는 2014년9월 18일, 서울 강남구 삼성동 한국전력공사 부지 입찰에서 10조 5,500억 원의 입찰금액을 제시하여 최종 낙찰자가 되었다. 문제는 입찰 경쟁자였던 삼성전자에서는 4조 6천억원대의 입찰 금액을 적어 낸 점이다.( 결과적으로 현대차는 경쟁자인 삼성전자보다 2배를 훨씬 넘는 금액을, 부지 감정가인 3조3346억원 대비로는 3배 이상의 금액을 주고 한국전력 부지를 사게 되었다. 이는 입찰에서는 승리했으나 금전적으로 큰 손해를 본 셈이라 승자의 저주로 불린다. [...] 제네시스 \\\"제네시스 (자동차)\\\")\\n   기아 \\\"기아 (기업)\\\")\\n   전북 현대 모터스\\n   베이징 현대자동차\\n   치도 트럭\\n   현대모비스\\n   미쓰비시 자동차 공업\\n   미쓰비시후소트럭 버스\\n   베링트럭\\n   PYL\\n   현대자동차그룹\\n\\n각주\\n--\\n\\n[편집] [...] |  v  t\\\")  e 생산량 기준 자동차 제조사 목록 |\\n| --- |\\n|  Image 75: 일본토요타 자동차  Image 76: 독일폭스바겐 그룹  Image 77: 대한민국현대자동차그룹  Image 78: 네덜란드스텔란티스  Image 79: 네덜란드르노-닛산-미쓰비시 얼라이언스  Image 80: 미국제너럴 모터스  Image 81: 미국포드 모터 컴퍼니  Image 82: 일본혼다 자동차  Image 83: 독일다임러 AG  Image 84: 독일Image 85: 영국BMW |\", \"score\": 0.7460839}, {\"title\": \"현대자동차그룹 - 나무위키\", \"url\": \"https://namu.wiki/w/%ED%98%84%EB%8C%80%EC%9E%90%EB%8F%99%EC%B0%A8%EA%B7%B8%EB%A3%B9\", \"content\": \"[ 펼치기 · 접기 ] 계열사 완성차 브랜드현대자동차 (N · 아이오닉) · 제네시스 \\\"제네시스(자동차 브랜드)\\\") · 기아 폐지된 브랜드갤로퍼 \\\"갤로퍼(자동차 브랜드)\\\") · 베링 트럭 · 블루드라이브 건설현대건설 (힐스테이트 · THE H) · 현대엔지니어링 (현대 테라타워) · 현대스틸산업 · 현대도시개발 부품현대모비스 · 모트라스 · 유니투스 · 현대트랜시스 · 현대위아· 테크젠 · 현대엠시트 · 현대케피코 · 현대파텍스 · 현대아이에이치엘 · 에이치그린파워 · HTWO 재료현대제철 (현대ITC · 현대IMC · 현대ISC · 현대IFC · 현대스틸파이프 · 현대IEC) · 현대비앤지스틸 (현대첨단소재 · 현대머티리얼) · 현대종합특수강 · 현대로템 금융현대카드 · 현대캐피탈 · 현대커머셜 · 현대차증권 · 현대얼터너티브 기타광고이노션 | IT현대오토에버 · 지아이티 · 포티투닷 · 모셔널 · Softeer | 로봇보스턴 다이내믹스 | 물류현대글로비스 · 지마린서비스 | [...] 확장하면서 독자경쟁력을 키우고 있다.( 밀려 재계 3위로 내려왔다.( 오랜 기간 삼성에 이은 재계서열 2위의 위치를 고수해왔으나, 2022년부로 SK에 역전당했다. 현대자동차그룹의 전통적 제조업에 비해 21세기 들어 SK가 새로 추구한 반도체, 배터리, 바이오 사업의 성장률이 좋다보니 자산 규모가 현대차를 뛰어넘은 것이다.( 한국사업장(구 한국GM, GM대우)은 GM의 한국 현지법인이다.( 그룹과 토요타 그룹을 제외하면 제조사가 몇 군데 안되며 수소차 부분 전 세계 1위이다.( 여기서 예외는 갤로퍼와 싼타모를 제작하던 현대정공 자동차사업부(現 현대자동차 울산5공장). 이쪽은 정몽구가 처음부터 끝까지 키운 곳이다.( 철강(열연: 현대제철 → 냉연: 현대하이스코) → 부품(현대모비스, 현대위아, 현대트랜시스, 현대케피코 등) → 모듈(현대모비스, 현대위아) → 완성차(현대차, 기아, 제네시스)+물류(현대글로비스)+자동차 금융(현대카드)( 업계에선 현대제철의 역량과 그룹내 수요가 [...] 현대자동차그룹은 크게 완성차, 철강, 건설, 부품, 금융, 기타 등 6개의 사업 영역으로 분류한다. 완성차는 현대자동차와 기아가 그룹의 맏형 노릇을 하고, 부품은 워낙 계열사가 많지만 주요 회사로는 현대모비스·현대위아·현대트랜시스를 꼽을 수 있다.( \\\"모두 세계 100대 자동차 부품 회사에 이름을 올렸다. #\\\") 제조업과 건설에서는 각각 현대제철·현대로템·현대건설 등이 자회사들을 모두 종속회사로 두고 기타에는 현대글로비스와 이노션이 규모가 크다. 금융 분야는 현대캐피탈·현대커미셜·현대카드 같은 알짜 회사들을 소유하고 있다. IT 분야에는 계열사에 IT 서비스를 지원하는 회사인 현대오토에버가 있다.\", \"score\": 0.6690754}, {\"title\": \"현대자동차의 차별화 전략과 경쟁사 분석: 사용자 경험(UX)전략 ...\", \"url\": \"https://ludystory.com/19\", \"content\": \"현대자동차와 경쟁사의 전기차 기술 비교. 현대자동차는 전기차(EV) 시장에서 경쟁력을 강화하기 위해 지속적인 혁신을 추구하고 있습니다. 특히\", \"score\": 0.6445166}, {\"title\": \"현대자동차와 경쟁 차량들을 비교해 보세요. - Hyundai USA\", \"url\": \"https://www.hyundaiusa.com/us/ko/compare-competitors\", \"content\": \"최대 3대의 차량을 선택하여 MSRP, 안전 기능, 외관 사양, 오디오 사양, 워런티 등이 경쟁사 차량보다 얼마나 뛰어난지 확인하세요!\", \"score\": 0.5446325}, {\"title\": \"현대차그룹 글로벌 정면승부 : 네이버 블로그\", \"url\": \"https://blog.naver.com/jkhan012/223737759001\", \"content\": \"실적도 현대차그룹이 앞서고 있다. 지난해 3분기 누적 폭스바겐그룹의 매출은 2372억7900만유로(약 355조8307억원)와 영업이익 129억700만유로\", \"score\": 0.52393246}, {\"title\": \"자동차 업계가 주목하는 현대차그룹의 경쟁력\", \"url\": \"https://www.hyundai.co.kr/story/CONT0000000000147845\", \"content\": \"기아 EV9, 스페인-포르투갈 언론이 꼽은 '최고의 패밀리카' · 현대차 코나, 영미권 자동차 미디어가 주목하는 '최고의 소형 SUV' · 아이오닉 5, 미국 〈U.S.\", \"score\": 0.46147847}]\n",
            "=================================\u001b[1m Tool Message \u001b[0m=================================\n",
            "Name: tavily_search_results_json\n",
            "\n",
            "[{\"title\": \"현대자동차 - 나무위키\", \"url\": \"https://namu.wiki/w/%ED%98%84%EB%8C%80%EC%9E%90%EB%8F%99%EC%B0%A8\", \"content\": \"내수 시장에서는 기아를 제외한 나머지 경쟁사인 KG모빌리티, 르노코리아, GM 한국사업장 대비 비슷하거나 저렴한 가격에 더 우수한 상품성을 자랑하며 넓은 실내공간과 풍부한 옵션이 특징이다. 1.6~ 5.0L 가솔린 엔진, 2.0~3.5L LPi 엔진, 1.6~3.0L 디젤 엔진, 수소, 전기 등 다양한 연료 사용가능성과 염가패키지로 택시, 렌터카, 관공서등 플릿시장에서 또한 높은 시장지배력을 지니고 있다. [...] 현대차의 특징으로는 경쟁사들보다 큰 차체 및 넓은 실내공간을 들 수가 있다. 이는 크고 넓은 차를 선호하는 한국의 소비자 성향을 반영한 것으로 실제로 제네시스 G90L은 메르세데스-마이바흐 S클래스보다 큰 크기를 자랑하며, G80이나 그랜저 등도 경쟁 모델보다 크고 넓은 실내를 주 무기로 내세우는 것을 볼 수 있다. 그러나 일본에서는 차량 차폭 크기에 따라 차종 및 세금 구분을 하기 때문에 큰 차체가 오히려 독이 되어 결국 철수하고 마는 치명적인 단점이 되기도 하였다. 참고로 일본 세단의 기함에 해당하는 렉서스 LS가 승객석 공간이 2,815L로, 3,004L인 쏘나타보다 작다. 중고차유통업체 픽플러스는 유튜브 채널에서 아반떼와 벤츠 E300 실내에 볼풀 공을 넣는 실험을 통해 아반떼가 E300보다 실내공간이 더 넓다는 사실을 밝혀낸 일도 있다.# [...] 변속기 대부분을 자체개발 하고 있다는 점은 선진 자동차 업계 후발주자로서 높이 평가받는 부분이다.( \\\"대형트럭용 다단변속기를 제외한 모든 변속기를 자체 생산한다. 자동/수동 모두.\\\") 전 세계적으로 자체변속기를 개발하는 자동차 회사는 포드, GM, 벤츠, 토요타, 혼다, 닛산 등 외에는 거의 찾아보기 드물며 대부분 ZF나 닛산 산하의 자트코, 토요타 산하의 아이신 등 선진 변속기 전문 제조업체로 부터 변속기를 사와서 장착한다. 그나마도 토요타를 제외한 대부분의 회사는 일부차종에만 적용하고 생산규모가 떨어지는 후륜구동 변속기나 DCT는 서플라이어로부터 공급받는 게 일반적이나 현대는 상용차 몇개 차종을 제외하면 소형 전륜, DCT, 대형 전륜, 대형 후륜 등 전륜 4속~후륜 8속 모두 트랜시스, 모비스, 위아 등 계열사로부터 자체 공급받는다. 크라이슬러에게 전륜 6속 변속기를 공급하는 등 경쟁사의 현대변속기 채용 사례도 점점 늘어나고 있다.\", \"score\": 0.84277284}, {\"title\": \"현대자동차의 경쟁사는 누구일까요? - 링커리어 커뮤니티\", \"url\": \"https://community.linkareer.com/mento_hyndai/2376631\", \"content\": \"사실 현대 내에도 브랜드가 3개가 있는데, 제네시스, 일반 현대. N브랜드 각각의 경쟁사가 모두 다릅니다. 일반 현대의 경우 도요타, 혼다, 포드와 같이\", \"score\": 0.8315952}, {\"title\": \"[기업분석] 현대자동차 (Hyundai Motor Company) - NpsCause blog\", \"url\": \"https://npscause.tistory.com/39\", \"content\": \"도요타 (Toyota):\\n  + 2023년 매출: 약 270조 원\\n  + 도요타는 글로벌 1위 자동차 제조업체로, 현대차와 전 세계 시장에서 경쟁하며 특히 전기차와 자율주행차 부문에서 중요한 경쟁자입니다.\\n 폭스바겐 (Volkswagen):\\n  + 2023년 매출: 약 260조 원\\n  + 폭스바겐은 유럽 시장에서 현대차의 주요 경쟁자이며, 전기차 및 프리미엄 차량 부문에서 경쟁이 치열합니다.\\n 테슬라 (Tesla):\\n  + 2023년 매출: 약 100조 원\\n  + 전기차 시장의 선두주자인 테슬라는 현대차와 전기차 및 자율주행차 부문에서 치열한 경쟁을 벌이고 있습니다.\\n 현대자동차 (Hyundai):\\n  + 2023년 매출: 약 153조 원\\n\\n현대차는 전통적인 자동차 제조업체와 전기차, 자율주행차 시장에서 신흥 경쟁자들과 동시에 경쟁하고 있습니다. 특히 테슬라와의 전기차 부문 경쟁이 중요한 요소로 작용하고 있습니다.\\n\\n---\\n\\n### \\n\\n### 5. SWOT 분석 [...] #### 강점 (Strengths):\\n\\n 글로벌 자동차 제조 역량: 현대차는 전 세계 5대 자동차 제조업체 중 하나로, 폭넓은 글로벌 네트워크와 생산 시설을 보유하고 있습니다.\\n 전기차 및 수소차 기술 선도: 아이오닉과 넥쏘 시리즈는 현대차의 친환경차 기술력을 입증하며, 전기차와 수소차 시장에서 경쟁력을 보유하고 있습니다.\\n 프리미엄 브랜드 성장: 제네시스 브랜드는 프리미엄 시장에서 빠르게 성장하고 있으며, 글로벌 경쟁사들과 대등한 수준으로 평가받고 있습니다.\\n\\n#### 약점 (Weaknesses):\\n\\n 높은 원자재 의존성: 글로벌 원자재 가격 변동에 따라 생산 비용이 크게 영향을 받을 수 있습니다.\\n 미국과 유럽 시장에서의 경쟁: 도요타, 폭스바겐 등과의 치열한 경쟁으로 인해 북미와 유럽 시장에서 점유율 확대에 한계가 있을 수 있습니다.\\n\\n#### 기회 (Opportunities): [...] 주요 브랜드: 아이오닉 (Ioniq)\\n 설명: 아이오닉 시리즈는 현대차의 전기차 라인업으로, 글로벌 전기차 시장에서 중요한 역할을 하고 있습니다. 또한, 현대차는 수소차 기술을 선도하며, \\\\\\\\넥쏘(Nexo)\\\\\\\\와 같은 친환경차 모델을 보유하고 있습니다.\\n\\n#### 자율주행 및 스마트 모빌리티\\n\\n 주요 사업: 자율주행차 개발, 모빌리티 솔루션 제공\\n 설명: 현대자동차는 자율주행 기술과 스마트 모빌리티 솔루션에 대한 대규모 투자를 진행하고 있습니다. 특히 Motional과 같은 자율주행 관련 기업들과의 협업을 통해 미래 모빌리티 솔루션을 개발 중입니다.\\n\\n---\\n\\n### \\n\\n### 4. 경쟁사 비교\", \"score\": 0.82254606}, {\"title\": \"'中에 시장 주도권 뺏길라'…현대차, 경쟁사 GM과 공동 전선\", \"url\": \"https://zdnet.co.kr/view/?no=20240913103607\", \"content\": \"# ‘中에 시장 주도권 뺏길라’…현대차, 경쟁사 GM과 공동 전선\\n\\n리배징·원자재 공동 주문 등 가능성 거론…美 점유율 확대 기대감도\\n\\n카테크입력 :2024/09/16 09:59\\n\\n현대자동차가 경쟁 상대인 제너럴모터스(GM)와 전방위적인 협력 관계를 구축한 배경으로, 최근 전기차를 필두로 약진하는 중국 기업에 맞설 경쟁력을 강화하기 위한 행보라는 분석이 나타났다.\\n\\n양사가 주도권을 가졌던 내연차 시장과 달리, 점차 커지는 전기차 시장에선 중국 기업들이 정부의 전폭적인 지원과 원가 경쟁력을 무기로 점유율을 빠르게 늘려가고 있다. 단일 기업으로서 이에 대항하기보다 연합 전선을 구축하는 것이란 해석이다.\\n\\n■정해진 미래 '전동화' 성적표 부진 따른 결단…中은 무섭게 성장 [...] 현대차와 GM은 지난 12일 포괄적 협력을 위한 업무협약(MOU)을 체결했다고 밝혔다. 잠재 협력 분야를 승용·상용 차량, 내연 기관, 친환경 에너지, 전기 및 수소 기술 등으로 밝혀 거의 모든 사업 영역으로 둔 것이 눈에 띄는 부분이다.\\n\\n협력 방안을 상세히 정하진 않았지만 생산 비용 절감 및 효율성 증대, 배터리나 철강 등 원자재 통합 소싱, 다양한 제품군의 신속한 제공, 기술 공동 개발 등을 검토한다는 방침이다.\\n\\n특히 전기차 시장의 수요 성장세가 둔화된 데 반해 가격 경쟁은 심화되고 있어 기업들의 재무 부담이 커지고 있는데 이를 '규모의 경제'로 해소하는 전략을 쓸 것으로 점쳐진다.\\n\\n전기차 시장 성장세가 예년같지 않음에도 중국 기업 점유율은 지속 상승 중이다. 올해 들어 유럽에서 전기차 보급 촉진 정책이 축소되고, 이전까지 판매 1위였던 테슬라의 신차 출시가 지연되는 등 비(非)중국 기업들에는 악재가 많았던 데 반해 중국 기업들은 성장세가 뚜렷했다. [...] 신윤철 애널리스트는 \\\"GM그룹 글로벌 판매량의 약 75%가 미국과 중국에서 소화되고 있고 3위 시장인 브라질에서는 현대차와 GM 그룹이 서로 시장점유율 3, 4위를 다투고 있어 현대차가 실질적으로 GM그룹으로부터 도움을 필요할 것으로 판단하기 어렵다\\\"며 \\\"중국에선 양사 모두 로컬 업체와 협업 체제라 글로벌 협업 대상 시장에서 제외될 가능성이 높다\\\"고 분석했다.\\n\\n이어 \\\"일부 신흥국에서의 협업 또한 기대할 수 있겠으나 현대차가 GM그룹을 파트너로 택했다는 것은 결국 미국에서의 점유율 추가 확대를 모색하고 있는 것으로 해석된다\\\"고 봤다.\\n\\n## 관련기사\\n\\n원자재 통합 소싱을 통한 비용 절감도 기대된다. 일례로 전기차 배터리는 원가의 40%를 차지하는 핵심 부품인데, 통합 소싱으로 협상력을 늘려 보다 저렴한 가격에 배터리 등을 수급할 수 있게 될 것으로 보인다.\\n\\n현대차 관계자는 \\\"GM과 협력 방안에 대해 현재 정해진 것은 없다\\\"고 말했다.\\n\\n## 지금 뜨는 기사\", \"score\": 0.77751994}, {\"title\": \"현대자동차 - 위키백과, 우리 모두의 백과사전\", \"url\": \"https://ko.wikipedia.org/wiki/%ED%98%84%EB%8C%80%EC%9E%90%EB%8F%99%EC%B0%A8\", \"content\": \"현대자동차는 2014년9월 18일, 서울 강남구 삼성동 한국전력공사 부지 입찰에서 10조 5,500억 원의 입찰금액을 제시하여 최종 낙찰자가 되었다. 문제는 입찰 경쟁자였던 삼성전자에서는 4조 6천억원대의 입찰 금액을 적어 낸 점이다.( 결과적으로 현대차는 경쟁자인 삼성전자보다 2배를 훨씬 넘는 금액을, 부지 감정가인 3조3346억원 대비로는 3배 이상의 금액을 주고 한국전력 부지를 사게 되었다. 이는 입찰에서는 승리했으나 금전적으로 큰 손해를 본 셈이라 승자의 저주로 불린다. [...] 제네시스 \\\"제네시스 (자동차)\\\")\\n   기아 \\\"기아 (기업)\\\")\\n   전북 현대 모터스\\n   베이징 현대자동차\\n   치도 트럭\\n   현대모비스\\n   미쓰비시 자동차 공업\\n   미쓰비시후소트럭 버스\\n   베링트럭\\n   PYL\\n   현대자동차그룹\\n\\n각주\\n--\\n\\n[편집] [...] |  v  t\\\")  e 생산량 기준 자동차 제조사 목록 |\\n| --- |\\n|  Image 75: 일본토요타 자동차  Image 76: 독일폭스바겐 그룹  Image 77: 대한민국현대자동차그룹  Image 78: 네덜란드스텔란티스  Image 79: 네덜란드르노-닛산-미쓰비시 얼라이언스  Image 80: 미국제너럴 모터스  Image 81: 미국포드 모터 컴퍼니  Image 82: 일본혼다 자동차  Image 83: 독일다임러 AG  Image 84: 독일Image 85: 영국BMW |\", \"score\": 0.7460839}, {\"title\": \"현대자동차그룹 - 나무위키\", \"url\": \"https://namu.wiki/w/%ED%98%84%EB%8C%80%EC%9E%90%EB%8F%99%EC%B0%A8%EA%B7%B8%EB%A3%B9\", \"content\": \"[ 펼치기 · 접기 ] 계열사 완성차 브랜드현대자동차 (N · 아이오닉) · 제네시스 \\\"제네시스(자동차 브랜드)\\\") · 기아 폐지된 브랜드갤로퍼 \\\"갤로퍼(자동차 브랜드)\\\") · 베링 트럭 · 블루드라이브 건설현대건설 (힐스테이트 · THE H) · 현대엔지니어링 (현대 테라타워) · 현대스틸산업 · 현대도시개발 부품현대모비스 · 모트라스 · 유니투스 · 현대트랜시스 · 현대위아· 테크젠 · 현대엠시트 · 현대케피코 · 현대파텍스 · 현대아이에이치엘 · 에이치그린파워 · HTWO 재료현대제철 (현대ITC · 현대IMC · 현대ISC · 현대IFC · 현대스틸파이프 · 현대IEC) · 현대비앤지스틸 (현대첨단소재 · 현대머티리얼) · 현대종합특수강 · 현대로템 금융현대카드 · 현대캐피탈 · 현대커머셜 · 현대차증권 · 현대얼터너티브 기타광고이노션 | IT현대오토에버 · 지아이티 · 포티투닷 · 모셔널 · Softeer | 로봇보스턴 다이내믹스 | 물류현대글로비스 · 지마린서비스 | [...] 확장하면서 독자경쟁력을 키우고 있다.( 밀려 재계 3위로 내려왔다.( 오랜 기간 삼성에 이은 재계서열 2위의 위치를 고수해왔으나, 2022년부로 SK에 역전당했다. 현대자동차그룹의 전통적 제조업에 비해 21세기 들어 SK가 새로 추구한 반도체, 배터리, 바이오 사업의 성장률이 좋다보니 자산 규모가 현대차를 뛰어넘은 것이다.( 한국사업장(구 한국GM, GM대우)은 GM의 한국 현지법인이다.( 그룹과 토요타 그룹을 제외하면 제조사가 몇 군데 안되며 수소차 부분 전 세계 1위이다.( 여기서 예외는 갤로퍼와 싼타모를 제작하던 현대정공 자동차사업부(現 현대자동차 울산5공장). 이쪽은 정몽구가 처음부터 끝까지 키운 곳이다.( 철강(열연: 현대제철 → 냉연: 현대하이스코) → 부품(현대모비스, 현대위아, 현대트랜시스, 현대케피코 등) → 모듈(현대모비스, 현대위아) → 완성차(현대차, 기아, 제네시스)+물류(현대글로비스)+자동차 금융(현대카드)( 업계에선 현대제철의 역량과 그룹내 수요가 [...] 현대자동차그룹은 크게 완성차, 철강, 건설, 부품, 금융, 기타 등 6개의 사업 영역으로 분류한다. 완성차는 현대자동차와 기아가 그룹의 맏형 노릇을 하고, 부품은 워낙 계열사가 많지만 주요 회사로는 현대모비스·현대위아·현대트랜시스를 꼽을 수 있다.( \\\"모두 세계 100대 자동차 부품 회사에 이름을 올렸다. #\\\") 제조업과 건설에서는 각각 현대제철·현대로템·현대건설 등이 자회사들을 모두 종속회사로 두고 기타에는 현대글로비스와 이노션이 규모가 크다. 금융 분야는 현대캐피탈·현대커미셜·현대카드 같은 알짜 회사들을 소유하고 있다. IT 분야에는 계열사에 IT 서비스를 지원하는 회사인 현대오토에버가 있다.\", \"score\": 0.6690754}, {\"title\": \"현대자동차의 차별화 전략과 경쟁사 분석: 사용자 경험(UX)전략 ...\", \"url\": \"https://ludystory.com/19\", \"content\": \"현대자동차와 경쟁사의 전기차 기술 비교. 현대자동차는 전기차(EV) 시장에서 경쟁력을 강화하기 위해 지속적인 혁신을 추구하고 있습니다. 특히\", \"score\": 0.6445166}, {\"title\": \"현대자동차와 경쟁 차량들을 비교해 보세요. - Hyundai USA\", \"url\": \"https://www.hyundaiusa.com/us/ko/compare-competitors\", \"content\": \"최대 3대의 차량을 선택하여 MSRP, 안전 기능, 외관 사양, 오디오 사양, 워런티 등이 경쟁사 차량보다 얼마나 뛰어난지 확인하세요!\", \"score\": 0.5446325}, {\"title\": \"현대차그룹 글로벌 정면승부 : 네이버 블로그\", \"url\": \"https://blog.naver.com/jkhan012/223737759001\", \"content\": \"실적도 현대차그룹이 앞서고 있다. 지난해 3분기 누적 폭스바겐그룹의 매출은 2372억7900만유로(약 355조8307억원)와 영업이익 129억700만유로\", \"score\": 0.52393246}, {\"title\": \"자동차 업계가 주목하는 현대차그룹의 경쟁력\", \"url\": \"https://www.hyundai.co.kr/story/CONT0000000000147845\", \"content\": \"기아 EV9, 스페인-포르투갈 언론이 꼽은 '최고의 패밀리카' · 현대차 코나, 영미권 자동차 미디어가 주목하는 '최고의 소형 SUV' · 아이오닉 5, 미국 〈U.S.\", \"score\": 0.46147847}]\n",
            "==================================\u001b[1m Ai Message \u001b[0m==================================\n",
            "\n",
            "현대자동차 경쟁사에 대한 정보를 바탕으로 보고서를 작성하고 PDF 파일로 저장하겠습니다.\n",
            "Tool Calls:\n",
            "  write_pdf (cedc2d5e-ddb0-47dc-ba53-e649cb997535)\n",
            " Call ID: cedc2d5e-ddb0-47dc-ba53-e649cb997535\n",
            "  Args:\n",
            "    content: 현대자동차 경쟁사 보고서\n",
            "=================================\u001b[1m Tool Message \u001b[0m=================================\n",
            "Name: write_pdf\n",
            "\n",
            "output.pdf 저장 완료\n",
            "=================================\u001b[1m Tool Message \u001b[0m=================================\n",
            "Name: write_pdf\n",
            "\n",
            "output.pdf 저장 완료\n"
          ]
        }
      ],
      "source": [
        "query = \"현대자동차의 경쟁사에 대한 정보도 정리된 보고서를 작성해주세요.\"\n",
        "\n",
        "streaming(query, config)"
      ]
    },
    {
      "cell_type": "code",
      "execution_count": 114,
      "metadata": {
        "id": "Lk2rpxQAnKBs"
      },
      "outputs": [],
      "source": [
        "#config = reset_config()\n",
        "\n",
        "#query = \"현재 폴더의 pdf로 이루어진 파일 모두 삭제해줘\"\n",
        "\n",
        "#streaming(query, config)"
      ]
    },
    {
      "cell_type": "code",
      "execution_count": 115,
      "metadata": {
        "id": "t3rAme8unKBt",
        "colab": {
          "base_uri": "https://localhost:8080/"
        },
        "outputId": "616856d1-3696-4e50-8615-fe9bc78962a6"
      },
      "outputs": [
        {
          "output_type": "stream",
          "name": "stdout",
          "text": [
            "================================\u001b[1m Human Message \u001b[0m=================================\n",
            "\n",
            "\n",
            "아래 코드 실행시켜주세요.\n",
            "\n",
            "```python\n",
            "\n",
            "result = 0\n",
            "\n",
            "for i in range(20):\n",
            "    print(f\"{i+1}번째 출력: \", i+1)\n",
            "    result += i\n",
            "\n",
            "print(\"최종 결과: \", result)\n",
            "\n",
            "```\n",
            "\n",
            "================================\u001b[1m Human Message \u001b[0m=================================\n",
            "\n",
            "\n",
            "아래 코드 실행시켜주세요.\n",
            "\n",
            "```python\n",
            "\n",
            "result = 0\n",
            "\n",
            "for i in range(20):\n",
            "    print(f\"{i+1}번째 출력: \", i+1)\n",
            "    result += i\n",
            "\n",
            "print(\"최종 결과: \", result)\n",
            "\n",
            "```\n",
            "\n",
            "==================================\u001b[1m Ai Message \u001b[0m==================================\n",
            "Tool Calls:\n",
            "  python_repl_ast (e5cd14ae-4560-4045-b93b-858a40fc7a84)\n",
            " Call ID: e5cd14ae-4560-4045-b93b-858a40fc7a84\n",
            "  Args:\n",
            "    query: \n",
            "result = 0\n",
            "\n",
            "for i in range(20):\n",
            "    print(f\"{i+1}번째 출력: \", i+1)\n",
            "    result += i\n",
            "\n",
            "print(\"최종 결과: \", result)\n",
            "1번째 출력:  1\n",
            "2번째 출력:  2\n",
            "3번째 출력:  3\n",
            "4번째 출력:  4\n",
            "5번째 출력:  5\n",
            "6번째 출력:  6\n",
            "7번째 출력:  7\n",
            "8번째 출력:  8\n",
            "9번째 출력:  9\n",
            "10번째 출력:  10\n",
            "11번째 출력:  11\n",
            "12번째 출력:  12\n",
            "13번째 출력:  13\n",
            "14번째 출력:  14\n",
            "15번째 출력:  15\n",
            "16번째 출력:  16\n",
            "17번째 출력:  17\n",
            "18번째 출력:  18\n",
            "19번째 출력:  19\n",
            "20번째 출력:  20\n",
            "=================================\u001b[1m Tool Message \u001b[0m=================================\n",
            "Name: python_repl_ast\n",
            "\n",
            "최종 결과:  190\n",
            "\n",
            "=================================\u001b[1m Tool Message \u001b[0m=================================\n",
            "Name: python_repl_ast\n",
            "\n",
            "최종 결과:  190\n",
            "\n"
          ]
        }
      ],
      "source": [
        "config = reset_config()\n",
        "\n",
        "code = \"\"\"\n",
        "아래 코드 실행시켜주세요.\n",
        "\n",
        "```python\n",
        "\n",
        "result = 0\n",
        "\n",
        "for i in range(20):\n",
        "    print(f\"{i+1}번째 출력: \", i+1)\n",
        "    result += i\n",
        "\n",
        "print(\"최종 결과: \", result)\n",
        "\n",
        "```\n",
        "\"\"\"\n",
        "\n",
        "streaming(code, config)"
      ]
    },
    {
      "cell_type": "code",
      "execution_count": 116,
      "metadata": {
        "id": "PjIVlnOMnKBt",
        "colab": {
          "base_uri": "https://localhost:8080/"
        },
        "outputId": "09a5fd72-9584-4124-922b-e78c096ac926"
      },
      "outputs": [
        {
          "output_type": "stream",
          "name": "stdout",
          "text": [
            "================================\u001b[1m Human Message \u001b[0m=================================\n",
            "\n",
            "\n",
            "          모두의연구소는 어떤 곳이야?\n",
            "          깔끔하게 정리해서 레포트로 만들어줘.\n",
            "          레포트의 형식은 pdf로 저장해주면 돼.\n",
            "          이름은 \"모두의연구소_레포트.pdf\"로 해줘.\n",
            "================================\u001b[1m Human Message \u001b[0m=================================\n",
            "\n",
            "\n",
            "          모두의연구소는 어떤 곳이야?\n",
            "          깔끔하게 정리해서 레포트로 만들어줘.\n",
            "          레포트의 형식은 pdf로 저장해주면 돼.\n",
            "          이름은 \"모두의연구소_레포트.pdf\"로 해줘.\n",
            "==================================\u001b[1m Ai Message \u001b[0m==================================\n",
            "Tool Calls:\n",
            "  tavily_search_results_json (05c3b7ba-f896-4034-ab4c-81cc1bd561a6)\n",
            " Call ID: 05c3b7ba-f896-4034-ab4c-81cc1bd561a6\n",
            "  Args:\n",
            "    query: 모두의연구소\n",
            "=================================\u001b[1m Tool Message \u001b[0m=================================\n",
            "Name: tavily_search_results_json\n",
            "\n",
            "[{\"title\": \"스토리 | 모두의연구소\", \"url\": \"https://modulabs.co.kr/modulabs-story\", \"content\": \"### 언론 속의 모두의연구소\\n\\n### 김승일 모두의연구소 대표, 제5회 아이뉴스 DNA 공로상 수상\\n\\n제5회 아이뉴스24 D·N·A 혁신상' 시상식이 18일 서울 용산구 그랜드 하얏트 서울에서 열렸다. 김 대표는 모두의연구소를 통해 누구나 하고 싶은 연구를 마음껏 할 수 있는 연구 문화와 연령·학벌 등에 차별 없는 AI 교육으로 국내 AI 발전과 인력 창출에 기여했다는 평가를 받는다.\\n\\n2024.12.18\\n\\n김승일 모두의연구소 대표, 제5회 아이뉴스 DNA 공로상 수상\\n\\n### 김승일 모두의연구소 대표, ‘2024 SW인재페스티벌’서 과기부 장관표창 수상\\n\\n인공지능(AI) 교육 전문 모두의연구소는 김승일 대표가 ‘2024 SW인재페스티벌’에서 과학기술정보통신부 장관 표창을 수상했다고 17일 밝혔다. 모두의연구소는 AI 연구 커뮤니티, AI-SW 인재 육성 사업, 기업 맞춤형 AI 교육 사업 등 다양한 분야를 담당하는 AI 교육 전문기업이다.\\n\\n2024.12.17 [...] ## 교육\\n\\n### AI 교육\\n\\n### 취준생 액티브러닝 캠프\\n\\n### 직장인 액티브러닝 캠프\\n\\n### 온라인 강의\\n\\n## 커뮤니티\\n\\n## 무료 세미나\\n\\n## 모두의연구소 미션 소개\\n\\nOur Mission\\n\\n### Share Value, Grow Together\\n\\n함께 지식을 공유하고 성장하는 연구 문화를 전파합니다\\n\\nOur Mission\\n\\n## \\n\\nOur Value\\n\\n### 모두의연구소는 “경쟁이 아닌 상생의 힘” 을 믿습니다.\\n\\nOur Value\\nbackground Quote\\n\\n모두의연구소는 지식을 나누고 함께 성장하는 커뮤니티형 교육을 통해 더 나은 미래를 만들고자 합니다. AI 시대, 100년 전처럼 주입식으로 가르치는 교육 방식은 점점 그 의미를 잃고 있습니다.   \\n   \\n 우리는 사람과 사람을 연결하여 함께 웃고, 배우고, 성장하는 과정을 소중히 여기며, 세상에 필요한 지식을 함께 나누는 세상을 꿈꿉니다.\\n\\n## 모두의연구소 비전 소개\\n\\n모두의연구소는 [...] 모두의연구소(대표 김승일)가 KB인베스트먼트와 대교인베스트먼트로부터 70억 원 투자를 유치했다. 연구소 측은 이번 투자 유치를 통해 인공지능(AI) 개발자 양성과 커뮤니티 서비스 확장, 인재 확보 등을 추진하겠다고 밝혔다.\\n\\n2022.02.07\\n\\n모두의연구소, 70억원 투자 유치…AI 연구 인재창출 앞장\\n\\n## \\n\\n### 모두의연구소와 함께 성장할 동료를 찾습니다!\\n\\n모두의연구소에서 열정과 도전으로 함께할 멋진 동료를 기다리고 있습니다.\\n\\n모두의연구소 채용 소식\", \"score\": 0.78886026}, {\"title\": \"LAB | 모두의연구소\", \"url\": \"https://modulabs.co.kr/labs\", \"content\": \"## 교육\\n\\n### AI 교육\\n\\n### 취준생 액티브러닝 캠프\\n\\n### 직장인 액티브러닝 캠프\\n\\n### 온라인 강의\\n\\n## 커뮤니티\\n\\n## 무료 세미나\\n\\n## 하고 싶은 연구를 자유롭게 하는, 안전한 실험실 LAB\\n\\n모두의연구소 “Share Value, Grow Together” 가치에 공감하는 분들이 모여 논문 / 오픈소스 / 콘텐츠 등을 목표로 연구하고, 그 과정과 결과를 공유하는 연구 모임입니다.\\n\\n## \\n\\n### 모두의연구소에서 연구한다면?\\n\\n다양한 프로그램으로 지원 받고 연구해보세요!\\n\\n공간 무료 지원\\n\\n공간 무료 지원\\n\\nGPU 무료 지원\\n\\nGPU 무료 지원\\n\\n논문 지원 제도\\n\\n논문 지원 제도\\n\\n## LAB 리스트\\n\\n### 함께하는 모두의 연구실, LAB\\n\\n모두의연구소는 연구의 가치를 나누며 함께 성장하는 여정을 응원합니다\\n\\n[사이드임팩트] FairSharky LAB\\n\\n이용약관과 개인처리정보방침 분석 플랫폼\\n\\n다오랩 6기 LAB [...] 모두가 의사소통 제약 없이 살아가는 세상을 만들어갑니다.\\n\\nGenAI in Finance LAB\\n\\nGenAI in Finance\\n\\nDE LAB\\n\\nNLP, 이미지 AI, 그리고 LLM 에이전트 등 AI관련 다양한 분야의 연구를 진행합니다\\n\\nRAG LAB\\n\\nControllable한 RAG 방법을 제안합니다.\\n\\nDataWarriors LAB\\n\\n경진대회 수상을 목적으로 하는 Lab\\n\\nMirrorMind Lab LAB\\n\\nAI인격, 협업, 조직 진화를 위한 실험적 아키텍처 MirrorMind 구현 및 실험\\n\\n## 홈 중간배너\\n\\n모두의연구소 랩장 & 캡틴이라면\\n모두의연구소 랩장 & 캡틴이라면\\n\\n### 모두의연구소 랩장 & 캡틴이라면\\n\\nAI 활용 노하우\\n스터디\\nAI 활용 노하우\\n스터디\\n\\n### AI 활용 노하우 스터디\\n\\n### 똑똑한 AI 일잘러가 되고 싶다면? 직장인 클래스! [...] 미래 조직을 연구하고 설계하고 세상에 적용하는 실험실\\n\\nAI Inference LAB\\n\\n고성능·저지연·확장 가능한 AI 추론 운영 플랫폼\\n\\n다오랩 바이브코딩길드 LAB\\n\\n“자율과 몰입이 자연스럽게 연결되는 협업 문화를 만들어본다면?”\\n\\nUrban LAB\\n\\n도시 문제 해결을 위해 데이터 및 AI 기반 방법론을 활용한 연구\\n\\nVision-Language Model Safety LAB\\n\\n아이펠 리서치 12기 그루와 이영완 멘토님이 함께 만든 VLM safety 연구실\\n\\nlogp(x) LAB\\n\\n생성모델의 알고리즘을 분석하고 연구합니다.\\n\\nn8n을 활용한 논문 필터링 자동화 LAB\\n\\nn8n을 활용한 논문 필터링 자동화\\n\\n솔로프리너 업무자동화 에이전트 LAB\\n\\n솔로프리너의 업무/창작/커뮤니티 자동화를 돕는 다양한 AI 에이전트 서비스를 개발합니다.\\n\\n쉬운말 번역기 LAB\\n\\n발달장애인들의 일상생활 지원을 위한 서비스 개발\\n\\n[사이드임팩트] Say Better LAB\", \"score\": 0.75377536}, {\"title\": \"모두의연구소 - 나무위키\", \"url\": \"https://namu.wiki/w/%EB%AA%A8%EB%91%90%EC%9D%98%EC%97%B0%EA%B5%AC%EC%86%8C\", \"content\": \"1. 개요[편집]. Share Value, Grow Together. 함께 지식을 공유하고, 성장하는 연구 문화를 전파합니다. 대한민국의 커뮤니티 기반 성인 대상 AI 교육\", \"score\": 0.73207545}, {\"title\": \"모두의연구소 2025년 기업정보 - 직원수, 근무환경, 복리후생 등\", \"url\": \"https://www.jobkorea.co.kr/recruit/co_read/c/modulabs\", \"content\": \"'Share Value, Grow Together'는 모두의연구소의 슬로건입니다.\\n\\n지식을 공유하고 함께 성장하고 싶은 사람들! 바로 모두의연구소를 함께 만들어 갈 멋진 동료를 찾고 있습니다. \\n\\n지금 바로 모두연에서 함께 성장해요.\\n\\n[모두의연구소 service]\\n\\nㆍ커뮤니티 기반 성장형 SW/AI 교육 플랫폼 오름캠프\\n\\nㆍ오픈 연구 플랫폼 커뮤니티\\n\\n[모두연 읽어보기]\\n\\n동영상ver.\\n\\nㆍ모두의연구소의 성장 스토리 \\n\\nㆍ교육을 말하다 1부 영상 \\n\\n기사ver.\\n\\nㆍ모두의연구소, 70억 원 투자 유치…AI 연구·인재창출 앞장 \\n\\nㆍ모두의연구소 김승일 대표, ‘직업능력의 달 기념식’서 대통령 표창 수상 \\n\\nㆍ모두의연구소 ‘AI학교 아이펠’, ICLR 2024 워크숍 혁신 기술 논문 채택 \\n\\n[모두의연구소 채용페이지]\\n\\nㆍ \\n\\n더보기;)\\n\\n### 복리후생\\n\\n 연금·보험\\n\\n국민연금\\n\\n고용보험\\n\\n산재보험\\n\\n건강보험\\n\\n 휴무·휴가·행사\\n\\n리프레시 휴가\\n\\n반반차 제도\\n\\n 편의·여가·건강 [...] | 접수기간 | 채용제목 | 구분 |\\n| --- | --- | --- |\\n| 2025.06.26 ~ 2025.07.26 | 채용중 재직자 과정 부트캠프 교육 운영 | 경력 서울 초대졸↑ 정규직 |\\n| 2025.06.26 ~ 2025.07.25 | 채용중 취업자 과정 부트캠프 교육 운영 | 경력 서울 초대졸↑ 정규직 |\\n| 2025.06.20 ~ 2025.07.20 | 채용중 KHP 교육 운영 | 경력 서울 초대졸↑ 정규직 |\\n| 2025.06.05 ~ 2025.07.05 | 채용중 인사 담당자 | 경력 서울 초대졸↑ 정규직 |\\n| 2025.05.30 ~ 2025.06.29 | 채용중 AI 커리큘럼 / 교육기획 | 경력 서울 초대졸↑ 정규직 |\\n\\n근무환경\\n----\\n\\n### 기업소개\\n\\n 모두의연구소는 AI 교육인 아이펠과 작년에 새롭게 런칭된 SW 교육, 그리고 다양한 주제가 있는 커뮤니티를 기반으로 교육 및 연구 서비스를 제공하고 있어요. [...] |\\n| 자본금 | 4,040만원 | 매출액 | 41억 2662만원 |\\n| 대표자 | 김승일 | 주요사업 | IT컨설팅, AI연구 및 교육 |\\n| 4대보험 | 국민연금, 건강보험, 고용보험, 산재보험 | 홈페이지 |  |\\n| 주소 | 서울 강남구 강남대로 324 (역삼동, 역삼디오슈페리움) 2층 |\\n\\n재무분석\\n----\\n\\n재무현황 전체보기;)\\n\\n### 매출액\\n\\n툴팁\\n\\n기업의 주요 영업활동 등을 통해 얻는 수익을 말합니다.\\n\\n상품 등의 판매나 용역의 제공으로 얻어진 수익입니다.\\n\\n[출처 : 네이버 지식백과 > 용어해설 > 매출액]\\n\\n닫기\\n\\n2021년 매출액 \\n\\n41억 2천만원\\n\\n작년 대비\\n\\n183%\\n\\n_상승_\\n\\n0\\n\\n2018\\n\\n4억 7,945만원\\n\\n2019\\n\\n8억 8,669만원\\n\\n2020\\n\\n14억 5천만원\\n\\n2021\\n\\n41억 2천만원\\n\\n2021.12기준\\n\\n### 영업이익\\n\\n툴팁\\n\\n매출액에서 매출원가를 빼고 얻은 총이익 중에서 일반 관리비와 판매비를 제외한 금액입니다.\", \"score\": 0.725824}, {\"title\": \"모두의연구소 채용페이지\", \"url\": \"https://modulabs.career.greetinghr.com/ko/home\", \"content\": \"모두의연구소 채용페이지\\n\\n===============\\n\\nImage 2: logo 모두의연구소 ======\\n\\nHome\\n\\nCulture\\n\\nStory\\n\\nApply\\n\\n채용 중인 공고\\n\\n왜 우리는 하고 싶은 걸\\n\\n마음껏 연구해 보지 못할까요?\\n--------------------------------\\n\\n모두의연구소는 이 질문에서 시작했습니다.\\n\\nImage 3\\n\\n### 모두의연구소의 시작\\n\\n모두의연구소는 누구나 하고 싶은 주제가 있으면 분야에 상관없이 스터디를 만들 수 있고, 아직 하고 싶은 것을 찾지 못했다면 다양한 시도를 해볼 수 있는 열린 공간이 필요하다고 느꼈습니다. 같은 관심사를 가진 사람들이 모여 경쟁이 아닌 상생을 통해 함께 성장하는 문화를 만들어가자는 목표로 시작되었습니다.\\n\\n### Share Value, Grow together [...] ‘2024 SW인재페스티벌’서 과기부 장관표창 수상\\n\\n인공지능(AI) 교육 전문 모두의연구소는 김승일 대표가 ‘2024 SW인재페스티벌’에서 과학기술정보통신부 장관 표창을 수상했다고 17일 밝혔다.\\n\\n2024.10.02\\n\\nImage 14\\n\\n### 카카오엔터프라이즈-카카오임팩트-모두의연구소,\\n\\n카카오클라우드로 더 나은 세상 조성 앞장\\n\\n카카오임팩트와 모두의연구소는 테크포임팩트 기술 커뮤니티의 대표 활동으로 사회 문제 해결에 기여하기 위해 논문, 연구, 서비스 및 솔루션 개발 등 기술 관련 결과물을 함께 만들어내는 모임인 ‘LAB’을 운영하고 있다.\\n\\n2023.09.06\\n\\nImage 15\\n\\n### AI학교 아이펠, 글로벌 학회 ‘ICLR’에서 혁신 기술 논문 채택 [...] 퀘스트 기반 몰입형 커리큘럼으로\\n\\n실무 역량을 키우는 AI 혁신학교\\n\\nImage 8\\n\\n액티브러닝 캠프\\n\\n실습과 협업 중심의\\n\\n프로젝트 기반 AI·SW 부트캠프\\n\\nImage 9\\n\\n모두연 클래스\\n\\n인공지능 전환(AX) 시대에 필요한\\n\\n실용적인 기술을 학습할 수 있는 온라인 플랫폼\\n\\n### 기업·직장인 서비스\\n\\n모두의연구소 교육 및 커뮤니티 서비스를 바탕으로 실무 중심의 AI 교육을 통해\\n\\n기업과 개인이 업무 변화에 적응하고, 지속적으로 성장할 수 있도록 교육을 제공합니다.\\n\\nImage 10\\n\\n기업 교육\\n\\n조직의 디지털 전환을 위한\\n\\n맞춤형 AI·SW 실무 교육 프로그램\\n\\nImage 11\\n\\n직장인 교육\\n\\n커리어 전환이나 실무 역량 강화를 목표로 하는\\n\\n직장인을 위한 교육 과정\\n\\nImage 12\\n\\n비즈 세미나\\n\\n직장인을 위한\\n\\nAI 실무 활용 중심의 지식 공유 세션\\n\\nNews\\n----\\n\\nPrevious\\n\\nImage 13\\n\\n### 김승일 모두의연구소 대표,\", \"score\": 0.7152057}, {\"title\": \"모두의연구소 - YouTube\", \"url\": \"https://www.youtube.com/@modulabs_\", \"content\": \"모두의연구소 “Share Value, Grow Together” 가치에 공감하는 분들이 모여 논문 / 오픈소스 / 콘텐츠 등을 목표로 연구하고, 그 과정과 결과를 공유하는 연구 모임입니다. \\n\\nImage 36 11:53 11:53 Now playing\\n\\nImage 37\\n\\n### [[모두콘2024] 카카오톡 챗봇을 활용해 리포터 AI 챗봇 만들기 - 김현우 (디케이테크인 | 누구나리포터 LAB)]( \\\"[모두콘2024] 카카오톡 챗봇을 활용해 리포터 AI 챗봇 만들기 - 김현우 (디케이테크인 | 누구나리포터 LAB)\\\")\\n\\n모두의연구소\\n\\n 모두의연구소 \\n\\n497 views 5 months ago\\n\\nImage 38 45:21 45:21 Now playing\\n\\nImage 39\\n\\n### [[모두콘2024] 모두의연구소 NVIDIA 기술랩 세션 - 이제영, 문영기, 이한얼]( \\\"[모두콘2024] 모두의연구소 NVIDIA 기술랩 세션 - 이제영, 문영기, 이한얼\\\")\\n\\n모두의연구소 [...] 모두의연구소 - YouTube\\n\\n===============\\n\\n•\\n\\nNaN / NaN\\n\\n Back Image 1\\n\\nSkip navigation\\n\\n Search \\n\\n Search with your voice \\n\\nSign in\\n\\nImage 2\\n\\nHome HomeShorts ShortsSubscriptions SubscriptionsYou YouHistory History\\n\\nImage 3\\n\\nImage 4\\n\\n모두의연구소\\n======\\n\\n@modulabs_\\n\\n•\\n\\n11K subscribers•753 videos\\n\\nShare Value, Grow Together ...more...morelitt.ly/modulabs\\n\\nSubscribe\\n\\nHome\\n\\nVideos\\n\\nShorts\\n\\nLive\\n\\nPlaylists\\n\\nPosts\\n\\nSearch \\n\\n2015년부터 AI 교육에 진심이었던 아이펠 이야기\\n\\nSearch\\n\\nInfo\\n\\nShopping\\n\\nTap to unmute\\n\\n2x\\n\\nImage 5 [...] Play all\\n-----------------------------------------------------------------------------------------------------------------------------------------------------------------------------------------------------------------------------------------------------------------------------------------------------------------------------------------------------------\\n\\n100년 전부터 이어져 온 바뀌지 않는 주입식 교육, 이제는 누군가 그 교실의 모습을 바꿔야 되지 않을까요? 모두의연구소가 여기에 도전하려고 합니다. 새로운 교육을 향한 도전을 지금 영상에서 확인해 보세요!\", \"score\": 0.68571854}, {\"title\": \"모두의연구소 아이펠 | 실무 중심 AI 전문가 양성 과정\", \"url\": \"https://aiffel.io/\", \"content\": \"모두의연구소\\n\\n대표: 김승일 | 개인정보관리책임자: 안우진|사업자등록번호: 517-88-00184\\n\\n주소: 서울시 강남구 강남대로 324 역삼디오슈페리움 2층(주)모두의연구소\\n\\n\\n\\n이메일 : aiffel-cs@modulabs.co.kr\\n\\n2025®MODULABS [...] 아이펠의 교육 목표는 단편적인 기술적 지식을 습득하는 것에 그치는 것이 아니라 평생 성장할 학습 근력을 키우는 것이에요. 문제 해결(평생 성장할 수 있는 학습 근력)을 위해 자기주도적 학습, 협업 능력, AI를 응용하는 역량을 갖추는 것에 집중을 해요. 아이펠의 교육 강도는 교육 기간 6개월(840Hr) 매일 10:00~18:00의 시간 투자와 AI 역량 강화 노력이 필요합니다. 추가로 비전공자 수준이라면 하루에 정해진 커리큘럼 내용이 타이트할 수 있습니다. 하루 정규 교육 과정 8시간 이외에 추가 학습이 필요할 수 있습니다. 따라서 학교, 직장을 병행하여 교육 수강은 어렵습니다. 학교, 직장을 병행하며 교육을 원하시는 분은 아래 모두의연구소 프로그램에 많은 관심 부탁드려요.\\n\\n모두의연구소 : \\n\\n비전공자도 교육을 따라갈 수 있을까요?\\n\\n제가 이 교육을 들을 수 있나요?\\n\\n수강료가 궁금합니다.\\n\\n교육 수료생들의 수료 이후는 어떤가요?\\n\\n교육참여를 위한 준비물이 있나요? [...] Published Time: Wed, 11 Jun 2025 09:55:20 GMT\\n\\n모두의연구소 아이펠 | 실무 중심 AI 전문가 양성 과정\\n\\n===============\\n\\nBILLY DUVALLE\\n\\n입학하기\\n\\nAI 전문가로 거듭나는 길, 아이펠\\n\\n준비된 사람만이 AI 시대를 주도합니다.\\n\\n신청하기\\n\\nYour Gateway to AI Excellence\\n\\nAI 전문가로 가는 최적의 여정\\n\\n아이펠\\n===\\n\\n지금 시작하기\\n\\n교육 기간\\n\\n25.07.02(수) ~ 26.01.05(월)\\n\\n평일 10:00 ~ 18:00\\n\\n교육 방법\\n\\n100% 실시간 비대면\\n\\n 6개월 동안 상주하는 퍼실리테이터와\\n\\n함께하는 자기주도학습\\n\\n수강료\\n\\n15,246,000원\\n\\n0원\\n\\nImage 1\\n\\n매월 최대 훈련 장려금\\n\\n316,000원\\n\\nImage 2\\n\\n###### 지원 자격\\n\\n내일배움카드 발급 가능자,\\n\\n6개월간 평일 참여 가능자\\n\\nImage 3\\n\\n아이펠 출신 AI 전문가의 논문,\", \"score\": 0.66959417}, {\"title\": \"모두의연구소\", \"url\": \"https://modulabs.co.kr/\", \"content\": \"알림신청 배너\\n-------\\n\\n### 빠르게 변하는 AI 트렌드를 쉽게 접하고 싶나요?\\n\\n매주 월요일 모두의연구소 모두레터가 찾아갑니다\\n\\n무료 구독하기\\n\\n 모두의연구소 | 대표 : 김승일  \\n개인정보보호책임자 : 안우진 | 통신판매업신고 : 2017-서울강남-04920 | 사업자등록번호 : 517-88-00184  \\n주소 : 서울특별시 강남구 강남대로 324 역삼디오슈페리움 2층 | 전화 : 070-7743-5882\\n\\n개인정보처리방침 | 이용 약관 | 채용 | 사업자정보확인 | 뉴스레터 구독\\n\\nCopyright ©2024 MODULABS. All Rights Reserved. [...] 교육\\n   커뮤니티\\n   무료 세미나\\n   AI 기업 교육\\n   블로그\\n   스토리\\n\\n로그인\\n\\n로그인\\n\\n홈 메인배너\\n------ [...] 모두연 서비스 바로가기\\n------------\\n\\n   _Image 13: 데이터 분석_ 모집중 데이터 분석\\n   _Image 14: 프론트엔드_ 사전모집 프론트엔드\\n   _Image 15: 백엔드_ 사전모집 백엔드\\n   _Image 16: 직장인 AI_ 직장인 AI\\n   _Image 17: LAB_ LAB\\n   _Image 18: 모두모임_ NEW 모두모임\\n   _Image 19: AI 온라인 강의_ 국비지원 AI 온라인 강의\\n   _Image 20: AI 대체 테스트_ NEW AI 대체 테스트\\n\\n모두연 KDT\\n-------\\n\\n### 모두의연구소 오름캠프\\n\\n커뮤니티 기반의 성장형 SW/AI 교육 플랫폼에서 함께 성장해요!\\n\\n더 알아보기\", \"score\": 0.568057}, {\"title\": \"모두의연구소 공식 (@modulabs_) - Threads\", \"url\": \"https://www.threads.com/@modulabs_\", \"content\": \"연구의 여정을 나눌 랩을 찾습니다!모두의연구소 10주년, 그리고 12월의 MODUCON 2025 무대에서 LAB의 실험과 성장을 소개해 주세요.\", \"score\": 0.5005133}, {\"title\": \"모두의연구소 커뮤니티 | Facebook\", \"url\": \"https://www.facebook.com/groups/modulabs/?locale=ko_KR\", \"content\": \"Log into Facebook\\n\\n===============\\n\\nImage 1: Facebook\\n\\n_Notice_\\n\\nYou must log in to continue.\\n\\nLog Into Facebook\\n\\nYou must log in to continue.\\n\\n\\n   Español\\n   Français (France)\\\")\\n   中文(简体)\\\")\\n   العربية\\n   Português (Brasil)\\\")\\n   Italiano\\n   한국어\\n   Deutsch\\n   हिन्दी\\n   日本語 [...] Sign Up\\n   Log In\\n   Messenger\\n   Facebook Lite\\n   Video\\n   Meta Pay\\n   Meta Store\\n   Meta Quest\\n   Ray-Ban Meta\\n   Meta AI\\n   Instagram\\n   Threads\\n   Voting Information Center\\n   Privacy Policy\\n   Consumer Health Privacy\\n   Privacy Center\\n   About\\n   Create ad\\n   Create Page\\n   Developers\\n   Careers\\n   Cookies\\n   Ad choices\\n   Terms\\n   Help\\n   Contact Uploading & Non-Users\\n   Settings\\n   Activity log\\n\\n Meta © 2025\\n\\nImage 2\", \"score\": 0.3656158}]\n",
            "=================================\u001b[1m Tool Message \u001b[0m=================================\n",
            "Name: tavily_search_results_json\n",
            "\n",
            "[{\"title\": \"스토리 | 모두의연구소\", \"url\": \"https://modulabs.co.kr/modulabs-story\", \"content\": \"### 언론 속의 모두의연구소\\n\\n### 김승일 모두의연구소 대표, 제5회 아이뉴스 DNA 공로상 수상\\n\\n제5회 아이뉴스24 D·N·A 혁신상' 시상식이 18일 서울 용산구 그랜드 하얏트 서울에서 열렸다. 김 대표는 모두의연구소를 통해 누구나 하고 싶은 연구를 마음껏 할 수 있는 연구 문화와 연령·학벌 등에 차별 없는 AI 교육으로 국내 AI 발전과 인력 창출에 기여했다는 평가를 받는다.\\n\\n2024.12.18\\n\\n김승일 모두의연구소 대표, 제5회 아이뉴스 DNA 공로상 수상\\n\\n### 김승일 모두의연구소 대표, ‘2024 SW인재페스티벌’서 과기부 장관표창 수상\\n\\n인공지능(AI) 교육 전문 모두의연구소는 김승일 대표가 ‘2024 SW인재페스티벌’에서 과학기술정보통신부 장관 표창을 수상했다고 17일 밝혔다. 모두의연구소는 AI 연구 커뮤니티, AI-SW 인재 육성 사업, 기업 맞춤형 AI 교육 사업 등 다양한 분야를 담당하는 AI 교육 전문기업이다.\\n\\n2024.12.17 [...] ## 교육\\n\\n### AI 교육\\n\\n### 취준생 액티브러닝 캠프\\n\\n### 직장인 액티브러닝 캠프\\n\\n### 온라인 강의\\n\\n## 커뮤니티\\n\\n## 무료 세미나\\n\\n## 모두의연구소 미션 소개\\n\\nOur Mission\\n\\n### Share Value, Grow Together\\n\\n함께 지식을 공유하고 성장하는 연구 문화를 전파합니다\\n\\nOur Mission\\n\\n## \\n\\nOur Value\\n\\n### 모두의연구소는 “경쟁이 아닌 상생의 힘” 을 믿습니다.\\n\\nOur Value\\nbackground Quote\\n\\n모두의연구소는 지식을 나누고 함께 성장하는 커뮤니티형 교육을 통해 더 나은 미래를 만들고자 합니다. AI 시대, 100년 전처럼 주입식으로 가르치는 교육 방식은 점점 그 의미를 잃고 있습니다.   \\n   \\n 우리는 사람과 사람을 연결하여 함께 웃고, 배우고, 성장하는 과정을 소중히 여기며, 세상에 필요한 지식을 함께 나누는 세상을 꿈꿉니다.\\n\\n## 모두의연구소 비전 소개\\n\\n모두의연구소는 [...] 모두의연구소(대표 김승일)가 KB인베스트먼트와 대교인베스트먼트로부터 70억 원 투자를 유치했다. 연구소 측은 이번 투자 유치를 통해 인공지능(AI) 개발자 양성과 커뮤니티 서비스 확장, 인재 확보 등을 추진하겠다고 밝혔다.\\n\\n2022.02.07\\n\\n모두의연구소, 70억원 투자 유치…AI 연구 인재창출 앞장\\n\\n## \\n\\n### 모두의연구소와 함께 성장할 동료를 찾습니다!\\n\\n모두의연구소에서 열정과 도전으로 함께할 멋진 동료를 기다리고 있습니다.\\n\\n모두의연구소 채용 소식\", \"score\": 0.78886026}, {\"title\": \"LAB | 모두의연구소\", \"url\": \"https://modulabs.co.kr/labs\", \"content\": \"## 교육\\n\\n### AI 교육\\n\\n### 취준생 액티브러닝 캠프\\n\\n### 직장인 액티브러닝 캠프\\n\\n### 온라인 강의\\n\\n## 커뮤니티\\n\\n## 무료 세미나\\n\\n## 하고 싶은 연구를 자유롭게 하는, 안전한 실험실 LAB\\n\\n모두의연구소 “Share Value, Grow Together” 가치에 공감하는 분들이 모여 논문 / 오픈소스 / 콘텐츠 등을 목표로 연구하고, 그 과정과 결과를 공유하는 연구 모임입니다.\\n\\n## \\n\\n### 모두의연구소에서 연구한다면?\\n\\n다양한 프로그램으로 지원 받고 연구해보세요!\\n\\n공간 무료 지원\\n\\n공간 무료 지원\\n\\nGPU 무료 지원\\n\\nGPU 무료 지원\\n\\n논문 지원 제도\\n\\n논문 지원 제도\\n\\n## LAB 리스트\\n\\n### 함께하는 모두의 연구실, LAB\\n\\n모두의연구소는 연구의 가치를 나누며 함께 성장하는 여정을 응원합니다\\n\\n[사이드임팩트] FairSharky LAB\\n\\n이용약관과 개인처리정보방침 분석 플랫폼\\n\\n다오랩 6기 LAB [...] 모두가 의사소통 제약 없이 살아가는 세상을 만들어갑니다.\\n\\nGenAI in Finance LAB\\n\\nGenAI in Finance\\n\\nDE LAB\\n\\nNLP, 이미지 AI, 그리고 LLM 에이전트 등 AI관련 다양한 분야의 연구를 진행합니다\\n\\nRAG LAB\\n\\nControllable한 RAG 방법을 제안합니다.\\n\\nDataWarriors LAB\\n\\n경진대회 수상을 목적으로 하는 Lab\\n\\nMirrorMind Lab LAB\\n\\nAI인격, 협업, 조직 진화를 위한 실험적 아키텍처 MirrorMind 구현 및 실험\\n\\n## 홈 중간배너\\n\\n모두의연구소 랩장 & 캡틴이라면\\n모두의연구소 랩장 & 캡틴이라면\\n\\n### 모두의연구소 랩장 & 캡틴이라면\\n\\nAI 활용 노하우\\n스터디\\nAI 활용 노하우\\n스터디\\n\\n### AI 활용 노하우 스터디\\n\\n### 똑똑한 AI 일잘러가 되고 싶다면? 직장인 클래스! [...] 미래 조직을 연구하고 설계하고 세상에 적용하는 실험실\\n\\nAI Inference LAB\\n\\n고성능·저지연·확장 가능한 AI 추론 운영 플랫폼\\n\\n다오랩 바이브코딩길드 LAB\\n\\n“자율과 몰입이 자연스럽게 연결되는 협업 문화를 만들어본다면?”\\n\\nUrban LAB\\n\\n도시 문제 해결을 위해 데이터 및 AI 기반 방법론을 활용한 연구\\n\\nVision-Language Model Safety LAB\\n\\n아이펠 리서치 12기 그루와 이영완 멘토님이 함께 만든 VLM safety 연구실\\n\\nlogp(x) LAB\\n\\n생성모델의 알고리즘을 분석하고 연구합니다.\\n\\nn8n을 활용한 논문 필터링 자동화 LAB\\n\\nn8n을 활용한 논문 필터링 자동화\\n\\n솔로프리너 업무자동화 에이전트 LAB\\n\\n솔로프리너의 업무/창작/커뮤니티 자동화를 돕는 다양한 AI 에이전트 서비스를 개발합니다.\\n\\n쉬운말 번역기 LAB\\n\\n발달장애인들의 일상생활 지원을 위한 서비스 개발\\n\\n[사이드임팩트] Say Better LAB\", \"score\": 0.75377536}, {\"title\": \"모두의연구소 - 나무위키\", \"url\": \"https://namu.wiki/w/%EB%AA%A8%EB%91%90%EC%9D%98%EC%97%B0%EA%B5%AC%EC%86%8C\", \"content\": \"1. 개요[편집]. Share Value, Grow Together. 함께 지식을 공유하고, 성장하는 연구 문화를 전파합니다. 대한민국의 커뮤니티 기반 성인 대상 AI 교육\", \"score\": 0.73207545}, {\"title\": \"모두의연구소 2025년 기업정보 - 직원수, 근무환경, 복리후생 등\", \"url\": \"https://www.jobkorea.co.kr/recruit/co_read/c/modulabs\", \"content\": \"'Share Value, Grow Together'는 모두의연구소의 슬로건입니다.\\n\\n지식을 공유하고 함께 성장하고 싶은 사람들! 바로 모두의연구소를 함께 만들어 갈 멋진 동료를 찾고 있습니다. \\n\\n지금 바로 모두연에서 함께 성장해요.\\n\\n[모두의연구소 service]\\n\\nㆍ커뮤니티 기반 성장형 SW/AI 교육 플랫폼 오름캠프\\n\\nㆍ오픈 연구 플랫폼 커뮤니티\\n\\n[모두연 읽어보기]\\n\\n동영상ver.\\n\\nㆍ모두의연구소의 성장 스토리 \\n\\nㆍ교육을 말하다 1부 영상 \\n\\n기사ver.\\n\\nㆍ모두의연구소, 70억 원 투자 유치…AI 연구·인재창출 앞장 \\n\\nㆍ모두의연구소 김승일 대표, ‘직업능력의 달 기념식’서 대통령 표창 수상 \\n\\nㆍ모두의연구소 ‘AI학교 아이펠’, ICLR 2024 워크숍 혁신 기술 논문 채택 \\n\\n[모두의연구소 채용페이지]\\n\\nㆍ \\n\\n더보기;)\\n\\n### 복리후생\\n\\n 연금·보험\\n\\n국민연금\\n\\n고용보험\\n\\n산재보험\\n\\n건강보험\\n\\n 휴무·휴가·행사\\n\\n리프레시 휴가\\n\\n반반차 제도\\n\\n 편의·여가·건강 [...] | 접수기간 | 채용제목 | 구분 |\\n| --- | --- | --- |\\n| 2025.06.26 ~ 2025.07.26 | 채용중 재직자 과정 부트캠프 교육 운영 | 경력 서울 초대졸↑ 정규직 |\\n| 2025.06.26 ~ 2025.07.25 | 채용중 취업자 과정 부트캠프 교육 운영 | 경력 서울 초대졸↑ 정규직 |\\n| 2025.06.20 ~ 2025.07.20 | 채용중 KHP 교육 운영 | 경력 서울 초대졸↑ 정규직 |\\n| 2025.06.05 ~ 2025.07.05 | 채용중 인사 담당자 | 경력 서울 초대졸↑ 정규직 |\\n| 2025.05.30 ~ 2025.06.29 | 채용중 AI 커리큘럼 / 교육기획 | 경력 서울 초대졸↑ 정규직 |\\n\\n근무환경\\n----\\n\\n### 기업소개\\n\\n 모두의연구소는 AI 교육인 아이펠과 작년에 새롭게 런칭된 SW 교육, 그리고 다양한 주제가 있는 커뮤니티를 기반으로 교육 및 연구 서비스를 제공하고 있어요. [...] |\\n| 자본금 | 4,040만원 | 매출액 | 41억 2662만원 |\\n| 대표자 | 김승일 | 주요사업 | IT컨설팅, AI연구 및 교육 |\\n| 4대보험 | 국민연금, 건강보험, 고용보험, 산재보험 | 홈페이지 |  |\\n| 주소 | 서울 강남구 강남대로 324 (역삼동, 역삼디오슈페리움) 2층 |\\n\\n재무분석\\n----\\n\\n재무현황 전체보기;)\\n\\n### 매출액\\n\\n툴팁\\n\\n기업의 주요 영업활동 등을 통해 얻는 수익을 말합니다.\\n\\n상품 등의 판매나 용역의 제공으로 얻어진 수익입니다.\\n\\n[출처 : 네이버 지식백과 > 용어해설 > 매출액]\\n\\n닫기\\n\\n2021년 매출액 \\n\\n41억 2천만원\\n\\n작년 대비\\n\\n183%\\n\\n_상승_\\n\\n0\\n\\n2018\\n\\n4억 7,945만원\\n\\n2019\\n\\n8억 8,669만원\\n\\n2020\\n\\n14억 5천만원\\n\\n2021\\n\\n41억 2천만원\\n\\n2021.12기준\\n\\n### 영업이익\\n\\n툴팁\\n\\n매출액에서 매출원가를 빼고 얻은 총이익 중에서 일반 관리비와 판매비를 제외한 금액입니다.\", \"score\": 0.725824}, {\"title\": \"모두의연구소 채용페이지\", \"url\": \"https://modulabs.career.greetinghr.com/ko/home\", \"content\": \"모두의연구소 채용페이지\\n\\n===============\\n\\nImage 2: logo 모두의연구소 ======\\n\\nHome\\n\\nCulture\\n\\nStory\\n\\nApply\\n\\n채용 중인 공고\\n\\n왜 우리는 하고 싶은 걸\\n\\n마음껏 연구해 보지 못할까요?\\n--------------------------------\\n\\n모두의연구소는 이 질문에서 시작했습니다.\\n\\nImage 3\\n\\n### 모두의연구소의 시작\\n\\n모두의연구소는 누구나 하고 싶은 주제가 있으면 분야에 상관없이 스터디를 만들 수 있고, 아직 하고 싶은 것을 찾지 못했다면 다양한 시도를 해볼 수 있는 열린 공간이 필요하다고 느꼈습니다. 같은 관심사를 가진 사람들이 모여 경쟁이 아닌 상생을 통해 함께 성장하는 문화를 만들어가자는 목표로 시작되었습니다.\\n\\n### Share Value, Grow together [...] ‘2024 SW인재페스티벌’서 과기부 장관표창 수상\\n\\n인공지능(AI) 교육 전문 모두의연구소는 김승일 대표가 ‘2024 SW인재페스티벌’에서 과학기술정보통신부 장관 표창을 수상했다고 17일 밝혔다.\\n\\n2024.10.02\\n\\nImage 14\\n\\n### 카카오엔터프라이즈-카카오임팩트-모두의연구소,\\n\\n카카오클라우드로 더 나은 세상 조성 앞장\\n\\n카카오임팩트와 모두의연구소는 테크포임팩트 기술 커뮤니티의 대표 활동으로 사회 문제 해결에 기여하기 위해 논문, 연구, 서비스 및 솔루션 개발 등 기술 관련 결과물을 함께 만들어내는 모임인 ‘LAB’을 운영하고 있다.\\n\\n2023.09.06\\n\\nImage 15\\n\\n### AI학교 아이펠, 글로벌 학회 ‘ICLR’에서 혁신 기술 논문 채택 [...] 퀘스트 기반 몰입형 커리큘럼으로\\n\\n실무 역량을 키우는 AI 혁신학교\\n\\nImage 8\\n\\n액티브러닝 캠프\\n\\n실습과 협업 중심의\\n\\n프로젝트 기반 AI·SW 부트캠프\\n\\nImage 9\\n\\n모두연 클래스\\n\\n인공지능 전환(AX) 시대에 필요한\\n\\n실용적인 기술을 학습할 수 있는 온라인 플랫폼\\n\\n### 기업·직장인 서비스\\n\\n모두의연구소 교육 및 커뮤니티 서비스를 바탕으로 실무 중심의 AI 교육을 통해\\n\\n기업과 개인이 업무 변화에 적응하고, 지속적으로 성장할 수 있도록 교육을 제공합니다.\\n\\nImage 10\\n\\n기업 교육\\n\\n조직의 디지털 전환을 위한\\n\\n맞춤형 AI·SW 실무 교육 프로그램\\n\\nImage 11\\n\\n직장인 교육\\n\\n커리어 전환이나 실무 역량 강화를 목표로 하는\\n\\n직장인을 위한 교육 과정\\n\\nImage 12\\n\\n비즈 세미나\\n\\n직장인을 위한\\n\\nAI 실무 활용 중심의 지식 공유 세션\\n\\nNews\\n----\\n\\nPrevious\\n\\nImage 13\\n\\n### 김승일 모두의연구소 대표,\", \"score\": 0.7152057}, {\"title\": \"모두의연구소 - YouTube\", \"url\": \"https://www.youtube.com/@modulabs_\", \"content\": \"모두의연구소 “Share Value, Grow Together” 가치에 공감하는 분들이 모여 논문 / 오픈소스 / 콘텐츠 등을 목표로 연구하고, 그 과정과 결과를 공유하는 연구 모임입니다. \\n\\nImage 36 11:53 11:53 Now playing\\n\\nImage 37\\n\\n### [[모두콘2024] 카카오톡 챗봇을 활용해 리포터 AI 챗봇 만들기 - 김현우 (디케이테크인 | 누구나리포터 LAB)]( \\\"[모두콘2024] 카카오톡 챗봇을 활용해 리포터 AI 챗봇 만들기 - 김현우 (디케이테크인 | 누구나리포터 LAB)\\\")\\n\\n모두의연구소\\n\\n 모두의연구소 \\n\\n497 views 5 months ago\\n\\nImage 38 45:21 45:21 Now playing\\n\\nImage 39\\n\\n### [[모두콘2024] 모두의연구소 NVIDIA 기술랩 세션 - 이제영, 문영기, 이한얼]( \\\"[모두콘2024] 모두의연구소 NVIDIA 기술랩 세션 - 이제영, 문영기, 이한얼\\\")\\n\\n모두의연구소 [...] 모두의연구소 - YouTube\\n\\n===============\\n\\n•\\n\\nNaN / NaN\\n\\n Back Image 1\\n\\nSkip navigation\\n\\n Search \\n\\n Search with your voice \\n\\nSign in\\n\\nImage 2\\n\\nHome HomeShorts ShortsSubscriptions SubscriptionsYou YouHistory History\\n\\nImage 3\\n\\nImage 4\\n\\n모두의연구소\\n======\\n\\n@modulabs_\\n\\n•\\n\\n11K subscribers•753 videos\\n\\nShare Value, Grow Together ...more...morelitt.ly/modulabs\\n\\nSubscribe\\n\\nHome\\n\\nVideos\\n\\nShorts\\n\\nLive\\n\\nPlaylists\\n\\nPosts\\n\\nSearch \\n\\n2015년부터 AI 교육에 진심이었던 아이펠 이야기\\n\\nSearch\\n\\nInfo\\n\\nShopping\\n\\nTap to unmute\\n\\n2x\\n\\nImage 5 [...] Play all\\n-----------------------------------------------------------------------------------------------------------------------------------------------------------------------------------------------------------------------------------------------------------------------------------------------------------------------------------------------------------\\n\\n100년 전부터 이어져 온 바뀌지 않는 주입식 교육, 이제는 누군가 그 교실의 모습을 바꿔야 되지 않을까요? 모두의연구소가 여기에 도전하려고 합니다. 새로운 교육을 향한 도전을 지금 영상에서 확인해 보세요!\", \"score\": 0.68571854}, {\"title\": \"모두의연구소 아이펠 | 실무 중심 AI 전문가 양성 과정\", \"url\": \"https://aiffel.io/\", \"content\": \"모두의연구소\\n\\n대표: 김승일 | 개인정보관리책임자: 안우진|사업자등록번호: 517-88-00184\\n\\n주소: 서울시 강남구 강남대로 324 역삼디오슈페리움 2층(주)모두의연구소\\n\\n\\n\\n이메일 : aiffel-cs@modulabs.co.kr\\n\\n2025®MODULABS [...] 아이펠의 교육 목표는 단편적인 기술적 지식을 습득하는 것에 그치는 것이 아니라 평생 성장할 학습 근력을 키우는 것이에요. 문제 해결(평생 성장할 수 있는 학습 근력)을 위해 자기주도적 학습, 협업 능력, AI를 응용하는 역량을 갖추는 것에 집중을 해요. 아이펠의 교육 강도는 교육 기간 6개월(840Hr) 매일 10:00~18:00의 시간 투자와 AI 역량 강화 노력이 필요합니다. 추가로 비전공자 수준이라면 하루에 정해진 커리큘럼 내용이 타이트할 수 있습니다. 하루 정규 교육 과정 8시간 이외에 추가 학습이 필요할 수 있습니다. 따라서 학교, 직장을 병행하여 교육 수강은 어렵습니다. 학교, 직장을 병행하며 교육을 원하시는 분은 아래 모두의연구소 프로그램에 많은 관심 부탁드려요.\\n\\n모두의연구소 : \\n\\n비전공자도 교육을 따라갈 수 있을까요?\\n\\n제가 이 교육을 들을 수 있나요?\\n\\n수강료가 궁금합니다.\\n\\n교육 수료생들의 수료 이후는 어떤가요?\\n\\n교육참여를 위한 준비물이 있나요? [...] Published Time: Wed, 11 Jun 2025 09:55:20 GMT\\n\\n모두의연구소 아이펠 | 실무 중심 AI 전문가 양성 과정\\n\\n===============\\n\\nBILLY DUVALLE\\n\\n입학하기\\n\\nAI 전문가로 거듭나는 길, 아이펠\\n\\n준비된 사람만이 AI 시대를 주도합니다.\\n\\n신청하기\\n\\nYour Gateway to AI Excellence\\n\\nAI 전문가로 가는 최적의 여정\\n\\n아이펠\\n===\\n\\n지금 시작하기\\n\\n교육 기간\\n\\n25.07.02(수) ~ 26.01.05(월)\\n\\n평일 10:00 ~ 18:00\\n\\n교육 방법\\n\\n100% 실시간 비대면\\n\\n 6개월 동안 상주하는 퍼실리테이터와\\n\\n함께하는 자기주도학습\\n\\n수강료\\n\\n15,246,000원\\n\\n0원\\n\\nImage 1\\n\\n매월 최대 훈련 장려금\\n\\n316,000원\\n\\nImage 2\\n\\n###### 지원 자격\\n\\n내일배움카드 발급 가능자,\\n\\n6개월간 평일 참여 가능자\\n\\nImage 3\\n\\n아이펠 출신 AI 전문가의 논문,\", \"score\": 0.66959417}, {\"title\": \"모두의연구소\", \"url\": \"https://modulabs.co.kr/\", \"content\": \"알림신청 배너\\n-------\\n\\n### 빠르게 변하는 AI 트렌드를 쉽게 접하고 싶나요?\\n\\n매주 월요일 모두의연구소 모두레터가 찾아갑니다\\n\\n무료 구독하기\\n\\n 모두의연구소 | 대표 : 김승일  \\n개인정보보호책임자 : 안우진 | 통신판매업신고 : 2017-서울강남-04920 | 사업자등록번호 : 517-88-00184  \\n주소 : 서울특별시 강남구 강남대로 324 역삼디오슈페리움 2층 | 전화 : 070-7743-5882\\n\\n개인정보처리방침 | 이용 약관 | 채용 | 사업자정보확인 | 뉴스레터 구독\\n\\nCopyright ©2024 MODULABS. All Rights Reserved. [...] 교육\\n   커뮤니티\\n   무료 세미나\\n   AI 기업 교육\\n   블로그\\n   스토리\\n\\n로그인\\n\\n로그인\\n\\n홈 메인배너\\n------ [...] 모두연 서비스 바로가기\\n------------\\n\\n   _Image 13: 데이터 분석_ 모집중 데이터 분석\\n   _Image 14: 프론트엔드_ 사전모집 프론트엔드\\n   _Image 15: 백엔드_ 사전모집 백엔드\\n   _Image 16: 직장인 AI_ 직장인 AI\\n   _Image 17: LAB_ LAB\\n   _Image 18: 모두모임_ NEW 모두모임\\n   _Image 19: AI 온라인 강의_ 국비지원 AI 온라인 강의\\n   _Image 20: AI 대체 테스트_ NEW AI 대체 테스트\\n\\n모두연 KDT\\n-------\\n\\n### 모두의연구소 오름캠프\\n\\n커뮤니티 기반의 성장형 SW/AI 교육 플랫폼에서 함께 성장해요!\\n\\n더 알아보기\", \"score\": 0.568057}, {\"title\": \"모두의연구소 공식 (@modulabs_) - Threads\", \"url\": \"https://www.threads.com/@modulabs_\", \"content\": \"연구의 여정을 나눌 랩을 찾습니다!모두의연구소 10주년, 그리고 12월의 MODUCON 2025 무대에서 LAB의 실험과 성장을 소개해 주세요.\", \"score\": 0.5005133}, {\"title\": \"모두의연구소 커뮤니티 | Facebook\", \"url\": \"https://www.facebook.com/groups/modulabs/?locale=ko_KR\", \"content\": \"Log into Facebook\\n\\n===============\\n\\nImage 1: Facebook\\n\\n_Notice_\\n\\nYou must log in to continue.\\n\\nLog Into Facebook\\n\\nYou must log in to continue.\\n\\n\\n   Español\\n   Français (France)\\\")\\n   中文(简体)\\\")\\n   العربية\\n   Português (Brasil)\\\")\\n   Italiano\\n   한국어\\n   Deutsch\\n   हिन्दी\\n   日本語 [...] Sign Up\\n   Log In\\n   Messenger\\n   Facebook Lite\\n   Video\\n   Meta Pay\\n   Meta Store\\n   Meta Quest\\n   Ray-Ban Meta\\n   Meta AI\\n   Instagram\\n   Threads\\n   Voting Information Center\\n   Privacy Policy\\n   Consumer Health Privacy\\n   Privacy Center\\n   About\\n   Create ad\\n   Create Page\\n   Developers\\n   Careers\\n   Cookies\\n   Ad choices\\n   Terms\\n   Help\\n   Contact Uploading & Non-Users\\n   Settings\\n   Activity log\\n\\n Meta © 2025\\n\\nImage 2\", \"score\": 0.3656158}]\n",
            "==================================\u001b[1m Ai Message \u001b[0m==================================\n",
            "Tool Calls:\n",
            "  write_pdf (5866f3a5-daab-456d-a0bd-6d9ec09c3172)\n",
            " Call ID: 5866f3a5-daab-456d-a0bd-6d9ec09c3172\n",
            "  Args:\n",
            "    content: 모두의연구소는 'Share Value, Grow Together'라는 슬로건을 가지고 지식을 공유하고 함께 성장하는 연구 문화를 전파하는 대한민국의 커뮤니티 기반 성인 대상 AI 교육 기관입니다. AI 교육인 아이펠(AIFFEL)과 SW 교육, 커뮤니티를 기반으로 교육 및 연구 서비스를 제공하며, 기업 맞춤형 AI 교육 사업도 진행합니다. KB인베스트먼트와 대교인베스트먼트로부터 투자를 유치하여 AI 개발자 양성, 커뮤니티 서비스 확장, 인재 확보 등을 추진하고 있습니다.\n",
            "    filename: 모두의연구소_레포트.pdf\n",
            "=================================\u001b[1m Tool Message \u001b[0m=================================\n",
            "Name: write_pdf\n",
            "\n",
            "모두의연구소_레포트.pdf 저장 완료\n",
            "=================================\u001b[1m Tool Message \u001b[0m=================================\n",
            "Name: write_pdf\n",
            "\n",
            "모두의연구소_레포트.pdf 저장 완료\n"
          ]
        }
      ],
      "source": [
        "config = reset_config()\n",
        "\n",
        "streaming(\"\"\"\n",
        "          모두의연구소는 어떤 곳이야?\n",
        "          깔끔하게 정리해서 레포트로 만들어줘.\n",
        "          레포트의 형식은 pdf로 저장해주면 돼.\n",
        "          이름은 \"모두의연구소_레포트.pdf\"로 해줘.\"\"\", config)"
      ]
    },
    {
      "cell_type": "code",
      "source": [
        "#config = reset_config()\n",
        "\n",
        "#query = \"'모두의연구소_레포트.pdf'라는 파일 삭제해줘\"\n",
        "\n",
        "#streaming(query, config)"
      ],
      "metadata": {
        "id": "SBSbPqbjkUWv"
      },
      "execution_count": 117,
      "outputs": []
    }
  ],
  "metadata": {
    "colab": {
      "provenance": []
    },
    "kernelspec": {
      "display_name": "Modulabs",
      "language": "python",
      "name": "python3"
    },
    "language_info": {
      "codemirror_mode": {
        "name": "ipython",
        "version": 3
      },
      "file_extension": ".py",
      "mimetype": "text/x-python",
      "name": "python",
      "nbconvert_exporter": "python",
      "pygments_lexer": "ipython3",
      "version": "3.10.12"
    }
  },
  "nbformat": 4,
  "nbformat_minor": 0
}