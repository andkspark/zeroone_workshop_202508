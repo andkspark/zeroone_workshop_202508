{
  "nbformat": 4,
  "nbformat_minor": 0,
  "metadata": {
    "colab": {
      "provenance": []
    },
    "kernelspec": {
      "name": "python3",
      "display_name": "Python 3"
    },
    "language_info": {
      "name": "python"
    }
  },
  "cells": [
    {
      "cell_type": "markdown",
      "source": [
        "# Start_RAG_with_Gemini_and_Langchain\n",
        "제작 : 박광석(모두의연구소, https://www.linkedin.com/in/andkspark)   \n",
        "  \n",
        "해당 노트는 Langchain으로 RAG를 구현하기 위해 필요한  \n",
        "각 컴포넌트인 Document Loaders, Text splitters, Text embeddings, Vectorstores, Retriever를 다룹니다    \n",
        "참고 :\n",
        "https://python.langchain.com/docs/get_started/introduction  \n",
        "https://python.langchain.com/docs/integrations/llms/google_ai/  \n",
        "YouTube <모두의AI> , <테디노트>   \n",
        "인프런 <모두를 위한 대규모 언어 모델 LLM(Large Language Model) Part 2 - 랭체인(LangChain)으로 나만의 ChatGPT 만들기>\n",
        "\n"
      ],
      "metadata": {
        "id": "HFMBYK2SwI68"
      }
    },
    {
      "cell_type": "markdown",
      "source": [
        "### Step 0 : 설치와 준비  \n",
        "Langchain 설치 및 Gemini API 키를 등록하도록 합니다.  "
      ],
      "metadata": {
        "id": "drDsT9tbxZZx"
      }
    },
    {
      "cell_type": "code",
      "source": [
        "#! curl ipinfo.io"
      ],
      "metadata": {
        "id": "99BB2KjnOi0O"
      },
      "execution_count": null,
      "outputs": []
    },
    {
      "cell_type": "code",
      "source": [
        "from google.colab import drive\n",
        "drive.mount('/content/drive')"
      ],
      "metadata": {
        "colab": {
          "base_uri": "https://localhost:8080/"
        },
        "id": "zDlkZu50yHxQ",
        "outputId": "474406f2-191e-4de8-ec80-9082b6466c39"
      },
      "execution_count": null,
      "outputs": [
        {
          "output_type": "stream",
          "name": "stdout",
          "text": [
            "Drive already mounted at /content/drive; to attempt to forcibly remount, call drive.mount(\"/content/drive\", force_remount=True).\n"
          ]
        }
      ]
    },
    {
      "cell_type": "code",
      "source": [
        "YOUR_API_KEY = ''"
      ],
      "metadata": {
        "id": "5QZZobfdyUYR"
      },
      "execution_count": null,
      "outputs": []
    },
    {
      "cell_type": "code",
      "execution_count": null,
      "metadata": {
        "id": "s_Q-g7IgwHGT"
      },
      "outputs": [],
      "source": [
        "!pip install U -q langchain langchain-google-genai\n",
        "!pip install U -q langchain-community langchain-core\n"
      ]
    },
    {
      "cell_type": "code",
      "source": [
        "import os\n",
        "os.environ['GOOGLE_API_KEY'] = YOUR_API_KEY"
      ],
      "metadata": {
        "id": "On8wrXDKwIWE"
      },
      "execution_count": null,
      "outputs": []
    },
    {
      "cell_type": "code",
      "source": [
        "#랭체인의 구글Api를 사용합니다\n",
        "from langchain_google_genai import ChatGoogleGenerativeAI\n",
        "llm = ChatGoogleGenerativeAI(model = \"gemini-1.5-flash\", temperature=0.0)"
      ],
      "metadata": {
        "id": "P6wvjjbp0jMz"
      },
      "execution_count": null,
      "outputs": []
    },
    {
      "cell_type": "code",
      "source": [
        "!pip install -q pypdf pdf2image docx2txt pdfminer unstructured #의존성 모듈을 설치합니다"
      ],
      "metadata": {
        "id": "l3ixY6SKkkXM"
      },
      "execution_count": null,
      "outputs": []
    },
    {
      "cell_type": "markdown",
      "source": [
        "### Step 1 : Document Loaders 사용해보기  \n",
        "Document Loader는 PDF, 웹페이지, CSV 등 여러 종류의 문서를 text로 파싱하는 기능을 가지고 있습니다.  \n",
        "https://python.langchain.com/docs/modules/data_connection/document_loaders/  "
      ],
      "metadata": {
        "id": "boezOrKC4wEm"
      }
    },
    {
      "cell_type": "markdown",
      "source": [
        "https://it.chosun.com/news/articleView.html?idxno=2023092111831"
      ],
      "metadata": {
        "id": "x2uSFtWM8zam"
      }
    },
    {
      "cell_type": "markdown",
      "source": [
        "#### PDFLoader 사용  \n",
        "읽고 싶은 pdf 파일을 드라이브에 올려주세요!    "
      ],
      "metadata": {
        "id": "X9PS0ysEpZao"
      }
    },
    {
      "cell_type": "code",
      "source": [
        "from langchain_community.document_loaders import PyPDFLoader\n",
        "\n",
        "loader = PyPDFLoader(\"/content/Demian.pdf\")\n",
        "pages = loader.load_and_split()"
      ],
      "metadata": {
        "id": "XqlRblKtjXD8"
      },
      "execution_count": null,
      "outputs": []
    },
    {
      "cell_type": "code",
      "source": [
        "pages[0]"
      ],
      "metadata": {
        "id": "bOmJL1JhkLcP",
        "colab": {
          "base_uri": "https://localhost:8080/"
        },
        "outputId": "ad889a94-f292-4f68-ef8a-fc4d73dbd099"
      },
      "execution_count": null,
      "outputs": [
        {
          "output_type": "execute_result",
          "data": {
            "text/plain": [
              "Document(metadata={'producer': 'Adobe Acrobat Standard DC 19 Paper Capture Plug-in', 'creator': 'ScanFix(TM) Enhanced', 'creationdate': '2015-09-10T01:40:29+00:00', 'moddate': '2019-01-30T17:47:47+01:00', 'source': '/content/Demian.pdf', 'total_pages': 182, 'page': 0, 'page_label': '1'}, page_content='DEMIAN \\n• \\nDownloaded from https://www.holybooks.com')"
            ]
          },
          "metadata": {},
          "execution_count": 7
        }
      ]
    },
    {
      "cell_type": "code",
      "source": [
        "print(pages[10])"
      ],
      "metadata": {
        "id": "bfeJptoHlIiA",
        "colab": {
          "base_uri": "https://localhost:8080/"
        },
        "outputId": "7a595d22-5667-4d04-ff1a-2428efa2223b"
      },
      "execution_count": null,
      "outputs": [
        {
          "output_type": "stream",
          "name": "stdout",
          "text": [
            "page_content='TWO WOR.LDS \n",
            "Finally, out of sheer nervousness, I began to talk. I \n",
            "invented a long story of robbery, in which I featured as \n",
            "the hero. One night in the comer by the mill a friend \n",
            "and I ha.d stolen a whole sackful of apples, not just \n",
            "ordinary apples but pippins, golden pippins of the best \n",
            "kind at that. I was taking refuge in my story from the \n",
            "dangers of the moment and found no difficulty in invent­\n",
            "ing and relating it. In order not to dry up too soon and \n",
            "perhaps become involved in something worse, I gave full \n",
            "rein to my narrative powers. One of us, I reported, had \n",
            "always stood guard while the other sat in the tree and \n",
            "chucked the apples down, and the sack had got so heavy \n",
            "that in the end we had to open it and leave half behind, \n",
            "but we came back half an hour later and fetched them \n",
            "too. \n",
            "I hoped for some applause at the end of my story; I \n",
            "had warmed up to the narrative aJ: last, carried away by \n",
            "my own eloquence. The two smaller boys were silent, \n",
            "waiting, Lut Franz Kromer gave me a penetrating look \n",
            "through his narrow,-1 eyes. \"Is that yarn true?\" he \n",
            "asked in a menacing tone. \n",
            "\"Yes,\" I said. \n",
            "\"Really and truly?\" \n",
            "\"Yes, really and truly,\" I asserted defiantly while I \n",
            "choked inwardly with fear. \n",
            "\"Can you swear to it?\" \n",
            "I was very afraid but I said 'Yes' without hesitation. \n",
            "\"Hand on your heart?\" \n",
            "\"Hand on my heart,\" \n",
            "\"Right then,\" he said and turned away. \n",
            "I thought this was all very satisfactory and I was glad \n",
            "15 \n",
            "Downloaded from https://www.holybooks.com' metadata={'producer': 'Adobe Acrobat Standard DC 19 Paper Capture Plug-in', 'creator': 'ScanFix(TM) Enhanced', 'creationdate': '2015-09-10T01:40:29+00:00', 'moddate': '2019-01-30T17:47:47+01:00', 'source': '/content/Demian.pdf', 'total_pages': 182, 'page': 10, 'page_label': '11'}\n"
          ]
        }
      ]
    },
    {
      "cell_type": "markdown",
      "source": [
        "깔끔한 출력을 위해, page_content키만 접근해보겠습니다."
      ],
      "metadata": {
        "id": "GNnUqhR9sTP9"
      }
    },
    {
      "cell_type": "code",
      "source": [
        "print(pages[10].page_content)"
      ],
      "metadata": {
        "id": "UWkhs1SMsOkE",
        "colab": {
          "base_uri": "https://localhost:8080/"
        },
        "outputId": "fd04208f-89d6-4875-ec4e-839816b9c228"
      },
      "execution_count": null,
      "outputs": [
        {
          "output_type": "stream",
          "name": "stdout",
          "text": [
            "TWO WOR.LDS \n",
            "Finally, out of sheer nervousness, I began to talk. I \n",
            "invented a long story of robbery, in which I featured as \n",
            "the hero. One night in the comer by the mill a friend \n",
            "and I ha.d stolen a whole sackful of apples, not just \n",
            "ordinary apples but pippins, golden pippins of the best \n",
            "kind at that. I was taking refuge in my story from the \n",
            "dangers of the moment and found no difficulty in invent­\n",
            "ing and relating it. In order not to dry up too soon and \n",
            "perhaps become involved in something worse, I gave full \n",
            "rein to my narrative powers. One of us, I reported, had \n",
            "always stood guard while the other sat in the tree and \n",
            "chucked the apples down, and the sack had got so heavy \n",
            "that in the end we had to open it and leave half behind, \n",
            "but we came back half an hour later and fetched them \n",
            "too. \n",
            "I hoped for some applause at the end of my story; I \n",
            "had warmed up to the narrative aJ: last, carried away by \n",
            "my own eloquence. The two smaller boys were silent, \n",
            "waiting, Lut Franz Kromer gave me a penetrating look \n",
            "through his narrow,-1 eyes. \"Is that yarn true?\" he \n",
            "asked in a menacing tone. \n",
            "\"Yes,\" I said. \n",
            "\"Really and truly?\" \n",
            "\"Yes, really and truly,\" I asserted defiantly while I \n",
            "choked inwardly with fear. \n",
            "\"Can you swear to it?\" \n",
            "I was very afraid but I said 'Yes' without hesitation. \n",
            "\"Hand on your heart?\" \n",
            "\"Hand on my heart,\" \n",
            "\"Right then,\" he said and turned away. \n",
            "I thought this was all very satisfactory and I was glad \n",
            "15 \n",
            "Downloaded from https://www.holybooks.com\n"
          ]
        }
      ]
    },
    {
      "cell_type": "markdown",
      "source": [
        "#### CSVLoader\n",
        "\n",
        "읽고 싶은 CSV 파일을 드라이브에 올려주세요!    "
      ],
      "metadata": {
        "id": "X4CmphsjlVe7"
      }
    },
    {
      "cell_type": "code",
      "source": [
        "from langchain.document_loaders import CSVLoader\n",
        "\n",
        "loader = CSVLoader(\"/content/titanic.csv\")\n",
        "\n",
        "data = loader.load()"
      ],
      "metadata": {
        "id": "d3JlHDEfkRB1"
      },
      "execution_count": null,
      "outputs": []
    },
    {
      "cell_type": "code",
      "source": [
        "data[:3]"
      ],
      "metadata": {
        "id": "7W8rBr3ZkRFT",
        "colab": {
          "base_uri": "https://localhost:8080/"
        },
        "outputId": "ad04bd39-effc-48b4-84ba-d1930decd0bf"
      },
      "execution_count": null,
      "outputs": [
        {
          "output_type": "execute_result",
          "data": {
            "text/plain": [
              "[Document(metadata={'source': '/content/titanic.csv', 'row': 0}, page_content='PassengerId: 1\\nSurvived: 0\\nPclass: 3\\nName: Braund, Mr. Owen Harris\\nSex: male\\nAge: 22\\nSibSp: 1\\nParch: 0\\nTicket: A/5 21171\\nFare: 7.25\\nCabin: \\nEmbarked: S'),\n",
              " Document(metadata={'source': '/content/titanic.csv', 'row': 1}, page_content='PassengerId: 2\\nSurvived: 1\\nPclass: 1\\nName: Cumings, Mrs. John Bradley (Florence Briggs Thayer)\\nSex: female\\nAge: 38\\nSibSp: 1\\nParch: 0\\nTicket: PC 17599\\nFare: 71.2833\\nCabin: C85\\nEmbarked: C'),\n",
              " Document(metadata={'source': '/content/titanic.csv', 'row': 2}, page_content='PassengerId: 3\\nSurvived: 1\\nPclass: 3\\nName: Heikkinen, Miss. Laina\\nSex: female\\nAge: 26\\nSibSp: 0\\nParch: 0\\nTicket: STON/O2. 3101282\\nFare: 7.925\\nCabin: \\nEmbarked: S')]"
            ]
          },
          "metadata": {},
          "execution_count": 11
        }
      ]
    },
    {
      "cell_type": "markdown",
      "source": [
        "#### 웹베이스로더  \n",
        "웹페이지를 파싱합니다"
      ],
      "metadata": {
        "id": "Ic7kJAZdljCe"
      }
    },
    {
      "cell_type": "code",
      "source": [
        "from langchain.document_loaders import WebBaseLoader"
      ],
      "metadata": {
        "id": "RXhUGGr78fuL",
        "colab": {
          "base_uri": "https://localhost:8080/"
        },
        "outputId": "9b94f0d3-c6bf-4a0a-c302-dbb2c8b04981"
      },
      "execution_count": null,
      "outputs": [
        {
          "output_type": "stream",
          "name": "stderr",
          "text": [
            "WARNING:langchain_community.utils.user_agent:USER_AGENT environment variable not set, consider setting it to identify your requests.\n"
          ]
        }
      ]
    },
    {
      "cell_type": "code",
      "source": [
        "loader = WebBaseLoader(\"https://it.chosun.com/news/articleView.html?idxno=2023092111831\")\n",
        "documents = loader.load()\n",
        "\n",
        "#print(documents[0].page_content)"
      ],
      "metadata": {
        "id": "J8r1r7ofiJDO"
      },
      "execution_count": null,
      "outputs": []
    },
    {
      "cell_type": "markdown",
      "source": [],
      "metadata": {
        "id": "QfVvsNV-KODs"
      }
    },
    {
      "cell_type": "markdown",
      "source": [
        "주석을 풀고 수행하면, 해당 페이지의 모든 텍스트를 읽어옵니다.  \n",
        "    \n",
        "모든 형식을 텍스트로 잘 읽어왔습니다.  \n",
        "전처리 후 잘 사용할 수 있을 것 같습니다!"
      ],
      "metadata": {
        "id": "gyWvy7kpjRBt"
      }
    },
    {
      "cell_type": "markdown",
      "source": [
        "### Step2 : TextSplitters 사용해보기  \n",
        "TextSplitter는 지정한 구분자, 혹은 다른 특정 기준을 특징으로 텍스트를 Chunk로 나누는 역할을 수행합니다.    \n",
        "LLM은 Splitters를 통해 분할된 여러 문서들을 입력받을 수 있으며, 이를 통해 토큰 길이의 제약을 극복해냅니다.  \n",
        "각각의 chunk들은 vectorstore에 1:1로 임베딩됩니다"
      ],
      "metadata": {
        "id": "u0Cq98LQrhdN"
      }
    },
    {
      "cell_type": "code",
      "source": [
        "from langchain.text_splitter import CharacterTextSplitter\n",
        "from langchain.text_splitter import RecursiveCharacterTextSplitter"
      ],
      "metadata": {
        "id": "GWRl168fseiw"
      },
      "execution_count": null,
      "outputs": []
    },
    {
      "cell_type": "markdown",
      "source": [
        "CharacterTextSplitter는 구분자 1개를 기준으로 문장을 분할합니다  \n",
        "max_token을 초과하는 경우가 생깁니다.  \n",
        "  \n",
        "RecursiveCharacterTextSplitter는 줄바꿈, 마침표, 쉼표 등 구분자 여러개를 돌아가며 재귀적으로 분할합니다.  \n",
        "완전하지 않은 문장으로 분할하는 경우가 생깁니다.  "
      ],
      "metadata": {
        "id": "9nTaC1f6qet4"
      }
    },
    {
      "cell_type": "code",
      "source": [
        "with open(\"/content/state_of_the_union.txt\") as f:\n",
        "    text = f.read()"
      ],
      "metadata": {
        "id": "mbymWYyftnUy"
      },
      "execution_count": null,
      "outputs": []
    },
    {
      "cell_type": "markdown",
      "source": [],
      "metadata": {
        "id": "iFKsjtEGsqKG"
      }
    },
    {
      "cell_type": "code",
      "source": [
        "#len은 어떤 기준으로 chunk size를 잴 것인가?의 기준이 되는 함수입니다.\n",
        "#chunk_overlap은 chunk의 앞뒤로 다른 chunk와 설정한 size까지 겹칠 수 있도록 설정하는 것입니다.\n",
        "text_splitter = CharacterTextSplitter(separator=\"\\n\\n\", chunk_size=1000, chunk_overlap=100, length_function = len,)\n",
        "chunks = text_splitter.split_text(text)"
      ],
      "metadata": {
        "id": "LdfFy8TttnRy"
      },
      "execution_count": null,
      "outputs": []
    },
    {
      "cell_type": "markdown",
      "source": [
        "Chunk의 내용을 확인해보겠습니다"
      ],
      "metadata": {
        "id": "SrLtf9uhsC6s"
      }
    },
    {
      "cell_type": "code",
      "source": [
        "print(chunks[0])"
      ],
      "metadata": {
        "id": "sa2Tl4Z2rvoN",
        "colab": {
          "base_uri": "https://localhost:8080/"
        },
        "outputId": "e8932c68-c932-4560-8710-283cfea40c63"
      },
      "execution_count": null,
      "outputs": [
        {
          "output_type": "stream",
          "name": "stdout",
          "text": [
            "Madam Speaker, Madam Vice President, our First Lady and Second Gentleman. Members of Congress and the Cabinet. Justices of the Supreme Court. My fellow Americans.  \n",
            "\n",
            "Last year COVID-19 kept us apart. This year we are finally together again. \n",
            "\n",
            "Tonight, we meet as Democrats Republicans and Independents. But most importantly as Americans. \n",
            "\n",
            "With a duty to one another to the American people to the Constitution. \n",
            "\n",
            "And with an unwavering resolve that freedom will always triumph over tyranny. \n",
            "\n",
            "Six days ago, Russia’s Vladimir Putin sought to shake the foundations of the free world thinking he could make it bend to his menacing ways. But he badly miscalculated. \n",
            "\n",
            "He thought he could roll into Ukraine and the world would roll over. Instead he met a wall of strength he never imagined. \n",
            "\n",
            "He met the Ukrainian people. \n",
            "\n",
            "From President Zelenskyy to every Ukrainian, their fearlessness, their courage, their determination, inspires the world.\n"
          ]
        }
      ]
    },
    {
      "cell_type": "markdown",
      "source": [
        "각 chunk의 길이를 확인해보겠습니다,"
      ],
      "metadata": {
        "id": "c54vuRYorulm"
      }
    },
    {
      "cell_type": "code",
      "source": [
        "length = []\n",
        "for chunk in chunks:\n",
        "    length.append(len(chunk))\n",
        "\n",
        "print(length)"
      ],
      "metadata": {
        "id": "gzu6paiZrNdQ",
        "colab": {
          "base_uri": "https://localhost:8080/"
        },
        "outputId": "dcf72be8-b6c5-4b50-a7c6-a015059c04e1"
      },
      "execution_count": null,
      "outputs": [
        {
          "output_type": "stream",
          "name": "stdout",
          "text": [
            "[939, 995, 810, 962, 994, 883, 957, 952, 928, 915, 993, 702, 900, 950, 957, 958, 967, 996, 796, 866, 888, 966, 964, 977, 998, 948, 925, 924, 989, 965, 938, 936, 981, 965, 771, 982, 972, 977, 984, 999, 968, 801]\n"
          ]
        }
      ]
    },
    {
      "cell_type": "markdown",
      "source": [
        "### 토큰 단위로 텍스트 분할해보기  \n",
        "  \n",
        "LLM의 경우 토큰을 기준으로 자연어를 처리하기 때문에, 자연어의 form인 단어 길이는 서비스 개발에서 적합하지 않을 수 있습니다.  \n",
        "토큰 단위로 텍스트를 분할해보도록 하겠습니다!  \n"
      ],
      "metadata": {
        "id": "KAuuYWMwtQnh"
      }
    },
    {
      "cell_type": "code",
      "source": [
        "!pip install tiktoken"
      ],
      "metadata": {
        "id": "MIoqdNgntRMf",
        "colab": {
          "base_uri": "https://localhost:8080/"
        },
        "outputId": "45f28840-666c-414e-ee24-50f3a071f54a"
      },
      "execution_count": null,
      "outputs": [
        {
          "output_type": "stream",
          "name": "stdout",
          "text": [
            "Requirement already satisfied: tiktoken in /usr/local/lib/python3.11/dist-packages (0.9.0)\n",
            "Requirement already satisfied: regex>=2022.1.18 in /usr/local/lib/python3.11/dist-packages (from tiktoken) (2024.11.6)\n",
            "Requirement already satisfied: requests>=2.26.0 in /usr/local/lib/python3.11/dist-packages (from tiktoken) (2.32.3)\n",
            "Requirement already satisfied: charset-normalizer<4,>=2 in /usr/local/lib/python3.11/dist-packages (from requests>=2.26.0->tiktoken) (3.4.1)\n",
            "Requirement already satisfied: idna<4,>=2.5 in /usr/local/lib/python3.11/dist-packages (from requests>=2.26.0->tiktoken) (3.10)\n",
            "Requirement already satisfied: urllib3<3,>=1.21.1 in /usr/local/lib/python3.11/dist-packages (from requests>=2.26.0->tiktoken) (2.4.0)\n",
            "Requirement already satisfied: certifi>=2017.4.17 in /usr/local/lib/python3.11/dist-packages (from requests>=2.26.0->tiktoken) (2025.4.26)\n"
          ]
        }
      ]
    },
    {
      "cell_type": "code",
      "source": [
        "import tiktoken\n",
        "tokenizer = tiktoken.get_encoding(\"cl100k_base\")\n",
        "\n",
        "def tiktoken_len(text):\n",
        "    tokens = tokenizer.encode(\n",
        "        text\n",
        "    )\n",
        "    return len(tokens)"
      ],
      "metadata": {
        "id": "A1AGg0Kd-hDv"
      },
      "execution_count": null,
      "outputs": []
    },
    {
      "cell_type": "code",
      "source": [
        "tiktoken_length = []\n",
        "for chunk in chunks:\n",
        "    tiktoken_length.append(tiktoken_len(chunk))\n",
        "\n",
        "print(length)\n",
        "print(tiktoken_length)"
      ],
      "metadata": {
        "id": "UeVf9LFl-0We",
        "colab": {
          "base_uri": "https://localhost:8080/"
        },
        "outputId": "5e5053cf-ad4c-4a1f-d710-c813a5517be5"
      },
      "execution_count": null,
      "outputs": [
        {
          "output_type": "stream",
          "name": "stdout",
          "text": [
            "[939, 995, 810, 962, 994, 883, 957, 952, 928, 915, 993, 702, 900, 950, 957, 958, 967, 996, 796, 866, 888, 966, 964, 977, 998, 948, 925, 924, 989, 965, 938, 936, 981, 965, 771, 982, 972, 977, 984, 999, 968, 801]\n",
            "[197, 198, 163, 190, 203, 182, 195, 197, 206, 205, 218, 148, 188, 205, 216, 215, 209, 224, 176, 187, 201, 197, 201, 215, 222, 202, 203, 204, 229, 206, 184, 204, 197, 194, 156, 200, 194, 221, 203, 225, 209, 187]\n"
          ]
        }
      ]
    },
    {
      "cell_type": "markdown",
      "source": [
        "글자 수와 토큰 수의 차이를 확인할 수 있습니다 !"
      ],
      "metadata": {
        "id": "kuhWSpQn_bhM"
      }
    },
    {
      "cell_type": "markdown",
      "source": [
        "### Step3 : TextEmbedding 사용해보기  \n",
        "컴퓨터가 텍스트를 이해할 수 있도록 벡터로 변환합니다.  \n",
        "변환된 벡터는 벡터스토어에 저장되거나, 기존의 다른 벡터와의 유사성을 계산할 수 있습니다.  \n",
        "변환은 대용량의 말뭉치로 사전훈련된 임베딩 모델을 통해 이루어지게 됩니다.  \n",
        "  \n",
        "Gemini pro의 임베딩 모델을 사용해보겠습니다!  \n",
        "https://ai.google.dev/docs/embeddings_guide?hl=ko"
      ],
      "metadata": {
        "id": "_9YtdfL5EhDn"
      }
    },
    {
      "cell_type": "code",
      "source": [
        "import google.generativeai as genai"
      ],
      "metadata": {
        "id": "qQ7NM1NqGSY1"
      },
      "execution_count": null,
      "outputs": []
    },
    {
      "cell_type": "markdown",
      "source": [
        "genai 라이브러리의 list_models 함수를 사용하여 사용 가능한 모델들의 목록을 가져옵니다."
      ],
      "metadata": {
        "id": "ZtVoy-CPG3o_"
      }
    },
    {
      "cell_type": "code",
      "source": [
        "genai.configure(api_key=YOUR_API_KEY)"
      ],
      "metadata": {
        "id": "4mmdbe8kGnWt"
      },
      "execution_count": null,
      "outputs": []
    },
    {
      "cell_type": "code",
      "source": [
        "for model in genai.list_models():\n",
        "    if \"embedContent\" in model.supported_generation_methods:\n",
        "        print(model.name)"
      ],
      "metadata": {
        "id": "ygXt2Uk6Fpf2",
        "colab": {
          "base_uri": "https://localhost:8080/",
          "height": 90
        },
        "outputId": "01f799bc-c635-4d93-d0e8-d2f34539c8d4"
      },
      "execution_count": null,
      "outputs": [
        {
          "output_type": "stream",
          "name": "stdout",
          "text": [
            "models/embedding-001\n",
            "models/text-embedding-004\n",
            "models/gemini-embedding-exp-03-07\n",
            "models/gemini-embedding-exp\n"
          ]
        }
      ]
    },
    {
      "cell_type": "markdown",
      "source": [
        "두 개의 임베딩 모델을 사용할 수 있습니다  \n",
        "\n",
        "https://github.com/google/generative-ai-docs/blob/main/examples/gemini/python/langchain/Gemini_LangChain_QA_Chroma_WebLoad.ipynb"
      ],
      "metadata": {
        "id": "ChRmKxfYHAUB"
      }
    },
    {
      "cell_type": "code",
      "source": [
        "from langchain_google_genai import GoogleGenerativeAIEmbeddings\n",
        "embedding_model = GoogleGenerativeAIEmbeddings(model=\"models/text-embedding-004\")"
      ],
      "metadata": {
        "id": "1VB1lBquFpiN"
      },
      "execution_count": null,
      "outputs": []
    },
    {
      "cell_type": "markdown",
      "source": [
        "Gemini embedding은 지역에 따라 사용이 제한됩니다.  \n",
        "주로 유럽권에서 제한되기 때문에, 다음 에러를 확인하신다면 Colab 파일의 서버 저장 위치를 확인 후, 다른 임베딩 모델로 변경해야합니다.  \n",
        "\n",
        "Error embedding content: 400 User location is not supported for the API use.\n"
      ],
      "metadata": {
        "id": "QNJFmhhwZCI5"
      }
    },
    {
      "cell_type": "code",
      "source": [
        "#!curl ipinfo.io"
      ],
      "metadata": {
        "id": "VRdFPMaSY1nF"
      },
      "execution_count": null,
      "outputs": []
    },
    {
      "cell_type": "code",
      "source": [
        "# 400 User location is not supported for the API use 오류가 발생한다면, 이 블록을 대신 실행해주세요\n",
        "\n",
        "# ! pip install -q sentence_transformers\n",
        "\n",
        "#from langchain.embeddings import HuggingFaceEmbeddings\n",
        "#embedding_model = HuggingFaceEmbeddings(model_name=\"sentence-transformers/all-MiniLM-L6-v2\")"
      ],
      "metadata": {
        "id": "T4ocw0yxcg7-"
      },
      "execution_count": null,
      "outputs": []
    },
    {
      "cell_type": "markdown",
      "source": [
        "embedding model 변수에 google의 임베딩모델 혹은 huggingface의 임베딩모델이 할당되었을 것입니다.  \n",
        "embed_documents 멤버 함수를 사용하여 새 문장을 변환해보겠습니다  "
      ],
      "metadata": {
        "id": "JmYNTUjheSFu"
      }
    },
    {
      "cell_type": "code",
      "source": [
        "embeddings = embedding_model.embed_documents(\n",
        "    [\n",
        "        \"This is red apple.\",\n",
        "        \"This is yellow banana.\",\n",
        "        \"This is green lime.\",\n",
        "    ]\n",
        ")"
      ],
      "metadata": {
        "id": "2acBXTPIFpkl"
      },
      "execution_count": null,
      "outputs": []
    },
    {
      "cell_type": "markdown",
      "source": [
        "임베딩으로 잘 변환되었는지 확인해보겠습니다  "
      ],
      "metadata": {
        "id": "eSfysI1PfWjA"
      }
    },
    {
      "cell_type": "code",
      "source": [
        "print(embeddings[1])"
      ],
      "metadata": {
        "id": "cfqjyNfqfRUA",
        "colab": {
          "base_uri": "https://localhost:8080/"
        },
        "outputId": "dfbadcf9-b92e-4040-88f9-63a34c4cdfea"
      },
      "execution_count": null,
      "outputs": [
        {
          "output_type": "stream",
          "name": "stdout",
          "text": [
            "[-0.016296545043587685, 0.01907380484044552, -0.00865683238953352, -0.03434057533740997, 0.012856596149504185, 0.01864556409418583, -0.016674622893333435, -0.007018635515123606, 0.021180110052227974, 0.04353297874331474, -0.0013039407785981894, 0.05327136814594269, 0.035700876265764236, -0.0037640670780092478, -0.013039857149124146, -0.02502686157822609, 0.046053025871515274, 0.08711031824350357, -0.09746488183736801, -0.002442749449983239, 0.07618019729852676, -0.015109164640307426, 0.08231203258037567, 0.022819723933935165, -0.02144741825759411, -0.0007384165655821562, -0.055751338601112366, 0.019622115418314934, 0.009542467072606087, -0.024235006421804428, 0.05243077501654625, 0.0661461129784584, 0.02837509661912918, -0.014317168854176998, 0.0016176634235307574, 0.03898113965988159, -0.01096457801759243, 0.027868635952472687, 0.042691804468631744, -0.053747668862342834, -0.07162857055664062, 0.0499441921710968, 0.002752243308350444, 0.026926163583993912, -0.03703746572136879, -0.015583565458655357, 0.010676870122551918, 0.03243075683712959, 0.002792172832414508, 0.049548398703336716, 0.015575429424643517, 0.056035030633211136, -0.005105191841721535, 0.011924645863473415, -0.027813974767923355, -0.005922473501414061, -0.000221176102058962, 0.010616702027618885, 0.00666568661108613, 0.021269774064421654, -0.030816901475191116, 0.010513738729059696, -0.057149410247802734, -0.013860021717846394, -0.019414188340306282, -0.040429744869470596, 0.003328297520056367, -0.010565975680947304, -0.0892656072974205, 0.016272392123937607, -0.029126176610589027, -0.008477852679789066, -0.040340524166822433, 0.026675932109355927, 0.018083272501826286, -0.04511229321360588, 0.010651236400008202, -0.0247139111161232, 0.008868984878063202, 0.022221487015485764, -0.0025228317826986313, 0.02478303574025631, 0.08648274838924408, 0.06293373554944992, 0.051980022341012955, 0.023092860355973244, 0.03409542143344879, -0.034010086208581924, -0.034759655594825745, 0.013059275224804878, 0.10613100975751877, -0.00770336389541626, -0.015630226582288742, -0.034837305545806885, 0.08122227340936661, -0.020889410749077797, -0.102564737200737, -0.15540151298046112, 0.08653396368026733, 0.04420686513185501, -0.023289693519473076, 0.012797582894563675, 0.0012505247723311186, -0.01807822659611702, 0.00634670490399003, 0.030674517154693604, -0.03447854518890381, -0.04127391800284386, -0.02977442927658558, 0.025904279202222824, -0.06043540686368942, -0.055642880499362946, 0.005186140537261963, -0.024972138926386833, 0.008874677121639252, 0.03760730102658272, -0.04384979233145714, 0.0014139468548819423, -0.05645770952105522, -0.021612418815493584, -0.024487128481268883, -0.0036290581338107586, 0.0018013805383816361, 0.04268934205174446, 0.027883311733603477, 0.009573650546371937, -0.027996564283967018, -0.01603447087109089, -0.04084032028913498, -0.005376943852752447, 0.06285077333450317, -0.028473857790231705, -0.007001903839409351, 0.05261225253343582, -0.01487669162452221, -0.02970435656607151, 0.016496606171131134, -0.015118399634957314, 0.05599135532975197, 0.053868453949689865, 0.00693860650062561, -0.03740668296813965, -0.05846748873591423, 0.016073523089289665, -0.024382177740335464, 0.018123315647244453, -0.027579033747315407, 0.036607880145311356, -0.057128313928842545, -0.017205506563186646, -0.024394936859607697, -0.007434503640979528, 0.06861253827810287, -0.038887154310941696, -0.02101040631532669, 0.0078973937779665, 0.03310266137123108, -0.01105482131242752, 0.040412746369838715, -0.021273525431752205, 0.03951144218444824, -0.04373249411582947, -0.002204210264608264, 0.05488274246454239, -0.05080321803689003, 0.0022331273648887873, 0.02608984336256981, -0.036930862814188004, -0.004678537603467703, 0.030779842287302017, 0.01707598939538002, -0.035467877984046936, -0.04418598860502243, -0.09225509315729141, 0.008611734956502914, 0.023709945380687714, -0.003882746212184429, -0.005614039022475481, -0.015635903924703598, 0.03511514514684677, 0.11351995170116425, 0.001937750494107604, -0.0036212727427482605, -0.09600642323493958, 0.031549979001283646, 0.011771185323596, 0.025208549574017525, 0.06105989217758179, 0.08829575777053833, 0.004882230889052153, -0.016731685027480125, 0.03305622562766075, -0.04380250722169876, 0.013918803073465824, -0.021094273775815964, 0.04892055690288544, 0.018847493454813957, -0.005331436172127724, -0.05947205796837807, -0.03965539485216141, 0.05094529315829277, -0.034250304102897644, -0.0004904083325527608, 0.03940476104617119, 0.0022274311631917953, 0.07234462350606918, -0.06522661447525024, -0.08705893903970718, -0.013845190405845642, -0.016161775216460228, 0.009226764552295208, -0.021215049549937248, -0.04746844992041588, -0.047877952456474304, 0.0581902414560318, 0.009195846505463123, 0.06053156405687332, -0.0036958835553377867, 0.01433812826871872, -0.02994922362267971, 0.03874640166759491, 0.012069657444953918, 0.06524771451950073, 0.03897892311215401, 0.04480908811092377, -0.012688846327364445, -0.06334589421749115, -0.013607767410576344, 0.05160102620720863, -0.04336025193333626, 0.003118259599432349, -0.02413238398730755, -0.000717877468559891, 0.015698876231908798, -0.04573773965239525, 0.05150614678859711, 0.06052020564675331, -0.0689302459359169, -0.007000391371548176, 0.026010066270828247, -0.0019636480137705803, 0.01329483836889267, 0.06887748837471008, 0.033819034695625305, 0.04669654369354248, -0.03591332584619522, 0.04808962717652321, 0.05147786810994148, 0.008020075969398022, -0.013467643409967422, -0.01728610135614872, -0.022534513846039772, -0.024665245786309242, -0.012433050200343132, -0.0353219136595726, -0.018369479104876518, 0.015549839474260807, -0.017258405685424805, 0.0018604197539389133, -0.054957788437604904, 0.012298001907765865, -0.004647364839911461, 0.006142305675894022, -0.04243716597557068, -0.04152365401387215, -0.06670282036066055, 0.027020789682865143, -0.003828109009191394, -0.003366707358509302, -0.050330501049757004, 0.008871975354850292, -0.0639711394906044, -0.029155414551496506, -0.004139420576393604, 0.009630070067942142, 0.02974661812186241, 0.031489048153162, 0.013341107405722141, 0.033241625875234604, -0.03294946625828743, 0.01635972037911415, -0.0187798123806715, -0.008024806156754494, 0.04120200499892235, -0.0014388904673978686, -0.054567039012908936, 0.003235887736082077, 0.009299416095018387, -0.04790046811103821, -0.01621364802122116, -0.004491072613745928, 0.06584028154611588, -0.018332259729504585, -0.016633160412311554, 0.03888224810361862, 0.03377625346183777, 0.024970829486846924, 0.034069307148456573, -0.043307557702064514, -0.02119002677500248, 0.0560343898832798, 0.06061435118317604, -0.0061012133955955505, 0.028508184477686882, 7.260104030137882e-05, 0.03212228789925575, -0.03762131556868553, -0.03349343687295914, -0.04846225678920746, 0.015223585069179535, -0.026976749300956726, 0.07238183170557022, -0.03892085328698158, -0.03441397473216057, -0.04788283631205559, -0.022802211344242096, -0.17045658826828003, -0.0058616590686142445, -0.007193069439381361, -0.010542006231844425, 0.0011449429439380765, 0.009883628226816654, 0.061184678226709366, 0.019172243773937225, 0.05714651197195053, -0.008456185460090637, 0.011498422361910343, -0.007054160814732313, 0.008340445347130299, 0.010259732604026794, 0.015053796581923962, -0.010772217065095901, -0.08331354707479477, -0.03717414289712906, -0.024373702704906464, 0.04373713210225105, -0.03208731487393379, -0.0018798313103616238, 0.04886060580611229, 0.007704627234488726, 0.028605885803699493, 0.005530310794711113, 0.008594066835939884, 0.02035917155444622, -0.0069291782565414906, -0.0778292715549469, -0.009916041046380997, -0.0193264689296484, 0.02303164452314377, -0.017542513087391853, 0.02557300589978695, 0.040048886090517044, 0.03637714311480522, -0.03605697676539421, 0.007584453094750643, 0.018302565440535545, 0.02462184429168701, -0.008111977949738503, -0.004435534123331308, -0.02422286942601204, 4.681892824009992e-05, -0.0034901024773716927, -0.0090347770601511, 0.01679973490536213, 0.06754131615161896, -0.0035422868095338345, 0.03382524847984314, 0.056049395352602005, 0.008038830943405628, -0.04002293944358826, -0.016995079815387726, -0.016484452411532402, 0.006650467868894339, -0.00798692088574171, 0.07226938009262085, 0.00500293867662549, -0.0006293818005360663, 0.010596295818686485, -0.02812463790178299, 0.0015686382539570332, -0.02915886417031288, -0.018809856846928596, -0.0036563067696988583, 0.01266882661730051, -0.04407043755054474, 0.07886181026697159, -0.03428904339671135, -0.029468704015016556, -0.0008939519175328314, -0.022319965064525604, -0.03542293235659599, 0.0285502839833498, 0.040692105889320374, 0.044360581785440445, 0.0009621311328373849, 0.03383126109838486, -0.013984068296849728, 0.020924454554915428, -0.016667697578668594, -0.01043147873133421, 0.0006115844589658082, -0.005242663901299238, 0.07546219229698181, -0.025600241497159004, 0.02754295989871025, -0.014158659614622593, 0.03614829480648041, -0.012248257175087929, -0.008349317125976086, -0.01376168429851532, 0.0044076936319470406, 3.473709148238413e-05, -0.05599456652998924, -0.0028775024693459272, -0.05180094391107559, -0.01644374057650566, -0.0005558416014537215, -0.057947251945734024, -0.013053744100034237, -0.013918337412178516, -0.03569972515106201, 0.055770691484212875, 0.008222823962569237, 0.0006329892203211784, -0.019359206780791283, -0.0341336689889431, -0.0031674914062023163, 0.05313820019364357, 0.002856787294149399, 0.004082066006958485, 0.056606847792863846, 0.08226915448904037, -0.008425573818385601, 0.07090628892183304, 0.06319673359394073, 0.01830800622701645, 0.006321115884929895, 0.0068231369368731976, -0.006018208339810371, 0.015029214322566986, 0.004802029579877853, 0.012172363698482513, -0.0031096618622541428, 0.0040773735381662846, -0.016465676948428154, 0.01814507693052292, 0.05590461567044258, 0.015065575018525124, 0.002374376868829131, -0.012248803861439228, -0.02671503834426403, -0.014175212010741234, -0.004073136951774359, 0.015748579055070877, -0.09966737031936646, -0.04781058803200722, 0.04998592287302017, 0.012465665116906166, 0.017810212448239326, 0.04648509621620178, -0.028276050463318825, 0.02032521739602089, 0.09962417185306549, -0.04030107706785202, 0.0020700637251138687, -0.01844402588903904, -0.02732691913843155, 0.029592879116535187, -0.052066948264837265, 0.05924774333834648, 0.04400923103094101, -0.01034012995660305, 0.0032970011234283447, 0.02134372480213642, -0.024964137002825737, 0.0201262179762125, 0.03074849396944046, 0.04343138262629509, -0.014797603711485863, 0.01342491339892149, -0.010417585261166096, -0.007504497654736042, -0.0353119820356369, 0.02821219339966774, 0.049046777188777924, -0.016777800396084785, -0.0019391273381188512, 0.02304328978061676, -0.005702541209757328, 0.07291336357593536, -0.005565313622355461, 0.021288134157657623, 0.00414638826623559, -0.015256303362548351, 0.017217643558979034, 0.0025592835154384375, 0.053935904055833817, -0.06502660363912582, -0.017407458275556564, 0.06962360441684723, 0.06903863698244095, 0.016314616426825523, -0.020114023238420486, -0.04467383772134781, -0.04003637656569481, 0.04395067319273949, -0.03400973603129387, -0.024310309439897537, 0.054637499153614044, 0.009139450266957283, -0.017287228256464005, -0.02479667216539383, 0.004422497004270554, 0.04117574915289879, -0.0046858820132911205, -0.023104948922991753, -0.05836411938071251, 0.04402643069624901, -0.0012473015813156962, 0.02164488658308983, 0.016531003639101982, 0.006334956735372543, 0.03128557652235031, -0.014993191696703434, 0.011880211532115936, -0.02096962183713913, 0.0017144540324807167, 0.04049503803253174, 0.01630416512489319, -0.06984572857618332, -0.014590010978281498, 0.02663714438676834, 0.039657112210989, 0.05716390162706375, 0.0359320193529129, 0.04042129963636398, 0.025193890556693077, -0.027401991188526154, -0.03030204214155674, 0.01961301453411579, -0.014137557707726955, 0.01521369256079197, 0.023063872009515762, 0.0028007535729557276, 0.04822126775979996, -0.0008089751936495304, 0.022310461848974228, 0.040974777191877365, -0.004956535063683987, 0.07470612227916718, -0.05144030228257179, -0.048234403133392334, -0.036963190883398056, -0.006700605619698763, -0.0016649788012728095, -0.02553226426243782, 0.030672669410705566, -0.027506167069077492, -0.0640936940908432, -0.0213449839502573, -0.0036641135811805725, -0.00765217375010252, -0.020812131464481354, 0.015101744793355465, 0.030308067798614502, -0.027508597820997238, 0.03071940504014492, 0.04087667912244797, 0.007650916464626789, 0.030423631891608238, 0.001126780640333891, -0.010668923147022724, -0.010566099546849728, -0.0020144188310950994, 0.03863048925995827, -0.010515591129660606, -0.04927747696638107, -0.003593939822167158, 0.03164631873369217, -0.04891267046332359, 0.024009456858038902, -0.00301528163254261, 0.05623720958828926, 0.03299091011285782, 0.05364689975976944, 0.027078619226813316, 0.0015024887397885323, 0.011702971532940865, 0.02608674019575119, 0.03490254282951355, 0.00743768410757184, 0.04437430575489998, -0.0032833945006132126, -0.049531131982803345, -0.011363175697624683, -0.02851533517241478, -0.046682555228471756, 0.026322776451706886, 0.05384456738829613, 0.0069244797341525555, 0.020554738119244576, -0.011868981644511223, 0.03167231008410454, 0.0557955764234066, 0.01705794967710972, 0.0014105209847912192, -0.03496714308857918, -0.038591038435697556, 0.016883036121726036, -0.02391229011118412, -0.02622133679687977, 0.03653668239712715, -0.02616153284907341, -0.025431586429476738, -0.0020497292280197144, -0.002542913658544421, -0.06533887982368469, -0.018578199669718742, 0.003530751680955291, 0.03848525509238243, 0.009197489358484745, -0.005076650530099869, 0.062484148889780045, -0.0561409518122673, -0.03417988494038582, 0.00825645960867405, -0.02910975180566311, -0.011338140815496445, 0.06955776363611221, -0.005071213003247976, -0.02164117805659771, 0.04255380854010582, 0.02925257198512554, -0.07111416012048721, -0.05443906411528587, 0.03218977153301239, -0.010031376965343952, -0.001668150071054697, -0.00513445446267724, -0.05134423077106476, -0.022491130977869034, 0.013140732422471046, 0.0773966833949089, 0.0005724856746383011, -0.03164058178663254, 0.0687248557806015, -0.00522253941744566, 0.03609120845794678, 0.006945961154997349, 0.05178868770599365, 0.011741680093109608, -0.05253271386027336, -0.0051627145148813725, -0.004620178136974573, -0.0016200473764911294, 0.009278099983930588, -0.05441800132393837, 0.036233823746442795, 0.043501708656549454, 0.031123774126172066, -0.008585002273321152, -0.04062721133232117, 0.009396289475262165, -0.021346047520637512, -0.011749714612960815, 0.005658366251736879, -0.01379631832242012, -0.0010658686514943838, 0.011736013926565647, -0.001814294490031898, 0.0359012745320797, 0.013049990870058537, -0.016200006008148193, 0.007933047600090504, -0.056892700493335724, -0.005923894699662924, 0.023772569373250008, 0.02223922684788704, 0.001565701561048627, 0.03417046368122101, -0.005465404130518436, -0.02011626958847046, 0.008642465807497501, -0.02373703569173813, 0.007728981785476208, 0.02488367073237896, 0.022983700037002563, 0.008761933073401451, -0.06807295978069305, 0.0418018214404583, -0.008411696180701256, 0.001149569172412157, -0.006968570873141289, -0.015451906248927116, 0.007644447032362223, 0.027032066136598587, -0.0368521548807621, 0.02833392471075058, -0.03876554220914841, -0.01353508047759533, -0.043074458837509155, -0.022364692762494087, -0.0869188979268074, -0.03760990500450134, 0.045393578708171844, -0.014618659391999245, 0.012217050418257713, 0.0636337623000145, -0.04219657927751541, -0.007550314534455538, -0.022014129906892776, -0.022385181859135628, 0.017635418102145195, 0.018253613263368607, 0.026943450793623924, 0.014400376938283443, 0.018912561237812042, -0.021553682163357735, 0.015570235438644886, 0.052684757858514786, -0.014675921760499477, -0.05018327012658119, 0.030801501125097275, 0.029324358329176903, 0.04561038315296173, 0.013273277319967747, -0.06922397017478943, 0.0008435166673734784, -0.03380594030022621, 0.03725959733128548, 0.058428436517715454, 0.024582820013165474, -0.03388548642396927, 0.007601727265864611, -0.021446771919727325, -0.039173565804958344, -0.0004951239679940045, -0.018292389810085297, -0.028084097430109978, 0.015341558493673801, 0.04239153116941452, -0.03435996547341347, -0.0657113641500473, -0.002022508531808853, 0.024132415652275085, 0.011972468346357346, -0.008831447921693325, 0.010744549334049225, 0.007111540995538235, -0.04770476743578911, -0.08981244266033173, -0.014426958747208118, 0.006358685903251171, 0.022426335141062737, 0.024796990677714348, -0.016809342429041862, -0.0137404203414917, -0.014358594082295895, 0.03622914478182793, 0.03294655308127403, -0.05580442398786545, 0.08078183978796005, -0.007457206957042217, 0.030692346394062042, -0.06464473158121109, -0.006856971420347691, 0.0016795486444607377, -0.05938192456960678]\n"
          ]
        }
      ]
    },
    {
      "cell_type": "code",
      "source": [
        "len(embeddings[1])"
      ],
      "metadata": {
        "id": "sHoo0oSdbPQ7",
        "colab": {
          "base_uri": "https://localhost:8080/"
        },
        "outputId": "5ee171db-0739-4cd0-da43-fdcbb0e6ed1b"
      },
      "execution_count": null,
      "outputs": [
        {
          "output_type": "execute_result",
          "data": {
            "text/plain": [
              "768"
            ]
          },
          "metadata": {},
          "execution_count": 30
        }
      ]
    },
    {
      "cell_type": "markdown",
      "source": [
        "새로운 쿼리를 넣어, 임베딩끼리 유사도를 계산해보겠습니다"
      ],
      "metadata": {
        "id": "q4Z93VhNnZWx"
      }
    },
    {
      "cell_type": "code",
      "source": [
        "import numpy as np\n",
        "from numpy import dot\n",
        "from numpy.linalg import norm\n",
        "def cos_sim(A, B):\n",
        "  return dot(A, B)/(norm(A)*norm(B))"
      ],
      "metadata": {
        "id": "JdIPCKdegPoW"
      },
      "execution_count": null,
      "outputs": []
    },
    {
      "cell_type": "code",
      "source": [
        "query = [\"this is red fruit\"]"
      ],
      "metadata": {
        "id": "OiF2Th_Wfbjh"
      },
      "execution_count": null,
      "outputs": []
    },
    {
      "cell_type": "code",
      "source": [
        "e_query = embedding_model.embed_documents(query)\n",
        "print(cos_sim(embeddings[0], e_query[0]))\n",
        "print(cos_sim(embeddings[1], e_query[0]))\n",
        "print(cos_sim(embeddings[2], e_query[0]))"
      ],
      "metadata": {
        "id": "9Dw1abxlnH6x",
        "colab": {
          "base_uri": "https://localhost:8080/"
        },
        "outputId": "0ce3d2dd-643a-4440-8d30-63a5f22f9ae4"
      },
      "execution_count": null,
      "outputs": [
        {
          "output_type": "stream",
          "name": "stdout",
          "text": [
            "0.9281472104438462\n",
            "0.8610421272571303\n",
            "0.8125816090062714\n"
          ]
        }
      ]
    },
    {
      "cell_type": "markdown",
      "source": [
        "빨간 사과와 빨간 과일의 유사도가 많이 높게 나왔습니다!  \n",
        "  \n",
        "임베딩 모델은 사용 언어나 필요에 따라 다양하게 교체하여 사용할 수 있습니다.  \n",
        "해당 링크에서 여러 목록을 확인하실 수 있습니다.  \n",
        "https://python.langchain.com/docs/integrations/text_embedding/"
      ],
      "metadata": {
        "id": "jAQYsdGTniZ8"
      }
    },
    {
      "cell_type": "markdown",
      "source": [
        "### Step4 : VectorStore 사용해보기\n",
        "VectorStore는 자연어를 Vector로 embedding한 후, 이를 저장하는 공간입니다.  \n",
        "쿼리나 문서 등의 Emabedding이 저장된 후, 재사용 및 참조를 위해 VectorStroe에서 빠르게 유사도를 측정, 탐색할 수 있습니다.  \n",
        "VectorStore로는 Chroma나 Faiss를 가장 많이 사용합니다.  \n",
        "  \n",
        "예제로는, 가장 간단한 chromadb를 사용해보겠습니다.  "
      ],
      "metadata": {
        "id": "6WQFYzDRElUJ"
      }
    },
    {
      "cell_type": "code",
      "source": [
        "!pip install chromadb"
      ],
      "metadata": {
        "id": "bUP9BzkqoaFc",
        "colab": {
          "base_uri": "https://localhost:8080/"
        },
        "outputId": "9715b00b-8b67-432b-ca30-903bc67b208a"
      },
      "execution_count": null,
      "outputs": [
        {
          "output_type": "stream",
          "name": "stdout",
          "text": [
            "Requirement already satisfied: chromadb in /usr/local/lib/python3.11/dist-packages (0.6.3)\n",
            "Requirement already satisfied: build>=1.0.3 in /usr/local/lib/python3.11/dist-packages (from chromadb) (1.2.2.post1)\n",
            "Requirement already satisfied: pydantic>=1.9 in /usr/local/lib/python3.11/dist-packages (from chromadb) (2.11.4)\n",
            "Requirement already satisfied: chroma-hnswlib==0.7.6 in /usr/local/lib/python3.11/dist-packages (from chromadb) (0.7.6)\n",
            "Requirement already satisfied: fastapi>=0.95.2 in /usr/local/lib/python3.11/dist-packages (from chromadb) (0.115.9)\n",
            "Requirement already satisfied: uvicorn>=0.18.3 in /usr/local/lib/python3.11/dist-packages (from uvicorn[standard]>=0.18.3->chromadb) (0.34.2)\n",
            "Requirement already satisfied: numpy>=1.22.5 in /usr/local/lib/python3.11/dist-packages (from chromadb) (2.0.2)\n",
            "Requirement already satisfied: posthog>=2.4.0 in /usr/local/lib/python3.11/dist-packages (from chromadb) (4.0.1)\n",
            "Requirement already satisfied: typing_extensions>=4.5.0 in /usr/local/lib/python3.11/dist-packages (from chromadb) (4.13.2)\n",
            "Requirement already satisfied: onnxruntime>=1.14.1 in /usr/local/lib/python3.11/dist-packages (from chromadb) (1.21.1)\n",
            "Requirement already satisfied: opentelemetry-api>=1.2.0 in /usr/local/lib/python3.11/dist-packages (from chromadb) (1.32.1)\n",
            "Requirement already satisfied: opentelemetry-exporter-otlp-proto-grpc>=1.2.0 in /usr/local/lib/python3.11/dist-packages (from chromadb) (1.32.1)\n",
            "Requirement already satisfied: opentelemetry-instrumentation-fastapi>=0.41b0 in /usr/local/lib/python3.11/dist-packages (from chromadb) (0.53b1)\n",
            "Requirement already satisfied: opentelemetry-sdk>=1.2.0 in /usr/local/lib/python3.11/dist-packages (from chromadb) (1.32.1)\n",
            "Requirement already satisfied: tokenizers>=0.13.2 in /usr/local/lib/python3.11/dist-packages (from chromadb) (0.21.1)\n",
            "Requirement already satisfied: pypika>=0.48.9 in /usr/local/lib/python3.11/dist-packages (from chromadb) (0.48.9)\n",
            "Requirement already satisfied: tqdm>=4.65.0 in /usr/local/lib/python3.11/dist-packages (from chromadb) (4.67.1)\n",
            "Requirement already satisfied: overrides>=7.3.1 in /usr/local/lib/python3.11/dist-packages (from chromadb) (7.7.0)\n",
            "Requirement already satisfied: importlib-resources in /usr/local/lib/python3.11/dist-packages (from chromadb) (6.5.2)\n",
            "Requirement already satisfied: grpcio>=1.58.0 in /usr/local/lib/python3.11/dist-packages (from chromadb) (1.71.0)\n",
            "Requirement already satisfied: bcrypt>=4.0.1 in /usr/local/lib/python3.11/dist-packages (from chromadb) (4.3.0)\n",
            "Requirement already satisfied: typer>=0.9.0 in /usr/local/lib/python3.11/dist-packages (from chromadb) (0.15.3)\n",
            "Requirement already satisfied: kubernetes>=28.1.0 in /usr/local/lib/python3.11/dist-packages (from chromadb) (32.0.1)\n",
            "Requirement already satisfied: tenacity>=8.2.3 in /usr/local/lib/python3.11/dist-packages (from chromadb) (9.1.2)\n",
            "Requirement already satisfied: PyYAML>=6.0.0 in /usr/local/lib/python3.11/dist-packages (from chromadb) (6.0.2)\n",
            "Requirement already satisfied: mmh3>=4.0.1 in /usr/local/lib/python3.11/dist-packages (from chromadb) (5.1.0)\n",
            "Requirement already satisfied: orjson>=3.9.12 in /usr/local/lib/python3.11/dist-packages (from chromadb) (3.10.18)\n",
            "Requirement already satisfied: httpx>=0.27.0 in /usr/local/lib/python3.11/dist-packages (from chromadb) (0.28.1)\n",
            "Requirement already satisfied: rich>=10.11.0 in /usr/local/lib/python3.11/dist-packages (from chromadb) (13.9.4)\n",
            "Requirement already satisfied: packaging>=19.1 in /usr/local/lib/python3.11/dist-packages (from build>=1.0.3->chromadb) (24.2)\n",
            "Requirement already satisfied: pyproject_hooks in /usr/local/lib/python3.11/dist-packages (from build>=1.0.3->chromadb) (1.2.0)\n",
            "Requirement already satisfied: starlette<0.46.0,>=0.40.0 in /usr/local/lib/python3.11/dist-packages (from fastapi>=0.95.2->chromadb) (0.45.3)\n",
            "Requirement already satisfied: anyio in /usr/local/lib/python3.11/dist-packages (from httpx>=0.27.0->chromadb) (4.9.0)\n",
            "Requirement already satisfied: certifi in /usr/local/lib/python3.11/dist-packages (from httpx>=0.27.0->chromadb) (2025.4.26)\n",
            "Requirement already satisfied: httpcore==1.* in /usr/local/lib/python3.11/dist-packages (from httpx>=0.27.0->chromadb) (1.0.9)\n",
            "Requirement already satisfied: idna in /usr/local/lib/python3.11/dist-packages (from httpx>=0.27.0->chromadb) (3.10)\n",
            "Requirement already satisfied: h11>=0.16 in /usr/local/lib/python3.11/dist-packages (from httpcore==1.*->httpx>=0.27.0->chromadb) (0.16.0)\n",
            "Requirement already satisfied: six>=1.9.0 in /usr/local/lib/python3.11/dist-packages (from kubernetes>=28.1.0->chromadb) (1.17.0)\n",
            "Requirement already satisfied: python-dateutil>=2.5.3 in /usr/local/lib/python3.11/dist-packages (from kubernetes>=28.1.0->chromadb) (2.9.0.post0)\n",
            "Requirement already satisfied: google-auth>=1.0.1 in /usr/local/lib/python3.11/dist-packages (from kubernetes>=28.1.0->chromadb) (2.38.0)\n",
            "Requirement already satisfied: websocket-client!=0.40.0,!=0.41.*,!=0.42.*,>=0.32.0 in /usr/local/lib/python3.11/dist-packages (from kubernetes>=28.1.0->chromadb) (1.8.0)\n",
            "Requirement already satisfied: requests in /usr/local/lib/python3.11/dist-packages (from kubernetes>=28.1.0->chromadb) (2.32.3)\n",
            "Requirement already satisfied: requests-oauthlib in /usr/local/lib/python3.11/dist-packages (from kubernetes>=28.1.0->chromadb) (2.0.0)\n",
            "Requirement already satisfied: oauthlib>=3.2.2 in /usr/local/lib/python3.11/dist-packages (from kubernetes>=28.1.0->chromadb) (3.2.2)\n",
            "Requirement already satisfied: urllib3>=1.24.2 in /usr/local/lib/python3.11/dist-packages (from kubernetes>=28.1.0->chromadb) (2.4.0)\n",
            "Requirement already satisfied: durationpy>=0.7 in /usr/local/lib/python3.11/dist-packages (from kubernetes>=28.1.0->chromadb) (0.9)\n",
            "Requirement already satisfied: coloredlogs in /usr/local/lib/python3.11/dist-packages (from onnxruntime>=1.14.1->chromadb) (15.0.1)\n",
            "Requirement already satisfied: flatbuffers in /usr/local/lib/python3.11/dist-packages (from onnxruntime>=1.14.1->chromadb) (25.2.10)\n",
            "Requirement already satisfied: protobuf in /usr/local/lib/python3.11/dist-packages (from onnxruntime>=1.14.1->chromadb) (5.29.4)\n",
            "Requirement already satisfied: sympy in /usr/local/lib/python3.11/dist-packages (from onnxruntime>=1.14.1->chromadb) (1.13.1)\n",
            "Requirement already satisfied: deprecated>=1.2.6 in /usr/local/lib/python3.11/dist-packages (from opentelemetry-api>=1.2.0->chromadb) (1.2.18)\n",
            "Requirement already satisfied: importlib-metadata<8.7.0,>=6.0 in /usr/local/lib/python3.11/dist-packages (from opentelemetry-api>=1.2.0->chromadb) (8.6.1)\n",
            "Requirement already satisfied: googleapis-common-protos~=1.52 in /usr/local/lib/python3.11/dist-packages (from opentelemetry-exporter-otlp-proto-grpc>=1.2.0->chromadb) (1.70.0)\n",
            "Requirement already satisfied: opentelemetry-exporter-otlp-proto-common==1.32.1 in /usr/local/lib/python3.11/dist-packages (from opentelemetry-exporter-otlp-proto-grpc>=1.2.0->chromadb) (1.32.1)\n",
            "Requirement already satisfied: opentelemetry-proto==1.32.1 in /usr/local/lib/python3.11/dist-packages (from opentelemetry-exporter-otlp-proto-grpc>=1.2.0->chromadb) (1.32.1)\n",
            "Requirement already satisfied: opentelemetry-instrumentation-asgi==0.53b1 in /usr/local/lib/python3.11/dist-packages (from opentelemetry-instrumentation-fastapi>=0.41b0->chromadb) (0.53b1)\n",
            "Requirement already satisfied: opentelemetry-instrumentation==0.53b1 in /usr/local/lib/python3.11/dist-packages (from opentelemetry-instrumentation-fastapi>=0.41b0->chromadb) (0.53b1)\n",
            "Requirement already satisfied: opentelemetry-semantic-conventions==0.53b1 in /usr/local/lib/python3.11/dist-packages (from opentelemetry-instrumentation-fastapi>=0.41b0->chromadb) (0.53b1)\n",
            "Requirement already satisfied: opentelemetry-util-http==0.53b1 in /usr/local/lib/python3.11/dist-packages (from opentelemetry-instrumentation-fastapi>=0.41b0->chromadb) (0.53b1)\n",
            "Requirement already satisfied: wrapt<2.0.0,>=1.0.0 in /usr/local/lib/python3.11/dist-packages (from opentelemetry-instrumentation==0.53b1->opentelemetry-instrumentation-fastapi>=0.41b0->chromadb) (1.17.2)\n",
            "Requirement already satisfied: asgiref~=3.0 in /usr/local/lib/python3.11/dist-packages (from opentelemetry-instrumentation-asgi==0.53b1->opentelemetry-instrumentation-fastapi>=0.41b0->chromadb) (3.8.1)\n",
            "Requirement already satisfied: backoff>=1.10.0 in /usr/local/lib/python3.11/dist-packages (from posthog>=2.4.0->chromadb) (2.2.1)\n",
            "Requirement already satisfied: distro>=1.5.0 in /usr/local/lib/python3.11/dist-packages (from posthog>=2.4.0->chromadb) (1.9.0)\n",
            "Requirement already satisfied: annotated-types>=0.6.0 in /usr/local/lib/python3.11/dist-packages (from pydantic>=1.9->chromadb) (0.7.0)\n",
            "Requirement already satisfied: pydantic-core==2.33.2 in /usr/local/lib/python3.11/dist-packages (from pydantic>=1.9->chromadb) (2.33.2)\n",
            "Requirement already satisfied: typing-inspection>=0.4.0 in /usr/local/lib/python3.11/dist-packages (from pydantic>=1.9->chromadb) (0.4.0)\n",
            "Requirement already satisfied: markdown-it-py>=2.2.0 in /usr/local/lib/python3.11/dist-packages (from rich>=10.11.0->chromadb) (3.0.0)\n",
            "Requirement already satisfied: pygments<3.0.0,>=2.13.0 in /usr/local/lib/python3.11/dist-packages (from rich>=10.11.0->chromadb) (2.19.1)\n",
            "Requirement already satisfied: huggingface-hub<1.0,>=0.16.4 in /usr/local/lib/python3.11/dist-packages (from tokenizers>=0.13.2->chromadb) (0.30.2)\n",
            "Requirement already satisfied: click>=8.0.0 in /usr/local/lib/python3.11/dist-packages (from typer>=0.9.0->chromadb) (8.1.8)\n",
            "Requirement already satisfied: shellingham>=1.3.0 in /usr/local/lib/python3.11/dist-packages (from typer>=0.9.0->chromadb) (1.5.4)\n",
            "Requirement already satisfied: httptools>=0.6.3 in /usr/local/lib/python3.11/dist-packages (from uvicorn[standard]>=0.18.3->chromadb) (0.6.4)\n",
            "Requirement already satisfied: python-dotenv>=0.13 in /usr/local/lib/python3.11/dist-packages (from uvicorn[standard]>=0.18.3->chromadb) (1.1.0)\n",
            "Requirement already satisfied: uvloop!=0.15.0,!=0.15.1,>=0.14.0 in /usr/local/lib/python3.11/dist-packages (from uvicorn[standard]>=0.18.3->chromadb) (0.21.0)\n",
            "Requirement already satisfied: watchfiles>=0.13 in /usr/local/lib/python3.11/dist-packages (from uvicorn[standard]>=0.18.3->chromadb) (1.0.5)\n",
            "Requirement already satisfied: websockets>=10.4 in /usr/local/lib/python3.11/dist-packages (from uvicorn[standard]>=0.18.3->chromadb) (15.0.1)\n",
            "Requirement already satisfied: cachetools<6.0,>=2.0.0 in /usr/local/lib/python3.11/dist-packages (from google-auth>=1.0.1->kubernetes>=28.1.0->chromadb) (5.5.2)\n",
            "Requirement already satisfied: pyasn1-modules>=0.2.1 in /usr/local/lib/python3.11/dist-packages (from google-auth>=1.0.1->kubernetes>=28.1.0->chromadb) (0.4.2)\n",
            "Requirement already satisfied: rsa<5,>=3.1.4 in /usr/local/lib/python3.11/dist-packages (from google-auth>=1.0.1->kubernetes>=28.1.0->chromadb) (4.9.1)\n",
            "Requirement already satisfied: filelock in /usr/local/lib/python3.11/dist-packages (from huggingface-hub<1.0,>=0.16.4->tokenizers>=0.13.2->chromadb) (3.18.0)\n",
            "Requirement already satisfied: fsspec>=2023.5.0 in /usr/local/lib/python3.11/dist-packages (from huggingface-hub<1.0,>=0.16.4->tokenizers>=0.13.2->chromadb) (2025.3.2)\n",
            "Requirement already satisfied: zipp>=3.20 in /usr/local/lib/python3.11/dist-packages (from importlib-metadata<8.7.0,>=6.0->opentelemetry-api>=1.2.0->chromadb) (3.21.0)\n",
            "Requirement already satisfied: mdurl~=0.1 in /usr/local/lib/python3.11/dist-packages (from markdown-it-py>=2.2.0->rich>=10.11.0->chromadb) (0.1.2)\n",
            "Requirement already satisfied: charset-normalizer<4,>=2 in /usr/local/lib/python3.11/dist-packages (from requests->kubernetes>=28.1.0->chromadb) (3.4.1)\n",
            "Requirement already satisfied: sniffio>=1.1 in /usr/local/lib/python3.11/dist-packages (from anyio->httpx>=0.27.0->chromadb) (1.3.1)\n",
            "Requirement already satisfied: humanfriendly>=9.1 in /usr/local/lib/python3.11/dist-packages (from coloredlogs->onnxruntime>=1.14.1->chromadb) (10.0)\n",
            "Requirement already satisfied: mpmath<1.4,>=1.1.0 in /usr/local/lib/python3.11/dist-packages (from sympy->onnxruntime>=1.14.1->chromadb) (1.3.0)\n",
            "Requirement already satisfied: pyasn1<0.7.0,>=0.6.1 in /usr/local/lib/python3.11/dist-packages (from pyasn1-modules>=0.2.1->google-auth>=1.0.1->kubernetes>=28.1.0->chromadb) (0.6.1)\n"
          ]
        }
      ]
    },
    {
      "cell_type": "code",
      "source": [
        "#!pip install langchain-chroma"
      ],
      "metadata": {
        "id": "ezFxZF_kmpdw"
      },
      "execution_count": null,
      "outputs": []
    },
    {
      "cell_type": "code",
      "source": [
        "#from langchain_community.vectorstores import Chroma"
      ],
      "metadata": {
        "id": "CJRVNyM_4p7Q"
      },
      "execution_count": null,
      "outputs": []
    },
    {
      "cell_type": "code",
      "source": [
        "from langchain.vectorstores import Chroma"
      ],
      "metadata": {
        "id": "CNoueLanSnrI"
      },
      "execution_count": null,
      "outputs": []
    },
    {
      "cell_type": "code",
      "source": [
        "#!pip install --upgrade opentelemetry-api\n",
        "#!pip install --upgrade opentelemetry-sdk"
      ],
      "metadata": {
        "id": "PQGo-Pc_AmFU"
      },
      "execution_count": null,
      "outputs": []
    },
    {
      "cell_type": "code",
      "source": [
        "#from langchain_chroma import Chroma"
      ],
      "metadata": {
        "id": "C8T5sE5UARu8"
      },
      "execution_count": null,
      "outputs": []
    },
    {
      "cell_type": "markdown",
      "source": [
        "제일 처음에 사용했던, PDF를 다시 사용하도록 합니다!  "
      ],
      "metadata": {
        "id": "ItLO4FouzYUF"
      }
    },
    {
      "cell_type": "code",
      "source": [
        "# 위에서 사용했던 코드입니다\n",
        "loader = PyPDFLoader(\"/content/Demian.pdf\")\n",
        "pages = loader.load_and_split()\n",
        "\n",
        "text_splitter = RecursiveCharacterTextSplitter(chunk_size=500, chunk_overlap=0, length_function = tiktoken_len)\n",
        "docs = text_splitter.split_documents(pages)"
      ],
      "metadata": {
        "id": "U2kUZ-B-zLZV"
      },
      "execution_count": null,
      "outputs": []
    },
    {
      "cell_type": "code",
      "source": [
        "#!pip show chromadb"
      ],
      "metadata": {
        "id": "96R9WIy_0MA5"
      },
      "execution_count": null,
      "outputs": []
    },
    {
      "cell_type": "markdown",
      "source": [
        "Chroma에 임베딩 시킵니다  "
      ],
      "metadata": {
        "id": "x7Iwc1EbR-zM"
      }
    },
    {
      "cell_type": "code",
      "source": [
        "db = Chroma.from_documents(docs, embedding_model)\n"
      ],
      "metadata": {
        "id": "FprgEvy01jtK"
      },
      "execution_count": null,
      "outputs": []
    },
    {
      "cell_type": "markdown",
      "source": [
        "이제 쿼리를 날려보겠습니다"
      ],
      "metadata": {
        "id": "lUM3Mf_5UIFj"
      }
    },
    {
      "cell_type": "code",
      "source": [
        "query = \"how Demian look like?\"\n",
        "docs = db.similarity_search(query)"
      ],
      "metadata": {
        "id": "CmsGfP3oT6C0"
      },
      "execution_count": null,
      "outputs": []
    },
    {
      "cell_type": "code",
      "source": [
        "print(docs[0].page_content)"
      ],
      "metadata": {
        "id": "tz2MJlMCUToL",
        "colab": {
          "base_uri": "https://localhost:8080/"
        },
        "outputId": "e03fe7ca-ed75-45bf-a229-d0ae781308c3"
      },
      "execution_count": null,
      "outputs": [
        {
          "output_type": "stream",
          "name": "stdout",
          "text": [
            "DEMIAN \n",
            "with a feeling of nausea, I noticed Demian's expression. \n",
            "He had not thrust himself to the front but stood right \n",
            "at the back, looking elc!gant and at ease as usual. His \n",
            "glance seemed directed at the horse's head, and again it \n",
            ". showed that deep, quiet, almost fanatical yet passionate \n",
            "absorption. I could not help staring at him for some \n",
            "moments and it was then that I felt aware of a very \n",
            "uncanny sensation in my remote consciousness. I saw \n",
            "Demian's face and remarked that it was not a boy's face \n",
            "but a man's and then I saw, or rather became aware, that \n",
            "it was not really the face of a man either; it had some­\n",
            "thing different about it, almost a feminine element. And \n",
            "for the time being his face seemed neither masculine \n",
            "nor childish, neither old nor young but a hundred years \n",
            "old, almost timeless and bearing the mark of other \n",
            "periods of history than our own. Animals might look \n",
            "thus, trees or stars. I did not know then, of course, I \n",
            "did not feel exactly what I am writing about it now, as \n",
            "an adult, but it was something of the kind. Perhaps he \n",
            "was handsome, perhaps I found him attractive, perhaps \n",
            "he repelled me too, I could not even be sure of that. All \n",
            "I saw was that he was different from the rest of us, that \n",
            "he was like an animal, a spirit or an image. I cannot \n",
            "describe him except to say that he was different, un­\n",
            "imaginably different from the rest of us. My memory is a \n",
            "blank about everything else and perhaps even what I \n",
            "have described is to some extent gleaned from later \n",
            "impressions. \n",
            "Only when I was several years older did I come into \n",
            "close touch with him. Contrary to the usual custom, \n",
            "Demian had not been confirmed with the other boys of \n",
            "56 \n",
            "Downloaded from https://www.holybooks.com\n"
          ]
        }
      ]
    },
    {
      "cell_type": "markdown",
      "source": [
        "Face, features, looks like 등 데미안의 생김새를 담고 있는 페이지가 출력되었습니다  \n",
        "굉장히 빠른 속도로 검색했습니다!  "
      ],
      "metadata": {
        "id": "iXpn-xGtUgJ9"
      }
    },
    {
      "cell_type": "markdown",
      "source": [
        "### Step5 : Retriever 사용해보기  \n",
        "\n",
        "Retriever는 사용자 입력 시 임베딩 모델을 거친 쿼리와 vectorstore에 저장된 사전 정보들 간의 유사 문장을 찾아내어 출력하는 역할을 합니다.  \n",
        "  \n",
        "\n",
        "\n"
      ],
      "metadata": {
        "id": "Av2jNoHjElXI"
      }
    },
    {
      "cell_type": "code",
      "source": [
        "from langchain.chains import RetrievalQA\n"
      ],
      "metadata": {
        "id": "XQ8suJ1c-hGO"
      },
      "execution_count": null,
      "outputs": []
    },
    {
      "cell_type": "markdown",
      "source": [
        "긴 문서에서 원하는 답변을 찾을 수 있는 RetrieverQA 체인을 사용합니다  "
      ],
      "metadata": {
        "id": "S40ekPtTWirT"
      }
    },
    {
      "cell_type": "code",
      "source": [
        "from langchain.callbacks.streaming_stdout import StreamingStdOutCallbackHandler\n",
        "\n",
        "\n",
        "llm = ChatGoogleGenerativeAI(model = \"gemini-1.5-flash\", temperature=0.0)"
      ],
      "metadata": {
        "id": "z7u1YK_6Ou3l"
      },
      "execution_count": null,
      "outputs": []
    },
    {
      "cell_type": "markdown",
      "source": [
        "체인의 종류, 탐색 방법과 그에 따른 파라메터를 설정해줍니다  "
      ],
      "metadata": {
        "id": "PlioWGPtW8vM"
      }
    },
    {
      "cell_type": "code",
      "source": [
        "qa = RetrievalQA.from_chain_type(llm, chain_type=\"stuff\",\n",
        "                                 retriever=db.as_retriever(\n",
        "                                     search_type=\"mmr\",\n",
        "                                     search_kwargs={\"k\": 3, \"fetch_k\" : 10}),\n",
        "                                 return_source_documents=True)"
      ],
      "metadata": {
        "id": "0Ma1qqWwNXen"
      },
      "execution_count": null,
      "outputs": []
    },
    {
      "cell_type": "code",
      "source": [
        "query = \"how demian looks like\"\n",
        "result = qa(query)"
      ],
      "metadata": {
        "id": "2d8WxRgoNmRx"
      },
      "execution_count": null,
      "outputs": []
    },
    {
      "cell_type": "markdown",
      "source": [
        "마크다운 형식으로 출력해봅니다"
      ],
      "metadata": {
        "id": "pLZr3whnXTNz"
      }
    },
    {
      "cell_type": "code",
      "source": [
        "from IPython.display import Markdown, display\n",
        "display(Markdown(result[\"result\"]))"
      ],
      "metadata": {
        "id": "ORBaSJU0Plsz",
        "colab": {
          "base_uri": "https://localhost:8080/",
          "height": 116
        },
        "outputId": "a49d01b2-be9a-4196-9125-ccfbf458a762"
      },
      "execution_count": null,
      "outputs": [
        {
          "output_type": "display_data",
          "data": {
            "text/plain": [
              "<IPython.core.display.Markdown object>"
            ],
            "text/markdown": "The descriptions of Demian's appearance are varied and somewhat contradictory, suggesting a mysterious and perhaps even otherworldly quality.  At times he is described as having a face that is neither boyish nor manly, neither old nor young, but timeless and almost animalistic.  He is also described as handsome, yet cold and stone-like, with an aura of quiet emptiness.  In one instance, the narrator notes a \"feminine element\" to his face.  Later, Demian is seen wearing a fawn mackintosh and carrying a walking stick.  The overall impression is one of someone unusual and captivating, defying easy categorization."
          },
          "metadata": {}
        }
      ]
    },
    {
      "cell_type": "markdown",
      "source": [
        "RAG를 사용하지 않은 llm 호출도 시도해보세요!"
      ],
      "metadata": {
        "id": "VFZgpq6vXigB"
      }
    },
    {
      "cell_type": "code",
      "source": [
        "\n",
        "llm2 = ChatGoogleGenerativeAI(model = \"gemini-1.5-flash\", temperature=0.0)\n",
        "request = llm2.invoke(\"how demian looks like\")\n",
        "display(Markdown(request.content))\n"
      ],
      "metadata": {
        "id": "304uRfwYR2Zz",
        "colab": {
          "base_uri": "https://localhost:8080/",
          "height": 319
        },
        "outputId": "835fbd97-b247-48d7-8d01-77bf853c99ba"
      },
      "execution_count": null,
      "outputs": [
        {
          "output_type": "display_data",
          "data": {
            "text/plain": [
              "<IPython.core.display.Markdown object>"
            ],
            "text/markdown": "Descriptions of Demian's appearance in Hermann Hesse's novel *Demian* are sparse and somewhat ambiguous, reflecting the novel's focus on inner transformation rather than physical details.  There's no single definitive image.  However, we can piece together some impressions:\n\n* **Mysterious and somewhat unsettling:**  He's presented as possessing an air of mystery and a certain darkness that intrigues the young Sinclair.  This isn't necessarily a physical attribute, but rather an aura or presence.\n\n* **Older and more mature than Sinclair:**  Demian is significantly older than Sinclair, giving him a perceived maturity and worldly wisdom that draws Sinclair to him.  This would suggest a more developed physique and perhaps a more serious demeanor.\n\n* **Not conventionally handsome:**  There's no suggestion that Demian is conventionally handsome.  His appeal lies in his personality and his intellectual and spiritual depth, not his physical attractiveness.\n\n* **Possibly androgynous:** Some interpretations suggest a hint of androgynous features, reflecting his complex and multifaceted nature. This is more a symbolic interpretation than a literal description.\n\nIn short, Demian's appearance is left largely to the reader's imagination. He's not described in detail because his significance lies in his influence on Sinclair's spiritual and psychological development, not his physical form.  Any visual representation would be an interpretation of the novel's themes and the reader's own perception of the character."
          },
          "metadata": {}
        }
      ]
    },
    {
      "cell_type": "markdown",
      "source": [
        "수고하셨습니다!"
      ],
      "metadata": {
        "id": "owSPP-WtXrZl"
      }
    }
  ]
}